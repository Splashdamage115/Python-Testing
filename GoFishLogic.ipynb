{
 "cells": [
  {
   "cell_type": "code",
   "execution_count": null,
   "id": "29e4ce76-4e85-48fe-a329-5df64467f581",
   "metadata": {},
   "outputs": [],
   "source": [
    "import cards"
   ]
  },
  {
   "cell_type": "code",
   "execution_count": null,
   "id": "3ed99758-cd61-4285-8516-14196ec63654",
   "metadata": {},
   "outputs": [],
   "source": [
    "deck = cards.cards_dict()"
   ]
  },
  {
   "cell_type": "code",
   "execution_count": null,
   "id": "abccf408-9b2f-4886-aa93-0ef1449b05e7",
   "metadata": {},
   "outputs": [],
   "source": [
    "len(deck)"
   ]
  },
  {
   "cell_type": "code",
   "execution_count": null,
   "id": "c3ba5eaf-7536-4790-8682-514595c6c68b",
   "metadata": {},
   "outputs": [],
   "source": [
    "computer = []"
   ]
  },
  {
   "cell_type": "code",
   "execution_count": null,
   "id": "8eca2781-9d4e-4d1f-9073-bcba341eac09",
   "metadata": {},
   "outputs": [],
   "source": [
    "player = []"
   ]
  },
  {
   "cell_type": "code",
   "execution_count": null,
   "id": "99251dd4-7654-4128-a213-be42d2f1551c",
   "metadata": {},
   "outputs": [],
   "source": [
    "for n in range(7):\n",
    "    print(n)"
   ]
  },
  {
   "cell_type": "code",
   "execution_count": null,
   "id": "7cec54d5-5ff8-46f3-a43e-8a24c5a75a57",
   "metadata": {},
   "outputs": [],
   "source": [
    "for _ in range(7):\n",
    "    print(\"I looped!\")"
   ]
  },
  {
   "cell_type": "code",
   "execution_count": null,
   "id": "a72ad3b6-82cc-4ef4-9466-1eb72358fefa",
   "metadata": {},
   "outputs": [],
   "source": [
    "_ = 42"
   ]
  },
  {
   "cell_type": "code",
   "execution_count": null,
   "id": "72968fe1-35e6-444e-88d9-0e01e6ac255f",
   "metadata": {},
   "outputs": [],
   "source": [
    "_"
   ]
  },
  {
   "cell_type": "code",
   "execution_count": null,
   "id": "e7beeb6b-1df5-4f62-9480-5fbadae4efc2",
   "metadata": {},
   "outputs": [],
   "source": [
    "for _ in range(7):\n",
    "    computer.append(deck.pop())\n",
    "    player.append(deck.pop())"
   ]
  },
  {
   "cell_type": "code",
   "execution_count": null,
   "id": "c98a8adf-e078-4c80-a6d7-3765fce3407a",
   "metadata": {},
   "outputs": [],
   "source": [
    "len(deck)"
   ]
  },
  {
   "cell_type": "code",
   "execution_count": null,
   "id": "a2f92d99-2c38-4a82-9186-e016cd4b8f36",
   "metadata": {},
   "outputs": [],
   "source": [
    "print(computer)"
   ]
  },
  {
   "cell_type": "code",
   "execution_count": null,
   "id": "9e5d9d8a-cf54-4030-b74d-6055e848f6f7",
   "metadata": {},
   "outputs": [],
   "source": [
    "print(player)"
   ]
  },
  {
   "cell_type": "code",
   "execution_count": null,
   "id": "71903a15-e551-4963-af2f-adde316a0fb6",
   "metadata": {},
   "outputs": [],
   "source": [
    "import cards\n",
    "\n",
    "deck = cards.build_deck()\n",
    "\n",
    "computer = []\n",
    "player = []\n",
    "\n",
    "for _ in range(7):\n",
    "    computer.append(deck.pop())\n",
    "    player.append(deck.pop())\n",
    "\n",
    "print(f\"Here are your current cards:\\n\\n{player}\")"
   ]
  },
  {
   "cell_type": "code",
   "execution_count": null,
   "id": "b306d89b-4eef-4462-ba86-cf5104877245",
   "metadata": {},
   "outputs": [],
   "source": [
    "computer"
   ]
  },
  {
   "cell_type": "code",
   "execution_count": null,
   "id": "f2b766a4-f2b8-49f2-b1f2-69531448554d",
   "metadata": {},
   "outputs": [],
   "source": [
    "player"
   ]
  },
  {
   "cell_type": "code",
   "execution_count": null,
   "id": "3ae3db93-398c-498e-8f32-0de019c231ef",
   "metadata": {},
   "outputs": [],
   "source": [
    "player.sort()"
   ]
  },
  {
   "cell_type": "code",
   "execution_count": null,
   "id": "9a348ecc-b784-4cfb-b19b-2e4e13524ead",
   "metadata": {},
   "outputs": [],
   "source": [
    "player"
   ]
  },
  {
   "cell_type": "code",
   "execution_count": null,
   "id": "9536f524-d9e8-4631-afb9-ab2bed2366eb",
   "metadata": {},
   "outputs": [],
   "source": [
    "computer.sort()"
   ]
  },
  {
   "cell_type": "code",
   "execution_count": null,
   "id": "5e736371-47e2-4ef8-8121-57281729abad",
   "metadata": {},
   "outputs": [],
   "source": [
    "computer"
   ]
  },
  {
   "cell_type": "code",
   "execution_count": null,
   "id": "a3ef01b3-797c-4062-9826-5f81db452e19",
   "metadata": {},
   "outputs": [],
   "source": [
    "card = \"Queen of Hearts\""
   ]
  },
  {
   "cell_type": "code",
   "execution_count": null,
   "id": "10a2ede6-dfc8-430b-87f3-01d0966af05b",
   "metadata": {},
   "outputs": [],
   "source": [
    "card"
   ]
  },
  {
   "cell_type": "code",
   "execution_count": null,
   "id": "361caa3b-422e-439e-a89a-2606cc83adb4",
   "metadata": {},
   "outputs": [],
   "source": [
    "print(dir(str))"
   ]
  },
  {
   "cell_type": "code",
   "execution_count": null,
   "id": "0e182f7c-c3c6-4a36-9237-12eb58898681",
   "metadata": {},
   "outputs": [],
   "source": [
    "card.find(\" \")"
   ]
  },
  {
   "cell_type": "code",
   "execution_count": null,
   "id": "30a27868-266a-4e83-a206-3fa62821789a",
   "metadata": {},
   "outputs": [],
   "source": [
    "card[:2]"
   ]
  },
  {
   "cell_type": "code",
   "execution_count": null,
   "id": "77fd242d-2d03-4bf7-97f9-7965cbee2255",
   "metadata": {},
   "outputs": [],
   "source": [
    "card[:card.find(\" \")]"
   ]
  },
  {
   "cell_type": "code",
   "execution_count": null,
   "id": "33efbc14-46c1-4c74-a469-c09fc40857a1",
   "metadata": {},
   "outputs": [],
   "source": [
    "player"
   ]
  },
  {
   "cell_type": "raw",
   "id": "94f931f9-870c-4b09-a478-ea67c01f6220",
   "metadata": {},
   "source": [
    "\n",
    "for card in player:\n",
    "    current = card[:card.find(\" \")]\n",
    "    _next = ?????????????\n",
    "    print(current)\n"
   ]
  },
  {
   "cell_type": "code",
   "execution_count": null,
   "id": "445ec6e8-b941-4272-8a71-f00add263681",
   "metadata": {},
   "outputs": [],
   "source": [
    "how_many = len(player)"
   ]
  },
  {
   "cell_type": "code",
   "execution_count": null,
   "id": "a9ee6b0b-b963-494e-9d55-27ab7e0e2211",
   "metadata": {},
   "outputs": [],
   "source": [
    "how_many"
   ]
  },
  {
   "cell_type": "code",
   "execution_count": null,
   "id": "6583320a-0aa5-46dc-9893-8355a11b764c",
   "metadata": {},
   "outputs": [],
   "source": [
    "list(range(how_many))"
   ]
  },
  {
   "cell_type": "code",
   "execution_count": null,
   "id": "12f98da4-f920-4c72-bdd1-ff86d19ce424",
   "metadata": {},
   "outputs": [],
   "source": []
  },
  {
   "cell_type": "code",
   "execution_count": null,
   "id": "24bdbdab-b8b3-41c9-a419-e9a32bec63ae",
   "metadata": {},
   "outputs": [],
   "source": [
    "for i in range(how_many):\n",
    "    current_card = player[i]\n",
    "    _current = current_card[:current_card.find(\" \")]\n",
    "    next_card = player[i+1]\n",
    "    _next = next_card[:next_card.find(\" \")]\n",
    "\n",
    "    print(_current, _next)"
   ]
  },
  {
   "cell_type": "code",
   "execution_count": null,
   "id": "a27d8ed7-c86c-416e-bad6-b3e3448e32c1",
   "metadata": {},
   "outputs": [],
   "source": [
    "player = ['10 of Diamonds',\n",
    "          '10 of Spades',\n",
    "          '4 of Clubs',\n",
    "          '6 of Diamonds',\n",
    "          '8 of Clubs',\n",
    "          'Ace of Clubs',\n",
    "          'King of Clubs']\n",
    "\n",
    "for i in range(how_many):\n",
    "    current_card = player[i]\n",
    "    _current = current_card[:current_card.find(\" \")]\n",
    "    next_card = player[i+1]\n",
    "    _next = next_card[:next_card.find(\" \")]\n",
    "\n",
    "    print(_current, _next)\n",
    "    \n",
    "    if _current == _next:\n",
    "        print(len(player))\n",
    "        print(player.pop(i))\n",
    "        print(player.pop(i+1))\n",
    "        print(len(player))\n",
    "    \n",
    "    print(_current, _next)"
   ]
  },
  {
   "cell_type": "code",
   "execution_count": null,
   "id": "d8ecfc25-a3f4-40e5-aa28-9cd40592280e",
   "metadata": {},
   "outputs": [],
   "source": [
    "player"
   ]
  },
  {
   "cell_type": "code",
   "execution_count": null,
   "id": "7ad75b9b-e1a2-457a-aa1b-dac958b75b0b",
   "metadata": {},
   "outputs": [],
   "source": [
    "player"
   ]
  },
  {
   "cell_type": "code",
   "execution_count": null,
   "id": "77d1194c-0ba0-44ba-89f2-24befdb46811",
   "metadata": {},
   "outputs": [],
   "source": [
    "values = []\n",
    "for card in player:\n",
    "    value = card[:card.find(\" \")]\n",
    "    values.append(value)"
   ]
  },
  {
   "cell_type": "code",
   "execution_count": null,
   "id": "d04cdf45-9354-4693-8891-fe9fbdde726b",
   "metadata": {},
   "outputs": [],
   "source": [
    "from collections import Counter"
   ]
  },
  {
   "cell_type": "code",
   "execution_count": null,
   "id": "6caed861-7115-47b1-a3b3-6946d9b34a3d",
   "metadata": {},
   "outputs": [],
   "source": [
    "c = Counter(values)"
   ]
  },
  {
   "cell_type": "code",
   "execution_count": null,
   "id": "3ddccc2a-4fab-405f-97e2-341b29a707fe",
   "metadata": {},
   "outputs": [],
   "source": [
    "c"
   ]
  },
  {
   "cell_type": "code",
   "execution_count": null,
   "id": "648a0395-b1b3-4c3d-a5da-f1a4ee61eb72",
   "metadata": {},
   "outputs": [],
   "source": [
    "for k, v in c.items():\n",
    "    print(k, \" --> \", v)"
   ]
  },
  {
   "cell_type": "code",
   "execution_count": null,
   "id": "83ea826c-4629-400c-bd8c-f66b787692e7",
   "metadata": {},
   "outputs": [],
   "source": [
    "pairs = []\n",
    "for k, v in c.items(): # k is the key part, v is the value\n",
    "    if v == 2:\n",
    "        pairs.append(k)\n",
    "pairs"
   ]
  },
  {
   "cell_type": "code",
   "execution_count": null,
   "id": "659cdb80-ca21-491b-9bdb-08a13faf73c9",
   "metadata": {},
   "outputs": [],
   "source": [
    "print(player)"
   ]
  },
  {
   "cell_type": "code",
   "execution_count": null,
   "id": "f57bb4c0-a512-432c-b761-514ec7e3749f",
   "metadata": {},
   "outputs": [],
   "source": [
    "player_pairs = []"
   ]
  },
  {
   "cell_type": "code",
   "execution_count": null,
   "id": "3a4546dc-f733-4597-ac64-d25a0582cb1e",
   "metadata": {},
   "outputs": [],
   "source": [
    "to_remove = []\n",
    "for p in pairs:\n",
    "    for card in player:\n",
    "        if card.startswith(p):\n",
    "            to_remove.append(card)"
   ]
  },
  {
   "cell_type": "code",
   "execution_count": null,
   "id": "d98d0911-7f54-457b-b5f1-86eadf542582",
   "metadata": {},
   "outputs": [],
   "source": [
    "player_pairs.extend(to_remove)"
   ]
  },
  {
   "cell_type": "code",
   "execution_count": null,
   "id": "c765911a-7c4c-4528-a31e-ebc437692671",
   "metadata": {},
   "outputs": [],
   "source": [
    "player_pairs"
   ]
  },
  {
   "cell_type": "code",
   "execution_count": null,
   "id": "5918f5c9-3ee6-423f-8d53-a5248a6cbd4d",
   "metadata": {},
   "outputs": [],
   "source": [
    "for card in to_remove:\n",
    "    player.remove(card)"
   ]
  },
  {
   "cell_type": "code",
   "execution_count": null,
   "id": "9f5db0fd-370c-471c-9c17-c65778f970fc",
   "metadata": {},
   "outputs": [],
   "source": [
    "player"
   ]
  },
  {
   "cell_type": "code",
   "execution_count": null,
   "id": "4b7f1cde-33c4-4afc-9480-9ffd3b3ddfb7",
   "metadata": {},
   "outputs": [],
   "source": []
  },
  {
   "cell_type": "code",
   "execution_count": null,
   "id": "d0548403-aff2-41bd-970b-22b06c991970",
   "metadata": {},
   "outputs": [],
   "source": []
  },
  {
   "cell_type": "code",
   "execution_count": null,
   "id": "81f9eb10-e4e1-4d1e-b165-9595212cf104",
   "metadata": {},
   "outputs": [],
   "source": [
    "import cards\n",
    "\n",
    "deck = cards.generateDeck()\n",
    "\n",
    "computer = []\n",
    "player = []\n",
    "\n",
    "for _ in range(7):\n",
    "    computer.append(deck.pop())\n",
    "    player.append(deck.pop())\n",
    "\n",
    "player.sort()\n",
    "computer.sort()\n",
    "\n",
    "print(f\"Here are your current cards:\\n\\n{player}\")\n",
    "print(f\"Here are the computers current cards:\\n\\n{computer}\")"
   ]
  },
  {
   "cell_type": "code",
   "execution_count": null,
   "id": "c03165c9-fcc9-4048-bcde-029a9f7e6214",
   "metadata": {},
   "outputs": [],
   "source": [
    "player_pairs = []\n",
    "computer_pairs = []"
   ]
  },
  {
   "cell_type": "code",
   "execution_count": null,
   "id": "d67b78ee-0da3-460c-ad52-7e068163a051",
   "metadata": {},
   "outputs": [],
   "source": [
    "from collections import Counter\n",
    " \n",
    "def identify_remove_pairs(hand):\n",
    "    \"\"\" This function receives a list of cards (called \"hand\"), then processes them to \n",
    "        identify any pairs of cards, and if found removes the pairs from the hand and returns\n",
    "        two lists: the hand with the pairs removed, and a list of removed cards. \n",
    "    \"\"\"\n",
    "    thirds = []\n",
    "    values = []\n",
    "    for card in hand:\n",
    "        value = card[:card.find(\" \")]\n",
    "        values.append(value)    \n",
    "    c = Counter(values)\n",
    "    pairs = []\n",
    "    for k, v in c.items(): # k is the KEY part, v is the VALUE part.\n",
    "        if v in [2, 4]:\n",
    "            pairs.append(k)\n",
    "        elif v == 3:\n",
    "            thirds.append(k)\n",
    "            pairs.append(k)\n",
    "    add_back_in = []\n",
    "    for value in thirds:\n",
    "        for card in hand:\n",
    "            if card.startswith(value):\n",
    "                add_back_in.append(card)\n",
    "                break\n",
    "    to_remove = []\n",
    "    for p in pairs:\n",
    "        for card in hand:\n",
    "            if card.startswith(p):\n",
    "                to_remove.append(card)        \n",
    "    for card in to_remove:\n",
    "        hand.remove(card)\n",
    "    for card in add_back_in:\n",
    "        hand.append(card)\n",
    "        to_remove.remove(card)\n",
    "    return hand, to_remove"
   ]
  },
  {
   "cell_type": "code",
   "execution_count": null,
   "id": "b74ee030-4c7b-45e6-a201-97b611b61d37",
   "metadata": {},
   "outputs": [],
   "source": [
    "player"
   ]
  },
  {
   "cell_type": "code",
   "execution_count": null,
   "id": "f4e6b47a-f632-4ff3-8485-a8924c602bfd",
   "metadata": {},
   "outputs": [],
   "source": [
    "computer"
   ]
  },
  {
   "cell_type": "code",
   "execution_count": null,
   "id": "db9849c6-9977-4bb3-a1c3-27da160850be",
   "metadata": {},
   "outputs": [],
   "source": [
    "player, pairs = identify_remove_pairs(player)\n",
    "player_pairs.extend(pairs)\n",
    "\n",
    "computer, pairs = identify_remove_pairs(computer)\n",
    "computer_pairs.extend(pairs)"
   ]
  },
  {
   "cell_type": "code",
   "execution_count": null,
   "id": "e30b7b16-fc60-4b8f-83b1-eb29b7e440c8",
   "metadata": {},
   "outputs": [],
   "source": [
    "computer"
   ]
  },
  {
   "cell_type": "code",
   "execution_count": null,
   "id": "439c8663-9fda-4fdc-8b80-9777a33ee259",
   "metadata": {},
   "outputs": [],
   "source": [
    "computer_pairs"
   ]
  },
  {
   "cell_type": "code",
   "execution_count": null,
   "id": "a5b077ab-340d-4b8b-94bf-637fd01cef9a",
   "metadata": {},
   "outputs": [],
   "source": [
    "player"
   ]
  },
  {
   "cell_type": "code",
   "execution_count": null,
   "id": "e8664285-9f3a-4173-be94-1d7c3c157ae9",
   "metadata": {},
   "outputs": [],
   "source": [
    "player_pairs"
   ]
  },
  {
   "cell_type": "code",
   "execution_count": null,
   "id": "fd0302e3-d0cb-44f0-b8d2-a003cacfb57c",
   "metadata": {},
   "outputs": [],
   "source": []
  }
 ],
 "metadata": {
  "kernelspec": {
   "display_name": "Python 3 (ipykernel)",
   "language": "python",
   "name": "python3"
  },
  "language_info": {
   "codemirror_mode": {
    "name": "ipython",
    "version": 3
   },
   "file_extension": ".py",
   "mimetype": "text/x-python",
   "name": "python",
   "nbconvert_exporter": "python",
   "pygments_lexer": "ipython3",
   "version": "3.12.6"
  }
 },
 "nbformat": 4,
 "nbformat_minor": 5
}
