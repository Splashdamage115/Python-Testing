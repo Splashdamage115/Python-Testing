{
 "cells": [
  {
   "cell_type": "code",
   "execution_count": 1,
   "id": "5a3564c1-7d76-4411-a919-23d3e42c1536",
   "metadata": {},
   "outputs": [],
   "source": [
    "words = [\"This\", \"Is\", \"A\", \"message\", \"with\", \"lots\", \"of\", \"words\"]"
   ]
  },
  {
   "cell_type": "code",
   "execution_count": 2,
   "id": "2ae196d0-7bae-4eb7-80c7-85e80795e558",
   "metadata": {},
   "outputs": [
    {
     "data": {
      "text/plain": [
       "['This', 'Is', 'A', 'message', 'with', 'lots', 'of', 'words']"
      ]
     },
     "execution_count": 2,
     "metadata": {},
     "output_type": "execute_result"
    }
   ],
   "source": [
    "words"
   ]
  },
  {
   "cell_type": "code",
   "execution_count": 3,
   "id": "9a9f7477-a009-489a-bce2-62ce433f9a91",
   "metadata": {},
   "outputs": [],
   "source": [
    "words[0] = \"THIS\""
   ]
  },
  {
   "cell_type": "code",
   "execution_count": 4,
   "id": "724da085-326d-4fa7-88f5-812a389bec19",
   "metadata": {},
   "outputs": [],
   "source": [
    "words.append(\"which\")"
   ]
  },
  {
   "cell_type": "code",
   "execution_count": 5,
   "id": "bbde8273-0609-4db0-bb23-ea1ebc3d1c6b",
   "metadata": {},
   "outputs": [
    {
     "data": {
      "text/plain": [
       "['THIS', 'Is', 'A', 'message', 'with', 'lots', 'of', 'words', 'which']"
      ]
     },
     "execution_count": 5,
     "metadata": {},
     "output_type": "execute_result"
    }
   ],
   "source": [
    "words"
   ]
  },
  {
   "cell_type": "code",
   "execution_count": 8,
   "id": "32c6cd01-7776-4041-8842-86e5bafe5abe",
   "metadata": {},
   "outputs": [
    {
     "name": "stdout",
     "output_type": "stream",
     "text": [
      "THIS\n",
      "Is\n",
      "A\n",
      "message\n",
      "with\n",
      "lots\n",
      "of\n",
      "words\n",
      "which\n"
     ]
    }
   ],
   "source": [
    "for w in words:\n",
    "    print(w)"
   ]
  },
  {
   "cell_type": "code",
   "execution_count": 10,
   "id": "5e5a60a7-0cf7-4219-a116-d33b15bb740b",
   "metadata": {},
   "outputs": [
    {
     "name": "stdout",
     "output_type": "stream",
     "text": [
      "A\n",
      "Is\n",
      "lots\n",
      "message\n",
      "of\n",
      "THIS\n",
      "which\n",
      "with\n",
      "words\n"
     ]
    }
   ],
   "source": [
    "for w in sorted(words, key=str.lower):\n",
    "    print(w)"
   ]
  },
  {
   "cell_type": "code",
   "execution_count": 11,
   "id": "8ee8a4de-0927-4dba-9a28-c97436a6eb3b",
   "metadata": {},
   "outputs": [
    {
     "name": "stdout",
     "output_type": "stream",
     "text": [
      "words\n",
      "with\n",
      "which\n",
      "THIS\n",
      "of\n",
      "message\n",
      "lots\n",
      "Is\n",
      "A\n"
     ]
    }
   ],
   "source": [
    "for w in sorted(words, key=str.lower, reverse=True):\n",
    "    print(w)"
   ]
  },
  {
   "cell_type": "code",
   "execution_count": 12,
   "id": "067a5f09-3b61-4675-9410-55fe25b284aa",
   "metadata": {},
   "outputs": [],
   "source": [
    "nums = [1, 4, 2, 7, 8, 1, 7, 9]"
   ]
  },
  {
   "cell_type": "code",
   "execution_count": 13,
   "id": "b17bcb30-44e5-4648-895b-eddb2ae34912",
   "metadata": {},
   "outputs": [
    {
     "data": {
      "text/plain": [
       "[1, 1, 2, 4, 7, 7, 8, 9]"
      ]
     },
     "execution_count": 13,
     "metadata": {},
     "output_type": "execute_result"
    }
   ],
   "source": [
    "sorted(nums)"
   ]
  },
  {
   "cell_type": "code",
   "execution_count": 14,
   "id": "1421334d-0418-4bb5-aa3a-faa3cd4b7aec",
   "metadata": {},
   "outputs": [
    {
     "data": {
      "text/plain": [
       "[9, 8, 7, 7, 4, 2, 1, 1]"
      ]
     },
     "execution_count": 14,
     "metadata": {},
     "output_type": "execute_result"
    }
   ],
   "source": [
    "sorted(nums, reverse=True)"
   ]
  },
  {
   "cell_type": "code",
   "execution_count": 15,
   "id": "daccd532-7e8a-44c1-a5a4-00f2337809d3",
   "metadata": {},
   "outputs": [],
   "source": [
    "nums2 = [1, 4, 2, 7,\"42\" , 8, 1, 7, 9]"
   ]
  },
  {
   "cell_type": "code",
   "execution_count": 16,
   "id": "7d00045f-62ce-4656-a3e5-51916b5d8d69",
   "metadata": {},
   "outputs": [
    {
     "ename": "TypeError",
     "evalue": "'<' not supported between instances of 'str' and 'int'",
     "output_type": "error",
     "traceback": [
      "\u001b[1;31m---------------------------------------------------------------------------\u001b[0m",
      "\u001b[1;31mTypeError\u001b[0m                                 Traceback (most recent call last)",
      "Cell \u001b[1;32mIn[16], line 1\u001b[0m\n\u001b[1;32m----> 1\u001b[0m \u001b[38;5;28;43msorted\u001b[39;49m\u001b[43m(\u001b[49m\u001b[43mnums2\u001b[49m\u001b[43m)\u001b[49m\n",
      "\u001b[1;31mTypeError\u001b[0m: '<' not supported between instances of 'str' and 'int'"
     ]
    }
   ],
   "source": [
    "sorted(nums2)"
   ]
  },
  {
   "cell_type": "code",
   "execution_count": 17,
   "id": "c97cde9c-7548-481e-a831-c6521e077807",
   "metadata": {},
   "outputs": [
    {
     "data": {
      "text/plain": [
       "[1, 1, 2, 4, 7, 7, 8, 9, '42']"
      ]
     },
     "execution_count": 17,
     "metadata": {},
     "output_type": "execute_result"
    }
   ],
   "source": [
    "sorted(nums2, key=int)"
   ]
  },
  {
   "cell_type": "code",
   "execution_count": 18,
   "id": "7561f78a-b27a-4705-80ad-d9e5fcfbdea7",
   "metadata": {},
   "outputs": [],
   "source": [
    "nums3 = [1, \"four\", 2,\"seven\", 7,\"42\" , 8, 1, 7, \"nine\"]"
   ]
  },
  {
   "cell_type": "code",
   "execution_count": 20,
   "id": "b58cd9c6-c34c-4a07-8aa2-7cc668e1e4a9",
   "metadata": {},
   "outputs": [
    {
     "ename": "ValueError",
     "evalue": "invalid literal for int() with base 10: 'four'",
     "output_type": "error",
     "traceback": [
      "\u001b[1;31m---------------------------------------------------------------------------\u001b[0m",
      "\u001b[1;31mValueError\u001b[0m                                Traceback (most recent call last)",
      "Cell \u001b[1;32mIn[20], line 1\u001b[0m\n\u001b[1;32m----> 1\u001b[0m \u001b[38;5;28;43msorted\u001b[39;49m\u001b[43m(\u001b[49m\u001b[43mnums3\u001b[49m\u001b[43m,\u001b[49m\u001b[43m \u001b[49m\u001b[43mkey\u001b[49m\u001b[38;5;241;43m=\u001b[39;49m\u001b[38;5;28;43mint\u001b[39;49m\u001b[43m)\u001b[49m\n",
      "\u001b[1;31mValueError\u001b[0m: invalid literal for int() with base 10: 'four'"
     ]
    }
   ],
   "source": [
    "sorted(nums3, key=int)"
   ]
  },
  {
   "cell_type": "code",
   "execution_count": 21,
   "id": "aff12359-e2e6-4b16-8cf3-64ca7498639c",
   "metadata": {},
   "outputs": [
    {
     "data": {
      "text/plain": [
       "[1, 1, 2, '42', 7, 7, 8, 'four', 'nine', 'seven']"
      ]
     },
     "execution_count": 21,
     "metadata": {},
     "output_type": "execute_result"
    }
   ],
   "source": [
    "sorted(nums3, key=str)"
   ]
  },
  {
   "cell_type": "code",
   "execution_count": 24,
   "id": "31fc6b61-b01f-4f4c-bf75-a94220a3ad84",
   "metadata": {},
   "outputs": [],
   "source": [
    "def convertToNum(t_input):\n",
    "    if t_input ==   \"one\"  : return 1\n",
    "    elif t_input == \"two\"  : return 2\n",
    "    elif t_input == \"three\": return 3\n",
    "    elif t_input == \"four\" : return 4\n",
    "    elif t_input == \"five\" : return 5\n",
    "    elif t_input == \"six\"  : return 6\n",
    "    elif t_input == \"seven\": return 7\n",
    "    elif t_input == \"eight\": return 8\n",
    "    elif t_input == \"nine\" : return 9\n",
    "    return t_input"
   ]
  },
  {
   "cell_type": "code",
   "execution_count": 25,
   "id": "15822b60-677b-4241-a40c-bde137d29e00",
   "metadata": {},
   "outputs": [
    {
     "data": {
      "text/plain": [
       "3"
      ]
     },
     "execution_count": 25,
     "metadata": {},
     "output_type": "execute_result"
    }
   ],
   "source": [
    "convertToNum(\"three\")"
   ]
  },
  {
   "cell_type": "code",
   "execution_count": 26,
   "id": "269330b0-9a4f-4d08-9ab4-dc85a8115086",
   "metadata": {},
   "outputs": [
    {
     "ename": "TypeError",
     "evalue": "'<' not supported between instances of 'str' and 'int'",
     "output_type": "error",
     "traceback": [
      "\u001b[1;31m---------------------------------------------------------------------------\u001b[0m",
      "\u001b[1;31mTypeError\u001b[0m                                 Traceback (most recent call last)",
      "Cell \u001b[1;32mIn[26], line 1\u001b[0m\n\u001b[1;32m----> 1\u001b[0m \u001b[38;5;28;43msorted\u001b[39;49m\u001b[43m(\u001b[49m\u001b[43mnums3\u001b[49m\u001b[43m,\u001b[49m\u001b[43m \u001b[49m\u001b[43mkey\u001b[49m\u001b[38;5;241;43m=\u001b[39;49m\u001b[43mconvertToNum\u001b[49m\u001b[43m)\u001b[49m\n",
      "\u001b[1;31mTypeError\u001b[0m: '<' not supported between instances of 'str' and 'int'"
     ]
    }
   ],
   "source": [
    "sorted(nums3, key=convertToNum)"
   ]
  },
  {
   "cell_type": "code",
   "execution_count": 27,
   "id": "212f9bf2-b039-4005-874e-fb9272bd46f5",
   "metadata": {},
   "outputs": [],
   "source": [
    "nums4 = [1, 1, 2, 7, 7, 8, 'four', 'nine', 'seven']"
   ]
  },
  {
   "cell_type": "code",
   "execution_count": 28,
   "id": "f4fecf63-2f63-4eb2-a243-215e3aa18440",
   "metadata": {},
   "outputs": [
    {
     "data": {
      "text/plain": [
       "[1, 1, 2, 'four', 7, 7, 'seven', 8, 'nine']"
      ]
     },
     "execution_count": 28,
     "metadata": {},
     "output_type": "execute_result"
    }
   ],
   "source": [
    "sorted(nums4, key=convertToNum)"
   ]
  },
  {
   "cell_type": "code",
   "execution_count": 32,
   "id": "e3fe07df-37af-4cd1-9e3c-63e30e528e3c",
   "metadata": {},
   "outputs": [],
   "source": [
    "def convertToNum(t_input):\n",
    "    t_input = str(t_input) # fix issue of string assumption\n",
    "    t_input = t_input.strip()\n",
    "    if t_input.isdigit() : return int(t_input) # fixed code now contains checks for \"42\" and such\n",
    "    if t_input ==   \"one\"  : return 1\n",
    "    elif t_input == \"two\"  : return 2\n",
    "    elif t_input == \"three\": return 3\n",
    "    elif t_input == \"four\" : return 4\n",
    "    elif t_input == \"five\" : return 5\n",
    "    elif t_input == \"six\"  : return 6\n",
    "    elif t_input == \"seven\": return 7\n",
    "    elif t_input == \"eight\": return 8\n",
    "    elif t_input == \"nine\" : return 9\n",
    "    return t_input"
   ]
  },
  {
   "cell_type": "code",
   "execution_count": 34,
   "id": "4ecc84a8-97f1-4d8b-baa5-f4096f4b4a7f",
   "metadata": {
    "scrolled": true
   },
   "outputs": [
    {
     "data": {
      "text/plain": [
       "42"
      ]
     },
     "execution_count": 34,
     "metadata": {},
     "output_type": "execute_result"
    }
   ],
   "source": [
    "convertToNum(\"  42  \")"
   ]
  },
  {
   "cell_type": "code",
   "execution_count": 35,
   "id": "e847bc93-e638-4b3b-a612-86c463208a32",
   "metadata": {},
   "outputs": [
    {
     "data": {
      "text/plain": [
       "[1, 1, 2, 'four', 'seven', 7, 7, 8, 'nine', '42']"
      ]
     },
     "execution_count": 35,
     "metadata": {},
     "output_type": "execute_result"
    }
   ],
   "source": [
    "sorted(nums3, key=convertToNum)"
   ]
  },
  {
   "cell_type": "code",
   "execution_count": 36,
   "id": "3df9052b-1d8c-4bfe-b7bf-464113a0d7c7",
   "metadata": {},
   "outputs": [],
   "source": [
    "def convertToNum(t_input):\n",
    "    \"\"\"\n",
    "    This function can take a digit or a string,\n",
    "    then perform a simple numeric conversion on it\n",
    "    \"\"\"\n",
    "    t_input = str(t_input) # fix issue of string assumption\n",
    "    t_input = t_input.strip()\n",
    "    if t_input.isdigit() : return int(t_input) # fixed code now contains checks for \"42\" and such\n",
    "    if t_input ==   \"one\"  : return 1\n",
    "    elif t_input == \"two\"  : return 2\n",
    "    elif t_input == \"three\": return 3\n",
    "    elif t_input == \"four\" : return 4\n",
    "    elif t_input == \"five\" : return 5\n",
    "    elif t_input == \"six\"  : return 6\n",
    "    elif t_input == \"seven\": return 7\n",
    "    elif t_input == \"eight\": return 8\n",
    "    elif t_input == \"nine\" : return 9\n",
    "    return t_input"
   ]
  },
  {
   "cell_type": "code",
   "execution_count": 38,
   "id": "4024cd4c-c535-4ebb-b097-be3c5ceb696f",
   "metadata": {},
   "outputs": [
    {
     "name": "stdout",
     "output_type": "stream",
     "text": [
      "Help on function convertToNum in module __main__:\n",
      "\n",
      "convertToNum(t_input)\n",
      "    This function can take a digit or a string,\n",
      "    then perform a simple numeric conversion on it\n",
      "\n"
     ]
    }
   ],
   "source": [
    "help(convertToNum)"
   ]
  },
  {
   "cell_type": "code",
   "execution_count": 39,
   "id": "17567d09-45e8-44af-8f7f-8a0eb58c37cb",
   "metadata": {},
   "outputs": [
    {
     "name": "stdout",
     "output_type": "stream",
     "text": [
      "['__add__', '__class__', '__class_getitem__', '__contains__', '__delattr__', '__delitem__', '__dir__', '__doc__', '__eq__', '__format__', '__ge__', '__getattribute__', '__getitem__', '__getstate__', '__gt__', '__hash__', '__iadd__', '__imul__', '__init__', '__init_subclass__', '__iter__', '__le__', '__len__', '__lt__', '__mul__', '__ne__', '__new__', '__reduce__', '__reduce_ex__', '__repr__', '__reversed__', '__rmul__', '__setattr__', '__setitem__', '__sizeof__', '__str__', '__subclasshook__', 'append', 'clear', 'copy', 'count', 'extend', 'index', 'insert', 'pop', 'remove', 'reverse', 'sort']\n"
     ]
    }
   ],
   "source": [
    "print(dir(words))"
   ]
  },
  {
   "cell_type": "code",
   "execution_count": 40,
   "id": "d0f5726d-7431-43da-9905-f9eca1be4a37",
   "metadata": {},
   "outputs": [],
   "source": [
    "words.append(\"doth\")"
   ]
  },
  {
   "cell_type": "code",
   "execution_count": 41,
   "id": "70f9540e-47ef-4bcf-b1ef-ffc8f30894a9",
   "metadata": {},
   "outputs": [
    {
     "data": {
      "text/plain": [
       "10"
      ]
     },
     "execution_count": 41,
     "metadata": {},
     "output_type": "execute_result"
    }
   ],
   "source": [
    "len(words)"
   ]
  },
  {
   "cell_type": "code",
   "execution_count": 42,
   "id": "c075a62f-c3d5-4558-8f81-864bd86da348",
   "metadata": {},
   "outputs": [
    {
     "data": {
      "text/plain": [
       "['THIS', 'Is', 'A', 'message', 'with', 'lots', 'of', 'words', 'which', 'doth']"
      ]
     },
     "execution_count": 42,
     "metadata": {},
     "output_type": "execute_result"
    }
   ],
   "source": [
    "words"
   ]
  },
  {
   "cell_type": "code",
   "execution_count": 43,
   "id": "c378661b-3bbe-43f1-9c7c-65974b709a8c",
   "metadata": {},
   "outputs": [],
   "source": [
    "words.clear()"
   ]
  },
  {
   "cell_type": "code",
   "execution_count": 44,
   "id": "517737c4-2fc1-4df5-a816-1ffb3f4c40bf",
   "metadata": {},
   "outputs": [
    {
     "data": {
      "text/plain": [
       "[]"
      ]
     },
     "execution_count": 44,
     "metadata": {},
     "output_type": "execute_result"
    }
   ],
   "source": [
    "words"
   ]
  },
  {
   "cell_type": "code",
   "execution_count": 45,
   "id": "4a6036de-e47d-4def-9809-dd0ec9c2a4c7",
   "metadata": {},
   "outputs": [],
   "source": [
    "words = ['THIS', 'Is', 'A', 'message', 'with', 'lots', 'of', 'words', 'which', 'doth']"
   ]
  },
  {
   "cell_type": "code",
   "execution_count": 46,
   "id": "a53bc4b0-613e-4dd6-96b6-b5eb448ab19c",
   "metadata": {},
   "outputs": [
    {
     "data": {
      "text/plain": [
       "['THIS', 'Is', 'A', 'message', 'with', 'lots', 'of', 'words', 'which', 'doth']"
      ]
     },
     "execution_count": 46,
     "metadata": {},
     "output_type": "execute_result"
    }
   ],
   "source": [
    "words"
   ]
  },
  {
   "cell_type": "code",
   "execution_count": 47,
   "id": "ad2b6730-2c64-4ad9-8e64-5a9a9ac44b8f",
   "metadata": {},
   "outputs": [],
   "source": [
    "words2 = words"
   ]
  },
  {
   "cell_type": "code",
   "execution_count": 48,
   "id": "b760a8e4-3887-4010-a3f6-ebdda51ce3ed",
   "metadata": {},
   "outputs": [
    {
     "data": {
      "text/plain": [
       "['THIS', 'Is', 'A', 'message', 'with', 'lots', 'of', 'words', 'which', 'doth']"
      ]
     },
     "execution_count": 48,
     "metadata": {},
     "output_type": "execute_result"
    }
   ],
   "source": [
    "words2"
   ]
  },
  {
   "cell_type": "code",
   "execution_count": 49,
   "id": "f2eb01ca-1211-4e7e-8703-976dec396ed8",
   "metadata": {},
   "outputs": [],
   "source": [
    "words = []"
   ]
  },
  {
   "cell_type": "code",
   "execution_count": 50,
   "id": "1e2805d4-222a-407a-9724-4d8c1bb7dceb",
   "metadata": {},
   "outputs": [
    {
     "data": {
      "text/plain": [
       "['THIS', 'Is', 'A', 'message', 'with', 'lots', 'of', 'words', 'which', 'doth']"
      ]
     },
     "execution_count": 50,
     "metadata": {},
     "output_type": "execute_result"
    }
   ],
   "source": [
    "words2"
   ]
  },
  {
   "cell_type": "code",
   "execution_count": 51,
   "id": "98bbfb89-6ddb-46ff-b1e0-340d5c1d0ed6",
   "metadata": {},
   "outputs": [],
   "source": [
    "words = words2"
   ]
  },
  {
   "cell_type": "code",
   "execution_count": 52,
   "id": "eca6268d-a031-4c18-8cc0-656b78957309",
   "metadata": {},
   "outputs": [
    {
     "data": {
      "text/plain": [
       "['THIS', 'Is', 'A', 'message', 'with', 'lots', 'of', 'words', 'which', 'doth']"
      ]
     },
     "execution_count": 52,
     "metadata": {},
     "output_type": "execute_result"
    }
   ],
   "source": [
    "words"
   ]
  },
  {
   "cell_type": "code",
   "execution_count": 53,
   "id": "7668b042-cc1e-4721-90a8-7ab834cda561",
   "metadata": {},
   "outputs": [],
   "source": [
    "words.append(\"ah ha\")"
   ]
  },
  {
   "cell_type": "code",
   "execution_count": 54,
   "id": "915c8e73-d654-4980-a6e9-13bb35d45368",
   "metadata": {},
   "outputs": [
    {
     "data": {
      "text/plain": [
       "['THIS',\n",
       " 'Is',\n",
       " 'A',\n",
       " 'message',\n",
       " 'with',\n",
       " 'lots',\n",
       " 'of',\n",
       " 'words',\n",
       " 'which',\n",
       " 'doth',\n",
       " 'ah ha']"
      ]
     },
     "execution_count": 54,
     "metadata": {},
     "output_type": "execute_result"
    }
   ],
   "source": [
    "words"
   ]
  },
  {
   "cell_type": "code",
   "execution_count": 55,
   "id": "ef87da5c-3857-44a7-9e23-1fb9b4881ab5",
   "metadata": {},
   "outputs": [
    {
     "data": {
      "text/plain": [
       "['THIS',\n",
       " 'Is',\n",
       " 'A',\n",
       " 'message',\n",
       " 'with',\n",
       " 'lots',\n",
       " 'of',\n",
       " 'words',\n",
       " 'which',\n",
       " 'doth',\n",
       " 'ah ha']"
      ]
     },
     "execution_count": 55,
     "metadata": {},
     "output_type": "execute_result"
    }
   ],
   "source": [
    "words2"
   ]
  },
  {
   "cell_type": "code",
   "execution_count": 56,
   "id": "61456222-585b-4705-ba4e-b47e88145c7d",
   "metadata": {},
   "outputs": [],
   "source": [
    "words.clear()"
   ]
  },
  {
   "cell_type": "code",
   "execution_count": 57,
   "id": "0dcb98b1-a085-498f-8cdc-3e5be68558c4",
   "metadata": {},
   "outputs": [
    {
     "data": {
      "text/plain": [
       "[]"
      ]
     },
     "execution_count": 57,
     "metadata": {},
     "output_type": "execute_result"
    }
   ],
   "source": [
    "words"
   ]
  },
  {
   "cell_type": "code",
   "execution_count": 58,
   "id": "c185afdf-68d0-426f-a27b-479635b9789b",
   "metadata": {},
   "outputs": [
    {
     "data": {
      "text/plain": [
       "[]"
      ]
     },
     "execution_count": 58,
     "metadata": {},
     "output_type": "execute_result"
    }
   ],
   "source": [
    "words2"
   ]
  },
  {
   "cell_type": "code",
   "execution_count": 59,
   "id": "181fede2-54e2-4436-b17c-bb82f1a299e9",
   "metadata": {},
   "outputs": [],
   "source": [
    "words = \"thus is a test\".split()"
   ]
  },
  {
   "cell_type": "code",
   "execution_count": 60,
   "id": "0a026cd2-e4e3-4a18-a266-65b64d9f7a1a",
   "metadata": {},
   "outputs": [],
   "source": [
    "words2 = words.copy()"
   ]
  },
  {
   "cell_type": "code",
   "execution_count": 61,
   "id": "b80918f8-c667-48ad-809b-d2ecba06e8d6",
   "metadata": {},
   "outputs": [],
   "source": [
    "words.append(\"world\")"
   ]
  },
  {
   "cell_type": "code",
   "execution_count": 62,
   "id": "db2dece7-a0d7-4ee4-bf0b-9fa8ebdc55b9",
   "metadata": {},
   "outputs": [
    {
     "data": {
      "text/plain": [
       "['thus', 'is', 'a', 'test', 'world']"
      ]
     },
     "execution_count": 62,
     "metadata": {},
     "output_type": "execute_result"
    }
   ],
   "source": [
    "words"
   ]
  },
  {
   "cell_type": "code",
   "execution_count": 63,
   "id": "3b5332ba-6e47-4110-8b73-31eae18e380f",
   "metadata": {},
   "outputs": [
    {
     "data": {
      "text/plain": [
       "['thus', 'is', 'a', 'test']"
      ]
     },
     "execution_count": 63,
     "metadata": {},
     "output_type": "execute_result"
    }
   ],
   "source": [
    "words2"
   ]
  },
  {
   "cell_type": "code",
   "execution_count": 64,
   "id": "e08502ea-e53d-4f5e-b98e-c42bafcff838",
   "metadata": {},
   "outputs": [],
   "source": [
    "words2.clear()"
   ]
  },
  {
   "cell_type": "code",
   "execution_count": 65,
   "id": "faeee9fc-1de2-44cf-8210-54069c3c0691",
   "metadata": {},
   "outputs": [
    {
     "data": {
      "text/plain": [
       "[]"
      ]
     },
     "execution_count": 65,
     "metadata": {},
     "output_type": "execute_result"
    }
   ],
   "source": [
    "words2"
   ]
  },
  {
   "cell_type": "code",
   "execution_count": 66,
   "id": "be1e8d7e-ad98-4450-b595-8cc2f0f54220",
   "metadata": {},
   "outputs": [
    {
     "data": {
      "text/plain": [
       "['thus', 'is', 'a', 'test', 'world']"
      ]
     },
     "execution_count": 66,
     "metadata": {},
     "output_type": "execute_result"
    }
   ],
   "source": [
    "words"
   ]
  },
  {
   "cell_type": "code",
   "execution_count": 67,
   "id": "372fb187-6e7b-4dca-aaf2-cc0342ad837b",
   "metadata": {},
   "outputs": [],
   "source": [
    "words2 = \"this is another long set of values\".split()"
   ]
  },
  {
   "cell_type": "code",
   "execution_count": 68,
   "id": "8856349b-add1-405b-92a7-471071d0e4c8",
   "metadata": {},
   "outputs": [],
   "source": [
    "words.extend(words2)"
   ]
  },
  {
   "cell_type": "code",
   "execution_count": 69,
   "id": "4249853f-243c-4f1a-8870-5e07723660ac",
   "metadata": {},
   "outputs": [
    {
     "data": {
      "text/plain": [
       "['thus',\n",
       " 'is',\n",
       " 'a',\n",
       " 'test',\n",
       " 'world',\n",
       " 'this',\n",
       " 'is',\n",
       " 'another',\n",
       " 'long',\n",
       " 'set',\n",
       " 'of',\n",
       " 'values']"
      ]
     },
     "execution_count": 69,
     "metadata": {},
     "output_type": "execute_result"
    }
   ],
   "source": [
    "words"
   ]
  },
  {
   "cell_type": "code",
   "execution_count": null,
   "id": "035f5fdb-8305-40d3-a937-2f5c45324a58",
   "metadata": {},
   "outputs": [],
   "source": []
  }
 ],
 "metadata": {
  "kernelspec": {
   "display_name": "Python 3 (ipykernel)",
   "language": "python",
   "name": "python3"
  },
  "language_info": {
   "codemirror_mode": {
    "name": "ipython",
    "version": 3
   },
   "file_extension": ".py",
   "mimetype": "text/x-python",
   "name": "python",
   "nbconvert_exporter": "python",
   "pygments_lexer": "ipython3",
   "version": "3.12.6"
  }
 },
 "nbformat": 4,
 "nbformat_minor": 5
}
