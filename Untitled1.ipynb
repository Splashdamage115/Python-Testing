{
 "cells": [
  {
   "cell_type": "code",
   "execution_count": 10,
   "id": "bf7d3db1-8ec4-4747-ac86-38b9435df0e0",
   "metadata": {},
   "outputs": [],
   "source": [
    "import cards\n",
    "deck = cards.cards_dict()"
   ]
  },
  {
   "cell_type": "code",
   "execution_count": 7,
   "id": "01e3b849-47af-48db-a174-cbe6760ee945",
   "metadata": {},
   "outputs": [
    {
     "ename": "KeyError",
     "evalue": "1",
     "output_type": "error",
     "traceback": [
      "\u001b[1;31m---------------------------------------------------------------------------\u001b[0m",
      "\u001b[1;31mKeyError\u001b[0m                                  Traceback (most recent call last)",
      "Cell \u001b[1;32mIn[7], line 2\u001b[0m\n\u001b[0;32m      1\u001b[0m deck \u001b[38;5;241m=\u001b[39m cards\u001b[38;5;241m.\u001b[39mcards_dict()\n\u001b[1;32m----> 2\u001b[0m player \u001b[38;5;241m=\u001b[39m \u001b[43mdeck\u001b[49m\u001b[43m[\u001b[49m\u001b[38;5;241;43m1\u001b[39;49m\u001b[43m]\u001b[49m\n\u001b[0;32m      3\u001b[0m how_many \u001b[38;5;241m=\u001b[39m \u001b[38;5;28mlen\u001b[39m(player)\n\u001b[0;32m      5\u001b[0m \u001b[38;5;28;01mfor\u001b[39;00m i \u001b[38;5;129;01min\u001b[39;00m (how_many):\n",
      "\u001b[1;31mKeyError\u001b[0m: 1"
     ]
    }
   ],
   "source": [
    "deck = cards.cards_dict()\n",
    "\n",
    "for i in \n",
    "\n",
    "how_many = len(player)\n",
    "\n",
    "for i in (how_many):\n",
    "    current_card = player[i]\n",
    "    _current = current_card[:current_card.find(\" \")]\n",
    "    next_card = player[i+1]\n",
    "    _next = next_card[:next_card.find(\" \")]\n",
    "\n",
    "    print(_current, _next)"
   ]
  },
  {
   "cell_type": "code",
   "execution_count": null,
   "id": "8e5c8ff8-fa0a-4bba-adb1-ca0ea66312f0",
   "metadata": {},
   "outputs": [],
   "source": []
  }
 ],
 "metadata": {
  "kernelspec": {
   "display_name": "Python 3 (ipykernel)",
   "language": "python",
   "name": "python3"
  },
  "language_info": {
   "codemirror_mode": {
    "name": "ipython",
    "version": 3
   },
   "file_extension": ".py",
   "mimetype": "text/x-python",
   "name": "python",
   "nbconvert_exporter": "python",
   "pygments_lexer": "ipython3",
   "version": "3.12.6"
  }
 },
 "nbformat": 4,
 "nbformat_minor": 5
}
