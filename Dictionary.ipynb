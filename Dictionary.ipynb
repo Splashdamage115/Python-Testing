{
 "cells": [
  {
   "cell_type": "code",
   "execution_count": 1,
   "id": "cbed9ec5-67c7-4670-b0fb-34f67f94d947",
   "metadata": {},
   "outputs": [],
   "source": [
    "details = {}"
   ]
  },
  {
   "cell_type": "code",
   "execution_count": 2,
   "id": "7c13b4ad-14f9-4db6-a61a-66fa1be7d6cc",
   "metadata": {},
   "outputs": [
    {
     "data": {
      "text/plain": [
       "dict"
      ]
     },
     "execution_count": 2,
     "metadata": {},
     "output_type": "execute_result"
    }
   ],
   "source": [
    "type(details)"
   ]
  },
  {
   "cell_type": "code",
   "execution_count": 5,
   "id": "62df8c27-4588-496d-bb67-156e556dad27",
   "metadata": {},
   "outputs": [],
   "source": [
    "fred = {\n",
    "    \"name\": \"Fred\",\n",
    "    \"age\": 18,\n",
    "    \"last\": \"Jones\",\n",
    "    \"location\": \"Carlow\"\n",
    "}"
   ]
  },
  {
   "cell_type": "code",
   "execution_count": 6,
   "id": "ad8e4e96-e876-4f4c-b3b6-7894e2ba515c",
   "metadata": {},
   "outputs": [
    {
     "data": {
      "text/plain": [
       "{'name': 'Fred', 'age': 18, 'last': 'Jones', 'location': 'Carlow'}"
      ]
     },
     "execution_count": 6,
     "metadata": {},
     "output_type": "execute_result"
    }
   ],
   "source": [
    "fred"
   ]
  },
  {
   "cell_type": "code",
   "execution_count": 7,
   "id": "c6f2bbf9-8f27-4663-9371-7d1ec08daf37",
   "metadata": {},
   "outputs": [
    {
     "data": {
      "text/plain": [
       "'Fred'"
      ]
     },
     "execution_count": 7,
     "metadata": {},
     "output_type": "execute_result"
    }
   ],
   "source": [
    "fred[\"name\"]"
   ]
  },
  {
   "cell_type": "code",
   "execution_count": 8,
   "id": "7dfd6c11-5a48-4536-8dcc-f7960034ac03",
   "metadata": {},
   "outputs": [],
   "source": [
    "fred[\"favourite\"] = \"Guitar\""
   ]
  },
  {
   "cell_type": "code",
   "execution_count": 9,
   "id": "5c6517ba-fc2c-40e2-bb08-a908a26f233d",
   "metadata": {},
   "outputs": [
    {
     "data": {
      "text/plain": [
       "{'name': 'Fred',\n",
       " 'age': 18,\n",
       " 'last': 'Jones',\n",
       " 'location': 'Carlow',\n",
       " 'favourite': 'Guitar'}"
      ]
     },
     "execution_count": 9,
     "metadata": {},
     "output_type": "execute_result"
    }
   ],
   "source": [
    "fred"
   ]
  },
  {
   "cell_type": "code",
   "execution_count": 13,
   "id": "c60a5463-043e-4b76-9ce5-497fa55e675b",
   "metadata": {},
   "outputs": [],
   "source": [
    "details = {\n",
    "    \"Fred\": {\n",
    "                \"last\": \"Jones\",\n",
    "                \"age\": 18,\n",
    "                \"location\": \"Carlow\"\n",
    "    },\n",
    "    \"David\": {\n",
    "                \"last\": \"Price\",\n",
    "                \"age\": 11,\n",
    "                \"location\": \"Kerry\"\n",
    "    },\n",
    "    \"Harry\": {\n",
    "                \"last\": \"Butle\",\n",
    "                \"age\": 21,\n",
    "                \"location\": \"Dublin\"\n",
    "    },\n",
    "    \"Mary\": {\n",
    "                \"last\": \"Murphy\",\n",
    "                \"age\": 32,\n",
    "                \"location\": \"Donegal\"\n",
    "    },\n",
    "    \"Julie\": {\n",
    "                \"last\": \"O'Neill\",\n",
    "                \"age\": 6,\n",
    "                \"location\": \"Laois\"\n",
    "    }\n",
    "}"
   ]
  },
  {
   "cell_type": "code",
   "execution_count": 15,
   "id": "c8867d58-2d2e-4203-8496-9a8bf170fd9c",
   "metadata": {},
   "outputs": [
    {
     "data": {
      "text/plain": [
       "{'Fred': {'last': 'Jones', 'age': 18, 'location': 'Carlow'},\n",
       " 'David': {'last': 'Price', 'age': 11, 'location': 'Kerry'},\n",
       " 'Harry': {'last': 'Butle', 'age': 21, 'location': 'Dublin'},\n",
       " 'Mary': {'last': 'Murphy', 'age': 32, 'location': 'Donegal'},\n",
       " 'Julie': {'last': \"O'Neill\", 'age': 6, 'location': 'Laois'}}"
      ]
     },
     "execution_count": 15,
     "metadata": {},
     "output_type": "execute_result"
    }
   ],
   "source": [
    "details"
   ]
  },
  {
   "cell_type": "code",
   "execution_count": 18,
   "id": "7638b020-23a2-4f47-8eb1-79188fcbb1c9",
   "metadata": {},
   "outputs": [
    {
     "data": {
      "text/plain": [
       "'Kerry'"
      ]
     },
     "execution_count": 18,
     "metadata": {},
     "output_type": "execute_result"
    }
   ],
   "source": [
    "details[\"David\"][\"location\"]"
   ]
  },
  {
   "cell_type": "code",
   "execution_count": 19,
   "id": "093ef11e-a5c4-4fbe-aae7-432a756984c2",
   "metadata": {},
   "outputs": [
    {
     "data": {
      "text/plain": [
       "['David', 'Fred', 'Harry', 'Julie', 'Mary']"
      ]
     },
     "execution_count": 19,
     "metadata": {},
     "output_type": "execute_result"
    }
   ],
   "source": [
    "sorted(details)"
   ]
  },
  {
   "cell_type": "code",
   "execution_count": 21,
   "id": "3d2a246c-57d0-446e-9eaa-888c102baf8a",
   "metadata": {},
   "outputs": [
    {
     "name": "stdout",
     "output_type": "stream",
     "text": [
      "David lives in Kerry.\n",
      "Fred lives in Carlow.\n",
      "Harry lives in Dublin.\n",
      "Julie lives in Laois.\n",
      "Mary lives in Donegal.\n"
     ]
    }
   ],
   "source": [
    "for person in sorted(details):\n",
    "    print(f\"{person} lives in {details[person][\"location\"]}.\")"
   ]
  },
  {
   "cell_type": "code",
   "execution_count": 22,
   "id": "ecf69a1c-7f9a-47d4-9266-d4960690f732",
   "metadata": {},
   "outputs": [],
   "source": [
    "details[\"Mary\"] = 42"
   ]
  },
  {
   "cell_type": "code",
   "execution_count": 23,
   "id": "4bd3409d-550d-4ea6-85cc-7d31506ba8f1",
   "metadata": {},
   "outputs": [
    {
     "data": {
      "text/plain": [
       "{'Fred': {'last': 'Jones', 'age': 18, 'location': 'Carlow'},\n",
       " 'David': {'last': 'Price', 'age': 11, 'location': 'Kerry'},\n",
       " 'Harry': {'last': 'Butle', 'age': 21, 'location': 'Dublin'},\n",
       " 'Mary': 42,\n",
       " 'Julie': {'last': \"O'Neill\", 'age': 6, 'location': 'Laois'}}"
      ]
     },
     "execution_count": 23,
     "metadata": {},
     "output_type": "execute_result"
    }
   ],
   "source": [
    "details"
   ]
  },
  {
   "cell_type": "code",
   "execution_count": 24,
   "id": "244ef285-9166-42ad-b69d-acef5ace59e8",
   "metadata": {},
   "outputs": [
    {
     "ename": "KeyError",
     "evalue": "'Frances'",
     "output_type": "error",
     "traceback": [
      "\u001b[1;31m---------------------------------------------------------------------------\u001b[0m",
      "\u001b[1;31mKeyError\u001b[0m                                  Traceback (most recent call last)",
      "Cell \u001b[1;32mIn[24], line 1\u001b[0m\n\u001b[1;32m----> 1\u001b[0m \u001b[43mdetails\u001b[49m\u001b[43m[\u001b[49m\u001b[38;5;124;43m\"\u001b[39;49m\u001b[38;5;124;43mFrances\u001b[39;49m\u001b[38;5;124;43m\"\u001b[39;49m\u001b[43m]\u001b[49m\n",
      "\u001b[1;31mKeyError\u001b[0m: 'Frances'"
     ]
    }
   ],
   "source": [
    "details[\"Frances\"]"
   ]
  },
  {
   "cell_type": "code",
   "execution_count": 25,
   "id": "8023523d-27a3-4977-b537-ca037b0f732b",
   "metadata": {},
   "outputs": [],
   "source": [
    "details[\"Frances\"] = { \"location\": \"Antrim\"}"
   ]
  },
  {
   "cell_type": "code",
   "execution_count": 26,
   "id": "9aaa545b-410b-4cc1-8516-1f90e06fc256",
   "metadata": {},
   "outputs": [
    {
     "data": {
      "text/plain": [
       "{'location': 'Antrim'}"
      ]
     },
     "execution_count": 26,
     "metadata": {},
     "output_type": "execute_result"
    }
   ],
   "source": [
    "details[\"Frances\"]"
   ]
  },
  {
   "cell_type": "code",
   "execution_count": 27,
   "id": "41097542-1671-4157-bdd2-03dfa765bf69",
   "metadata": {},
   "outputs": [
    {
     "name": "stdout",
     "output_type": "stream",
     "text": [
      "['__class__', '__class_getitem__', '__contains__', '__delattr__', '__delitem__', '__dir__', '__doc__', '__eq__', '__format__', '__ge__', '__getattribute__', '__getitem__', '__getstate__', '__gt__', '__hash__', '__init__', '__init_subclass__', '__ior__', '__iter__', '__le__', '__len__', '__lt__', '__ne__', '__new__', '__or__', '__reduce__', '__reduce_ex__', '__repr__', '__reversed__', '__ror__', '__setattr__', '__setitem__', '__sizeof__', '__str__', '__subclasshook__', 'clear', 'copy', 'fromkeys', 'get', 'items', 'keys', 'pop', 'popitem', 'setdefault', 'update', 'values']\n"
     ]
    }
   ],
   "source": [
    "print(dir(details))"
   ]
  },
  {
   "cell_type": "code",
   "execution_count": 28,
   "id": "3655ae64-1a16-48e9-a65f-390d7ec765cd",
   "metadata": {},
   "outputs": [],
   "source": [
    "a = 10\n",
    "b = 20"
   ]
  },
  {
   "cell_type": "code",
   "execution_count": 29,
   "id": "32d4a5e1-1752-4596-b24e-93985e242079",
   "metadata": {},
   "outputs": [],
   "source": [
    "a, b = b, a # better than temp = a, a = b, b = temp"
   ]
  },
  {
   "cell_type": "code",
   "execution_count": 30,
   "id": "c863c1c3-4820-4c99-9921-3547593e31a0",
   "metadata": {},
   "outputs": [
    {
     "data": {
      "text/plain": [
       "(20, 10)"
      ]
     },
     "execution_count": 30,
     "metadata": {},
     "output_type": "execute_result"
    }
   ],
   "source": [
    "a, b"
   ]
  },
  {
   "cell_type": "code",
   "execution_count": 31,
   "id": "768b1c1c-1b48-4610-899e-03b0bbddeb2b",
   "metadata": {},
   "outputs": [],
   "source": [
    "c = {1, 2, 3}"
   ]
  },
  {
   "cell_type": "code",
   "execution_count": 32,
   "id": "f134ceb6-d5e4-4f99-a3e6-ab788e39ec37",
   "metadata": {},
   "outputs": [
    {
     "data": {
      "text/plain": [
       "2767835417056"
      ]
     },
     "execution_count": 32,
     "metadata": {},
     "output_type": "execute_result"
    }
   ],
   "source": [
    "id(c)"
   ]
  },
  {
   "cell_type": "code",
   "execution_count": 33,
   "id": "8f045dd4-3b5a-4e9c-b978-77b527aab02d",
   "metadata": {},
   "outputs": [
    {
     "data": {
      "text/plain": [
       "2767835417056"
      ]
     },
     "execution_count": 33,
     "metadata": {},
     "output_type": "execute_result"
    }
   ],
   "source": [
    "d = c\n",
    "id(d)"
   ]
  },
  {
   "cell_type": "code",
   "execution_count": 34,
   "id": "805e3fc1-623b-453f-afc3-ff6ce31cb4e8",
   "metadata": {},
   "outputs": [],
   "source": [
    "d = c.copy()"
   ]
  },
  {
   "cell_type": "code",
   "execution_count": 36,
   "id": "5828459f-21c2-456e-9fdf-e8d6c35cc8f1",
   "metadata": {},
   "outputs": [
    {
     "data": {
      "text/plain": [
       "(2767835417056, 2767835416160)"
      ]
     },
     "execution_count": 36,
     "metadata": {},
     "output_type": "execute_result"
    }
   ],
   "source": [
    "id(c), id(d)"
   ]
  },
  {
   "cell_type": "code",
   "execution_count": 37,
   "id": "390d5590-eff3-4019-9d5d-705913360a9c",
   "metadata": {},
   "outputs": [
    {
     "data": {
      "text/plain": [
       "{'last': \"O'Neill\", 'age': 6, 'location': 'Laois'}"
      ]
     },
     "execution_count": 37,
     "metadata": {},
     "output_type": "execute_result"
    }
   ],
   "source": [
    "details.get(\"Julie\")"
   ]
  },
  {
   "cell_type": "code",
   "execution_count": 38,
   "id": "6d045234-ec9b-40b3-ad35-c4b858638c42",
   "metadata": {},
   "outputs": [
    {
     "ename": "KeyError",
     "evalue": "'Pat'",
     "output_type": "error",
     "traceback": [
      "\u001b[1;31m---------------------------------------------------------------------------\u001b[0m",
      "\u001b[1;31mKeyError\u001b[0m                                  Traceback (most recent call last)",
      "Cell \u001b[1;32mIn[38], line 1\u001b[0m\n\u001b[1;32m----> 1\u001b[0m \u001b[43mdetails\u001b[49m\u001b[43m[\u001b[49m\u001b[38;5;124;43m\"\u001b[39;49m\u001b[38;5;124;43mPat\u001b[39;49m\u001b[38;5;124;43m\"\u001b[39;49m\u001b[43m]\u001b[49m\n",
      "\u001b[1;31mKeyError\u001b[0m: 'Pat'"
     ]
    }
   ],
   "source": [
    "details[\"Pat\"]"
   ]
  },
  {
   "cell_type": "code",
   "execution_count": 39,
   "id": "d19c946c-6feb-40be-a212-955e4dc82e00",
   "metadata": {},
   "outputs": [],
   "source": [
    "details.get(\"Pat\")"
   ]
  },
  {
   "cell_type": "code",
   "execution_count": 40,
   "id": "a534be03-5cec-4d72-8c2d-4e7be38774ea",
   "metadata": {},
   "outputs": [],
   "source": [
    "what = details.get(\"Pat\")"
   ]
  },
  {
   "cell_type": "code",
   "execution_count": 42,
   "id": "32fdefaa-0ab0-489f-b876-e22c3423939f",
   "metadata": {},
   "outputs": [
    {
     "data": {
      "text/plain": [
       "NoneType"
      ]
     },
     "execution_count": 42,
     "metadata": {},
     "output_type": "execute_result"
    }
   ],
   "source": [
    "type(what)"
   ]
  },
  {
   "cell_type": "code",
   "execution_count": 44,
   "id": "9da56281-7344-4cb6-b144-d28a64d8030f",
   "metadata": {},
   "outputs": [
    {
     "name": "stdout",
     "output_type": "stream",
     "text": [
      "No Pat\n"
     ]
    }
   ],
   "source": [
    "if details.get(\"Pat\"):\n",
    "    print(\"We found Pat\")\n",
    "else:\n",
    "    print(\"No Pat\")"
   ]
  },
  {
   "cell_type": "code",
   "execution_count": 45,
   "id": "9cec29a9-35a6-4f2f-b480-24b3c6b41b02",
   "metadata": {},
   "outputs": [
    {
     "name": "stdout",
     "output_type": "stream",
     "text": [
      "Help on dict object:\n",
      "\n",
      "class dict(object)\n",
      " |  dict() -> new empty dictionary\n",
      " |  dict(mapping) -> new dictionary initialized from a mapping object's\n",
      " |      (key, value) pairs\n",
      " |  dict(iterable) -> new dictionary initialized as if via:\n",
      " |      d = {}\n",
      " |      for k, v in iterable:\n",
      " |          d[k] = v\n",
      " |  dict(**kwargs) -> new dictionary initialized with the name=value pairs\n",
      " |      in the keyword argument list.  For example:  dict(one=1, two=2)\n",
      " |\n",
      " |  Built-in subclasses:\n",
      " |      StgDict\n",
      " |\n",
      " |  Methods defined here:\n",
      " |\n",
      " |  __contains__(self, key, /)\n",
      " |      True if the dictionary has the specified key, else False.\n",
      " |\n",
      " |  __delitem__(self, key, /)\n",
      " |      Delete self[key].\n",
      " |\n",
      " |  __eq__(self, value, /)\n",
      " |      Return self==value.\n",
      " |\n",
      " |  __ge__(self, value, /)\n",
      " |      Return self>=value.\n",
      " |\n",
      " |  __getattribute__(self, name, /)\n",
      " |      Return getattr(self, name).\n",
      " |\n",
      " |  __getitem__(self, key, /)\n",
      " |      Return self[key].\n",
      " |\n",
      " |  __gt__(self, value, /)\n",
      " |      Return self>value.\n",
      " |\n",
      " |  __init__(self, /, *args, **kwargs)\n",
      " |      Initialize self.  See help(type(self)) for accurate signature.\n",
      " |\n",
      " |  __ior__(self, value, /)\n",
      " |      Return self|=value.\n",
      " |\n",
      " |  __iter__(self, /)\n",
      " |      Implement iter(self).\n",
      " |\n",
      " |  __le__(self, value, /)\n",
      " |      Return self<=value.\n",
      " |\n",
      " |  __len__(self, /)\n",
      " |      Return len(self).\n",
      " |\n",
      " |  __lt__(self, value, /)\n",
      " |      Return self<value.\n",
      " |\n",
      " |  __ne__(self, value, /)\n",
      " |      Return self!=value.\n",
      " |\n",
      " |  __or__(self, value, /)\n",
      " |      Return self|value.\n",
      " |\n",
      " |  __repr__(self, /)\n",
      " |      Return repr(self).\n",
      " |\n",
      " |  __reversed__(self, /)\n",
      " |      Return a reverse iterator over the dict keys.\n",
      " |\n",
      " |  __ror__(self, value, /)\n",
      " |      Return value|self.\n",
      " |\n",
      " |  __setitem__(self, key, value, /)\n",
      " |      Set self[key] to value.\n",
      " |\n",
      " |  __sizeof__(...)\n",
      " |      D.__sizeof__() -> size of D in memory, in bytes\n",
      " |\n",
      " |  clear(...)\n",
      " |      D.clear() -> None.  Remove all items from D.\n",
      " |\n",
      " |  copy(...)\n",
      " |      D.copy() -> a shallow copy of D\n",
      " |\n",
      " |  get(self, key, default=None, /)\n",
      " |      Return the value for key if key is in the dictionary, else default.\n",
      " |\n",
      " |  items(...)\n",
      " |      D.items() -> a set-like object providing a view on D's items\n",
      " |\n",
      " |  keys(...)\n",
      " |      D.keys() -> a set-like object providing a view on D's keys\n",
      " |\n",
      " |  pop(...)\n",
      " |      D.pop(k[,d]) -> v, remove specified key and return the corresponding value.\n",
      " |\n",
      " |      If the key is not found, return the default if given; otherwise,\n",
      " |      raise a KeyError.\n",
      " |\n",
      " |  popitem(self, /)\n",
      " |      Remove and return a (key, value) pair as a 2-tuple.\n",
      " |\n",
      " |      Pairs are returned in LIFO (last-in, first-out) order.\n",
      " |      Raises KeyError if the dict is empty.\n",
      " |\n",
      " |  setdefault(self, key, default=None, /)\n",
      " |      Insert key with a value of default if key is not in the dictionary.\n",
      " |\n",
      " |      Return the value for key if key is in the dictionary, else default.\n",
      " |\n",
      " |  update(...)\n",
      " |      D.update([E, ]**F) -> None.  Update D from dict/iterable E and F.\n",
      " |      If E is present and has a .keys() method, then does:  for k in E: D[k] = E[k]\n",
      " |      If E is present and lacks a .keys() method, then does:  for k, v in E: D[k] = v\n",
      " |      In either case, this is followed by: for k in F:  D[k] = F[k]\n",
      " |\n",
      " |  values(...)\n",
      " |      D.values() -> an object providing a view on D's values\n",
      " |\n",
      " |  ----------------------------------------------------------------------\n",
      " |  Class methods defined here:\n",
      " |\n",
      " |  __class_getitem__(...)\n",
      " |      See PEP 585\n",
      " |\n",
      " |  fromkeys(iterable, value=None, /)\n",
      " |      Create a new dictionary with keys from iterable and values set to value.\n",
      " |\n",
      " |  ----------------------------------------------------------------------\n",
      " |  Static methods defined here:\n",
      " |\n",
      " |  __new__(*args, **kwargs)\n",
      " |      Create and return a new object.  See help(type) for accurate signature.\n",
      " |\n",
      " |  ----------------------------------------------------------------------\n",
      " |  Data and other attributes defined here:\n",
      " |\n",
      " |  __hash__ = None\n",
      "\n"
     ]
    }
   ],
   "source": [
    "help(details)"
   ]
  },
  {
   "cell_type": "code",
   "execution_count": 46,
   "id": "6640756a-13e6-49ff-83dd-7221c37c52c2",
   "metadata": {},
   "outputs": [
    {
     "data": {
      "text/plain": [
       "<function locals()>"
      ]
     },
     "execution_count": 46,
     "metadata": {},
     "output_type": "execute_result"
    }
   ],
   "source": [
    "locals"
   ]
  },
  {
   "cell_type": "code",
   "execution_count": 49,
   "id": "972f92e6-2af9-4a6c-a477-bcfa3614fe12",
   "metadata": {},
   "outputs": [
    {
     "data": {
      "text/plain": [
       "{'__name__': '__main__',\n",
       " '__doc__': 'Automatically created module for IPython interactive environment',\n",
       " '__package__': None,\n",
       " '__loader__': None,\n",
       " '__spec__': None,\n",
       " '__builtin__': <module 'builtins' (built-in)>,\n",
       " '__builtins__': <module 'builtins' (built-in)>,\n",
       " '_ih': ['',\n",
       "  'details = {}',\n",
       "  'type(details)',\n",
       "  'fred = {\\n    \"age\": 18,\\n    \"last\": \"Jones\"\\n}',\n",
       "  'fred = {\\n    \"name\": \"Fred\",\\n    \"age\": 18,\\n    \"last\": \"Jones\",\\n    \"location\": \"Carlow\"\\n}',\n",
       "  'fred = {\\n    \"name\": \"Fred\",\\n    \"age\": 18,\\n    \"last\": \"Jones\",\\n    \"location\": \"Carlow\"\\n}',\n",
       "  'fred',\n",
       "  'fred[\"name\"]',\n",
       "  'fred[\"favourite\"] = \"Guitar\"',\n",
       "  'fred',\n",
       "  'details = [',\n",
       "  'details = {\\n    \"Fred\": {\\n                \"last\": \"Jones\",\\n                \"age\": 18,\\n                \"location\": \"Carlow\"',\n",
       "  'details = {\\n    \"Fred\": {\\n                \"last\": \"Jones\",\\n                \"age\": 18,\\n                \"location\": \"Carlow\"\\n    },\\n    \"David\": {\\n                \"last\": \"Price\",\\n                \"age\": 11,\\n                \"location\": \"Kerry\"\\n    },\\n    \"Harry\": {\\n                \"last\": \"Butle\",\\n                \"age\": 21,\\n                \"location\": \"Dublin\"\\n    },',\n",
       "  'details = {\\n    \"Fred\": {\\n                \"last\": \"Jones\",\\n                \"age\": 18,\\n                \"location\": \"Carlow\"\\n    },\\n    \"David\": {\\n                \"last\": \"Price\",\\n                \"age\": 11,\\n                \"location\": \"Kerry\"\\n    },\\n    \"Harry\": {\\n                \"last\": \"Butle\",\\n                \"age\": 21,\\n                \"location\": \"Dublin\"\\n    },\\n    \"Mary\": {\\n                \"last\": \"Murphy\",\\n                \"age\": 32,\\n                \"location\": \"Donegal\"\\n    },\\n    \"Julie\": {\\n                \"last\": \"O\\'Neill\",\\n                \"age\": 6,\\n                \"location\": \"Laois\"\\n    }\\n}',\n",
       "  'fred',\n",
       "  'details',\n",
       "  'details[\"David\"][\"Location\"]',\n",
       "  'details[\"David\"][\"location\"]',\n",
       "  'details[\"David\"][\"location\"]',\n",
       "  'sorted(details)',\n",
       "  'for person in sorted(details)',\n",
       "  'for person in sorted(details):\\n    print(f\"{person} lives in {details[person][\"location\"]}.\")',\n",
       "  'details[\"Mary\"] = 42',\n",
       "  'details',\n",
       "  'details[\"Frances\"]',\n",
       "  'details[\"Frances\"] = { \"location\": \"Antrim\"}',\n",
       "  'details[\"Frances\"]',\n",
       "  'print(dir(details))',\n",
       "  'a = 10\\nb = 20',\n",
       "  'a, b = b, a',\n",
       "  'a, b',\n",
       "  'c = {1, 2, 3}',\n",
       "  'id(c)',\n",
       "  'd = c\\nid(d)',\n",
       "  'd = c.copy()',\n",
       "  'id(c)\\nid(d)',\n",
       "  'id(c), id(d)',\n",
       "  'details.get(\"Julie\")',\n",
       "  'details[\"Pat\"]',\n",
       "  'details.get(\"Pat\")',\n",
       "  'what = details.get(\"Pat\")',\n",
       "  'what',\n",
       "  'type(what)',\n",
       "  'if details.get(\"Pat\"):\\n    print(\"We found Pat\")',\n",
       "  'if details.get(\"Pat\"):\\n    print(\"We found Pat\")\\nelse:\\n    print(\"No Pat\")',\n",
       "  'help(details)',\n",
       "  'locals',\n",
       "  'print(locals)',\n",
       "  'print(locals())',\n",
       "  'locals()'],\n",
       " '_oh': {2: dict,\n",
       "  6: {'name': 'Fred',\n",
       "   'age': 18,\n",
       "   'last': 'Jones',\n",
       "   'location': 'Carlow',\n",
       "   'favourite': 'Guitar'},\n",
       "  7: 'Fred',\n",
       "  9: {'name': 'Fred',\n",
       "   'age': 18,\n",
       "   'last': 'Jones',\n",
       "   'location': 'Carlow',\n",
       "   'favourite': 'Guitar'},\n",
       "  14: {'name': 'Fred',\n",
       "   'age': 18,\n",
       "   'last': 'Jones',\n",
       "   'location': 'Carlow',\n",
       "   'favourite': 'Guitar'},\n",
       "  15: {'Fred': {'last': 'Jones', 'age': 18, 'location': 'Carlow'},\n",
       "   'David': {'last': 'Price', 'age': 11, 'location': 'Kerry'},\n",
       "   'Harry': {'last': 'Butle', 'age': 21, 'location': 'Dublin'},\n",
       "   'Mary': 42,\n",
       "   'Julie': {'last': \"O'Neill\", 'age': 6, 'location': 'Laois'},\n",
       "   'Frances': {'location': 'Antrim'}},\n",
       "  17: 'Kerry',\n",
       "  18: 'Kerry',\n",
       "  19: ['David', 'Fred', 'Harry', 'Julie', 'Mary'],\n",
       "  23: {'Fred': {'last': 'Jones', 'age': 18, 'location': 'Carlow'},\n",
       "   'David': {'last': 'Price', 'age': 11, 'location': 'Kerry'},\n",
       "   'Harry': {'last': 'Butle', 'age': 21, 'location': 'Dublin'},\n",
       "   'Mary': 42,\n",
       "   'Julie': {'last': \"O'Neill\", 'age': 6, 'location': 'Laois'},\n",
       "   'Frances': {'location': 'Antrim'}},\n",
       "  26: {'location': 'Antrim'},\n",
       "  30: (20, 10),\n",
       "  32: 2767835417056,\n",
       "  33: 2767835417056,\n",
       "  35: 2767835416160,\n",
       "  36: (2767835417056, 2767835416160),\n",
       "  37: {'last': \"O'Neill\", 'age': 6, 'location': 'Laois'},\n",
       "  42: NoneType,\n",
       "  46: <function locals()>},\n",
       " '_dh': [WindowsPath('C:/Users/gameuser/Python-Testing')],\n",
       " 'In': ['',\n",
       "  'details = {}',\n",
       "  'type(details)',\n",
       "  'fred = {\\n    \"age\": 18,\\n    \"last\": \"Jones\"\\n}',\n",
       "  'fred = {\\n    \"name\": \"Fred\",\\n    \"age\": 18,\\n    \"last\": \"Jones\",\\n    \"location\": \"Carlow\"\\n}',\n",
       "  'fred = {\\n    \"name\": \"Fred\",\\n    \"age\": 18,\\n    \"last\": \"Jones\",\\n    \"location\": \"Carlow\"\\n}',\n",
       "  'fred',\n",
       "  'fred[\"name\"]',\n",
       "  'fred[\"favourite\"] = \"Guitar\"',\n",
       "  'fred',\n",
       "  'details = [',\n",
       "  'details = {\\n    \"Fred\": {\\n                \"last\": \"Jones\",\\n                \"age\": 18,\\n                \"location\": \"Carlow\"',\n",
       "  'details = {\\n    \"Fred\": {\\n                \"last\": \"Jones\",\\n                \"age\": 18,\\n                \"location\": \"Carlow\"\\n    },\\n    \"David\": {\\n                \"last\": \"Price\",\\n                \"age\": 11,\\n                \"location\": \"Kerry\"\\n    },\\n    \"Harry\": {\\n                \"last\": \"Butle\",\\n                \"age\": 21,\\n                \"location\": \"Dublin\"\\n    },',\n",
       "  'details = {\\n    \"Fred\": {\\n                \"last\": \"Jones\",\\n                \"age\": 18,\\n                \"location\": \"Carlow\"\\n    },\\n    \"David\": {\\n                \"last\": \"Price\",\\n                \"age\": 11,\\n                \"location\": \"Kerry\"\\n    },\\n    \"Harry\": {\\n                \"last\": \"Butle\",\\n                \"age\": 21,\\n                \"location\": \"Dublin\"\\n    },\\n    \"Mary\": {\\n                \"last\": \"Murphy\",\\n                \"age\": 32,\\n                \"location\": \"Donegal\"\\n    },\\n    \"Julie\": {\\n                \"last\": \"O\\'Neill\",\\n                \"age\": 6,\\n                \"location\": \"Laois\"\\n    }\\n}',\n",
       "  'fred',\n",
       "  'details',\n",
       "  'details[\"David\"][\"Location\"]',\n",
       "  'details[\"David\"][\"location\"]',\n",
       "  'details[\"David\"][\"location\"]',\n",
       "  'sorted(details)',\n",
       "  'for person in sorted(details)',\n",
       "  'for person in sorted(details):\\n    print(f\"{person} lives in {details[person][\"location\"]}.\")',\n",
       "  'details[\"Mary\"] = 42',\n",
       "  'details',\n",
       "  'details[\"Frances\"]',\n",
       "  'details[\"Frances\"] = { \"location\": \"Antrim\"}',\n",
       "  'details[\"Frances\"]',\n",
       "  'print(dir(details))',\n",
       "  'a = 10\\nb = 20',\n",
       "  'a, b = b, a',\n",
       "  'a, b',\n",
       "  'c = {1, 2, 3}',\n",
       "  'id(c)',\n",
       "  'd = c\\nid(d)',\n",
       "  'd = c.copy()',\n",
       "  'id(c)\\nid(d)',\n",
       "  'id(c), id(d)',\n",
       "  'details.get(\"Julie\")',\n",
       "  'details[\"Pat\"]',\n",
       "  'details.get(\"Pat\")',\n",
       "  'what = details.get(\"Pat\")',\n",
       "  'what',\n",
       "  'type(what)',\n",
       "  'if details.get(\"Pat\"):\\n    print(\"We found Pat\")',\n",
       "  'if details.get(\"Pat\"):\\n    print(\"We found Pat\")\\nelse:\\n    print(\"No Pat\")',\n",
       "  'help(details)',\n",
       "  'locals',\n",
       "  'print(locals)',\n",
       "  'print(locals())',\n",
       "  'locals()'],\n",
       " 'Out': {2: dict,\n",
       "  6: {'name': 'Fred',\n",
       "   'age': 18,\n",
       "   'last': 'Jones',\n",
       "   'location': 'Carlow',\n",
       "   'favourite': 'Guitar'},\n",
       "  7: 'Fred',\n",
       "  9: {'name': 'Fred',\n",
       "   'age': 18,\n",
       "   'last': 'Jones',\n",
       "   'location': 'Carlow',\n",
       "   'favourite': 'Guitar'},\n",
       "  14: {'name': 'Fred',\n",
       "   'age': 18,\n",
       "   'last': 'Jones',\n",
       "   'location': 'Carlow',\n",
       "   'favourite': 'Guitar'},\n",
       "  15: {'Fred': {'last': 'Jones', 'age': 18, 'location': 'Carlow'},\n",
       "   'David': {'last': 'Price', 'age': 11, 'location': 'Kerry'},\n",
       "   'Harry': {'last': 'Butle', 'age': 21, 'location': 'Dublin'},\n",
       "   'Mary': 42,\n",
       "   'Julie': {'last': \"O'Neill\", 'age': 6, 'location': 'Laois'},\n",
       "   'Frances': {'location': 'Antrim'}},\n",
       "  17: 'Kerry',\n",
       "  18: 'Kerry',\n",
       "  19: ['David', 'Fred', 'Harry', 'Julie', 'Mary'],\n",
       "  23: {'Fred': {'last': 'Jones', 'age': 18, 'location': 'Carlow'},\n",
       "   'David': {'last': 'Price', 'age': 11, 'location': 'Kerry'},\n",
       "   'Harry': {'last': 'Butle', 'age': 21, 'location': 'Dublin'},\n",
       "   'Mary': 42,\n",
       "   'Julie': {'last': \"O'Neill\", 'age': 6, 'location': 'Laois'},\n",
       "   'Frances': {'location': 'Antrim'}},\n",
       "  26: {'location': 'Antrim'},\n",
       "  30: (20, 10),\n",
       "  32: 2767835417056,\n",
       "  33: 2767835417056,\n",
       "  35: 2767835416160,\n",
       "  36: (2767835417056, 2767835416160),\n",
       "  37: {'last': \"O'Neill\", 'age': 6, 'location': 'Laois'},\n",
       "  42: NoneType,\n",
       "  46: <function locals()>},\n",
       " 'get_ipython': <bound method InteractiveShell.get_ipython of <ipykernel.zmqshell.ZMQInteractiveShell object at 0x000002846E418E90>>,\n",
       " 'exit': <IPython.core.autocall.ZMQExitAutocall at 0x2846e42c860>,\n",
       " 'quit': <IPython.core.autocall.ZMQExitAutocall at 0x2846e42c860>,\n",
       " 'open': <function _io.open(file, mode='r', buffering=-1, encoding=None, errors=None, newline=None, closefd=True, opener=None)>,\n",
       " '_': <function locals()>,\n",
       " '__': NoneType,\n",
       " '___': {'last': \"O'Neill\", 'age': 6, 'location': 'Laois'},\n",
       " '__session__': 'C:\\\\Users\\\\gameuser\\\\Python-Testing\\\\Untitled.ipynb',\n",
       " '_i': 'print(locals())',\n",
       " '_ii': 'print(locals)',\n",
       " '_iii': 'locals',\n",
       " '_i1': 'details = {}',\n",
       " 'details': {'Fred': {'last': 'Jones', 'age': 18, 'location': 'Carlow'},\n",
       "  'David': {'last': 'Price', 'age': 11, 'location': 'Kerry'},\n",
       "  'Harry': {'last': 'Butle', 'age': 21, 'location': 'Dublin'},\n",
       "  'Mary': 42,\n",
       "  'Julie': {'last': \"O'Neill\", 'age': 6, 'location': 'Laois'},\n",
       "  'Frances': {'location': 'Antrim'}},\n",
       " '_i2': 'type(details)',\n",
       " '_2': dict,\n",
       " '_i3': 'fred = {\\n    \"age\": 18,\\n    \"last\": \"Jones\"\\n}',\n",
       " 'fred': {'name': 'Fred',\n",
       "  'age': 18,\n",
       "  'last': 'Jones',\n",
       "  'location': 'Carlow',\n",
       "  'favourite': 'Guitar'},\n",
       " '_i4': 'fred = {\\n    \"name\": \"Fred\",\\n    \"age\": 18,\\n    \"last\": \"Jones\",\\n    \"location\": \"Carlow\"\\n}',\n",
       " '_i5': 'fred = {\\n    \"name\": \"Fred\",\\n    \"age\": 18,\\n    \"last\": \"Jones\",\\n    \"location\": \"Carlow\"\\n}',\n",
       " '_i6': 'fred',\n",
       " '_6': {'name': 'Fred',\n",
       "  'age': 18,\n",
       "  'last': 'Jones',\n",
       "  'location': 'Carlow',\n",
       "  'favourite': 'Guitar'},\n",
       " '_i7': 'fred[\"name\"]',\n",
       " '_7': 'Fred',\n",
       " '_i8': 'fred[\"favourite\"] = \"Guitar\"',\n",
       " '_i9': 'fred',\n",
       " '_9': {'name': 'Fred',\n",
       "  'age': 18,\n",
       "  'last': 'Jones',\n",
       "  'location': 'Carlow',\n",
       "  'favourite': 'Guitar'},\n",
       " '_i10': 'details = [',\n",
       " '_i11': 'details = {\\n    \"Fred\": {\\n                \"last\": \"Jones\",\\n                \"age\": 18,\\n                \"location\": \"Carlow\"',\n",
       " '_i12': 'details = {\\n    \"Fred\": {\\n                \"last\": \"Jones\",\\n                \"age\": 18,\\n                \"location\": \"Carlow\"\\n    },\\n    \"David\": {\\n                \"last\": \"Price\",\\n                \"age\": 11,\\n                \"location\": \"Kerry\"\\n    },\\n    \"Harry\": {\\n                \"last\": \"Butle\",\\n                \"age\": 21,\\n                \"location\": \"Dublin\"\\n    },',\n",
       " '_i13': 'details = {\\n    \"Fred\": {\\n                \"last\": \"Jones\",\\n                \"age\": 18,\\n                \"location\": \"Carlow\"\\n    },\\n    \"David\": {\\n                \"last\": \"Price\",\\n                \"age\": 11,\\n                \"location\": \"Kerry\"\\n    },\\n    \"Harry\": {\\n                \"last\": \"Butle\",\\n                \"age\": 21,\\n                \"location\": \"Dublin\"\\n    },\\n    \"Mary\": {\\n                \"last\": \"Murphy\",\\n                \"age\": 32,\\n                \"location\": \"Donegal\"\\n    },\\n    \"Julie\": {\\n                \"last\": \"O\\'Neill\",\\n                \"age\": 6,\\n                \"location\": \"Laois\"\\n    }\\n}',\n",
       " '_i14': 'fred',\n",
       " '_14': {'name': 'Fred',\n",
       "  'age': 18,\n",
       "  'last': 'Jones',\n",
       "  'location': 'Carlow',\n",
       "  'favourite': 'Guitar'},\n",
       " '_i15': 'details',\n",
       " '_15': {'Fred': {'last': 'Jones', 'age': 18, 'location': 'Carlow'},\n",
       "  'David': {'last': 'Price', 'age': 11, 'location': 'Kerry'},\n",
       "  'Harry': {'last': 'Butle', 'age': 21, 'location': 'Dublin'},\n",
       "  'Mary': 42,\n",
       "  'Julie': {'last': \"O'Neill\", 'age': 6, 'location': 'Laois'},\n",
       "  'Frances': {'location': 'Antrim'}},\n",
       " '_i16': 'details[\"David\"][\"Location\"]',\n",
       " '_i17': 'details[\"David\"][\"location\"]',\n",
       " '_17': 'Kerry',\n",
       " '_i18': 'details[\"David\"][\"location\"]',\n",
       " '_18': 'Kerry',\n",
       " '_i19': 'sorted(details)',\n",
       " '_19': ['David', 'Fred', 'Harry', 'Julie', 'Mary'],\n",
       " '_i20': 'for person in sorted(details)',\n",
       " '_i21': 'for person in sorted(details):\\n    print(f\"{person} lives in {details[person][\"location\"]}.\")',\n",
       " 'person': 'Mary',\n",
       " '_i22': 'details[\"Mary\"] = 42',\n",
       " '_i23': 'details',\n",
       " '_23': {'Fred': {'last': 'Jones', 'age': 18, 'location': 'Carlow'},\n",
       "  'David': {'last': 'Price', 'age': 11, 'location': 'Kerry'},\n",
       "  'Harry': {'last': 'Butle', 'age': 21, 'location': 'Dublin'},\n",
       "  'Mary': 42,\n",
       "  'Julie': {'last': \"O'Neill\", 'age': 6, 'location': 'Laois'},\n",
       "  'Frances': {'location': 'Antrim'}},\n",
       " '_i24': 'details[\"Frances\"]',\n",
       " '_i25': 'details[\"Frances\"] = { \"location\": \"Antrim\"}',\n",
       " '_i26': 'details[\"Frances\"]',\n",
       " '_26': {'location': 'Antrim'},\n",
       " '_i27': 'print(dir(details))',\n",
       " '_i28': 'a = 10\\nb = 20',\n",
       " 'a': 20,\n",
       " 'b': 10,\n",
       " '_i29': 'a, b = b, a',\n",
       " '_i30': 'a, b',\n",
       " '_30': (20, 10),\n",
       " '_i31': 'c = {1, 2, 3}',\n",
       " 'c': {1, 2, 3},\n",
       " '_i32': 'id(c)',\n",
       " '_32': 2767835417056,\n",
       " '_i33': 'd = c\\nid(d)',\n",
       " 'd': {1, 2, 3},\n",
       " '_33': 2767835417056,\n",
       " '_i34': 'd = c.copy()',\n",
       " '_i35': 'id(c)\\nid(d)',\n",
       " '_35': 2767835416160,\n",
       " '_i36': 'id(c), id(d)',\n",
       " '_36': (2767835417056, 2767835416160),\n",
       " '_i37': 'details.get(\"Julie\")',\n",
       " '_37': {'last': \"O'Neill\", 'age': 6, 'location': 'Laois'},\n",
       " '_i38': 'details[\"Pat\"]',\n",
       " '_i39': 'details.get(\"Pat\")',\n",
       " '_i40': 'what = details.get(\"Pat\")',\n",
       " 'what': None,\n",
       " '_i41': 'what',\n",
       " '_i42': 'type(what)',\n",
       " '_42': NoneType,\n",
       " '_i43': 'if details.get(\"Pat\"):\\n    print(\"We found Pat\")',\n",
       " '_i44': 'if details.get(\"Pat\"):\\n    print(\"We found Pat\")\\nelse:\\n    print(\"No Pat\")',\n",
       " '_i45': 'help(details)',\n",
       " '_i46': 'locals',\n",
       " '_46': <function locals()>,\n",
       " '_i47': 'print(locals)',\n",
       " '_i48': 'print(locals())',\n",
       " '_i49': 'locals()'}"
      ]
     },
     "execution_count": 49,
     "metadata": {},
     "output_type": "execute_result"
    }
   ],
   "source": [
    "locals()"
   ]
  },
  {
   "cell_type": "code",
   "execution_count": null,
   "id": "f3610b15-8274-4ed9-a26b-85580b69f781",
   "metadata": {},
   "outputs": [],
   "source": []
  }
 ],
 "metadata": {
  "kernelspec": {
   "display_name": "Python 3 (ipykernel)",
   "language": "python",
   "name": "python3"
  },
  "language_info": {
   "codemirror_mode": {
    "name": "ipython",
    "version": 3
   },
   "file_extension": ".py",
   "mimetype": "text/x-python",
   "name": "python",
   "nbconvert_exporter": "python",
   "pygments_lexer": "ipython3",
   "version": "3.12.6"
  }
 },
 "nbformat": 4,
 "nbformat_minor": 5
}
