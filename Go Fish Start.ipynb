{
 "cells": [
  {
   "cell_type": "code",
   "execution_count": null,
   "id": "3d2f9f58-0daa-4f1a-ab96-ed9ff1931aa8",
   "metadata": {},
   "outputs": [],
   "source": [
    "suits = (\"Clubs\", \"Spades\", \"Hearts\", \"Diamonds\") # made as a tuple as there shouldnt be more card types ever\n",
    "type(suits)"
   ]
  },
  {
   "cell_type": "code",
   "execution_count": null,
   "id": "ba8ef5e3-80cc-492b-afe3-b945efb06d18",
   "metadata": {},
   "outputs": [],
   "source": [
    "for s in suits:\n",
    "    print(s)"
   ]
  },
  {
   "cell_type": "code",
   "execution_count": null,
   "id": "4eda5632-0324-4702-a907-01da68448b3f",
   "metadata": {},
   "outputs": [],
   "source": [
    "faces = (\"Ace\", \"King\", \"Queen\", \"Jack\")\n",
    "numbers = (2, 3, 4 ,5, 6, 7, 8, 9, 10)"
   ]
  },
  {
   "cell_type": "code",
   "execution_count": null,
   "id": "aacbffbf-82e6-4bed-ba49-5c81d4829682",
   "metadata": {},
   "outputs": [],
   "source": [
    "suits, faces, numbers"
   ]
  },
  {
   "cell_type": "code",
   "execution_count": null,
   "id": "39824f10-e2df-498e-a7b4-57c8a43f1818",
   "metadata": {},
   "outputs": [],
   "source": [
    "deck = []"
   ]
  },
  {
   "cell_type": "markdown",
   "id": "18e0200b-8154-4685-a6db-0b2e8d0f715a",
   "metadata": {},
   "source": [
    "### Old way of writing assigning"
   ]
  },
  {
   "cell_type": "code",
   "execution_count": null,
   "id": "00953963-3fc6-49cd-aae4-1bd6798ce936",
   "metadata": {},
   "outputs": [],
   "source": [
    "deck = []\n",
    "for suit in suits:\n",
    "    for value in faces + numbers:\n",
    "        deck.append(str(value) + \" of \" + suit)"
   ]
  },
  {
   "cell_type": "code",
   "execution_count": null,
   "id": "5dbb41ca-8a44-4213-be84-2a569deb4368",
   "metadata": {},
   "outputs": [],
   "source": [
    "print(deck)"
   ]
  },
  {
   "cell_type": "code",
   "execution_count": null,
   "id": "941868fc-75b4-40ee-81e2-5ddaf3b5214d",
   "metadata": {},
   "outputs": [],
   "source": [
    "len(deck)"
   ]
  },
  {
   "cell_type": "markdown",
   "id": "549bea6d-a335-4a80-ad31-1835e7a59225",
   "metadata": {},
   "source": [
    "### new way of assigning values, using fstrings"
   ]
  },
  {
   "cell_type": "code",
   "execution_count": null,
   "id": "4c767eee-20ba-4920-a7cd-7cbe3fb1c764",
   "metadata": {},
   "outputs": [],
   "source": [
    "deck = []\n",
    "\n",
    "for suit in suits:\n",
    "    for value in faces + numbers:\n",
    "        deck.append(f\"{value} of {suit}\")"
   ]
  },
  {
   "cell_type": "code",
   "execution_count": null,
   "id": "41cbc428-ddfb-416a-af01-7695c6d376ac",
   "metadata": {},
   "outputs": [],
   "source": [
    "deck[:13]"
   ]
  },
  {
   "cell_type": "code",
   "execution_count": null,
   "id": "7ebf73e5-a07a-4be7-bbf3-e362348c0708",
   "metadata": {},
   "outputs": [],
   "source": [
    "print(dir(deck))"
   ]
  },
  {
   "cell_type": "markdown",
   "id": "07b5f310-32dc-40e6-9822-d24ef318a89e",
   "metadata": {},
   "source": [
    "### import random library"
   ]
  },
  {
   "cell_type": "code",
   "execution_count": null,
   "id": "1c8c78d7-7c16-4195-a284-d673821cd9b3",
   "metadata": {},
   "outputs": [],
   "source": [
    "import random"
   ]
  },
  {
   "cell_type": "markdown",
   "id": "fd67805f-022e-4b1f-97f4-e69e17f8ea8e",
   "metadata": {},
   "source": [
    "### pick a random card from the deck"
   ]
  },
  {
   "cell_type": "code",
   "execution_count": null,
   "id": "7c4c7303-5bc4-4b70-8815-a77d1e98ec0c",
   "metadata": {},
   "outputs": [],
   "source": [
    "deck[random.randint(0,51)]"
   ]
  },
  {
   "cell_type": "code",
   "execution_count": null,
   "id": "a46896b4-753c-4c30-97aa-cdbc43cbf0f7",
   "metadata": {},
   "outputs": [],
   "source": [
    "which = random.randint(0, len(deck)-1)\n",
    "print(f\"Your selected card is: {deck[which]}.\")\n",
    "deck.pop(which)\n",
    "print(len(deck))"
   ]
  },
  {
   "cell_type": "code",
   "execution_count": null,
   "id": "1f9cf8b0-8b8a-4408-bbad-bd5fbd172620",
   "metadata": {},
   "outputs": [],
   "source": [
    "help(random.shuffle)"
   ]
  },
  {
   "cell_type": "code",
   "execution_count": null,
   "id": "21f3a221-ab59-47b0-9c5c-4dbb0f8d0530",
   "metadata": {},
   "outputs": [],
   "source": [
    "random.shuffle(deck)\n",
    "print(deck)"
   ]
  },
  {
   "cell_type": "code",
   "execution_count": null,
   "id": "70dd7d92-cf3a-44a3-ae2b-0a3074b8871b",
   "metadata": {},
   "outputs": [],
   "source": [
    "def generateDeck():\n",
    "    deck = []\n",
    "\n",
    "    for suit in suits:\n",
    "        for value in faces + numbers:\n",
    "            deck.append(f\"{value} of {suit}\")\n",
    "    random.shuffle(deck)\n",
    "    return deck\n"
   ]
  },
  {
   "cell_type": "code",
   "execution_count": null,
   "id": "e20a5907-5519-4ad4-87e8-913cb906f3ce",
   "metadata": {},
   "outputs": [],
   "source": [
    "myDeck = generateDeck()\n",
    "myDeck[:13]"
   ]
  },
  {
   "cell_type": "code",
   "execution_count": null,
   "id": "eb70b253-0ca9-4679-a6e1-9ac4d8711e3d",
   "metadata": {},
   "outputs": [],
   "source": [
    "print(len(myDeck))\n",
    "print(f\"Your sekected card is: {myDeck.pop()}.\")\n",
    "print(len(myDeck))"
   ]
  },
  {
   "cell_type": "code",
   "execution_count": null,
   "id": "49dd9cab-1959-4677-bcd6-044766829c73",
   "metadata": {},
   "outputs": [],
   "source": [
    "import random\n",
    "\n",
    "suits = (\"Clubs\", \"Spades\", \"Hearts\", \"Diamonds\") # made as a tuple as there shouldnt be more card types ever\n",
    "faces = (\"Ace\", \"King\", \"Queen\", \"Jack\")\n",
    "numbers = (2, 3, 4 ,5, 6, 7, 8, 9, 10)\n",
    "\n",
    "\n",
    "def generateDeck():\n",
    "    \"\"\"Build a shuffled deck of 52 cards and return it\"\"\"\n",
    "    deck = []\n",
    "\n",
    "    for suit in suits:\n",
    "        for value in faces + numbers:\n",
    "            deck.append(f\"{value} of {suit}\")\n",
    "    random.shuffle(deck)\n",
    "    return deck"
   ]
  },
  {
   "cell_type": "code",
   "execution_count": null,
   "id": "0d77a616-6c87-41b8-b7b4-92eb388a855c",
   "metadata": {},
   "outputs": [],
   "source": [
    "help(generateDeck)"
   ]
  },
  {
   "cell_type": "code",
   "execution_count": null,
   "id": "85741c00-3981-4cb2-b61a-6fc6de63c4d7",
   "metadata": {},
   "outputs": [],
   "source": [
    "import cards\n",
    "\n",
    "deck = cards.generateDeck()\n",
    "\n",
    "computer = []\n",
    "player = []\n",
    "\n",
    "for _ in range(7):\n",
    "    computer.append(deck.pop())\n",
    "    player.append(deck.pop())\n",
    "\n",
    "player.sort()\n",
    "computer.sort()\n",
    "\n",
    "player_pairs = []\n",
    "computer_pairs = []\n",
    "\n",
    "\n",
    "player, pairs = cards.identify_remove_pairs(player)\n",
    "player_pairs.extend(pairs)\n",
    "computer, pairs = cards.identify_remove_pairs(computer)\n",
    "computer_pairs.extend(pairs)\n",
    "\n",
    "print(f\"Here are your current cards:\\n{player}\\n\")\n",
    "## print(f\"Here are the computers current cards:\\n{computer}\")\n",
    "\n",
    "for n, card in enumerate(player):\n",
    "    print(f\"{n} : {card}\")\n",
    "\n",
    "choice = input(\"\\n\\nPlease select the number for the card you want from the above list\")\n",
    "selection = player[ int(choice) ]\n",
    "value = selection[: selection.find(\" \")]\n",
    "\n",
    "found_it = False\n",
    "for n, card in enumerate(computer):\n",
    "    if card.startswith(value):\n",
    "        found_it = n\n",
    "        break\n",
    "\n",
    "\n",
    "if isinstance(found_it, bool):\n",
    "    print(\"Go Fish\")\n",
    "    player.append(deck.pop())\n",
    "    print(f\"You drew a {player[-1]}\")\n",
    "else:\n",
    "    print(f\"Here is your card: {computer[n]}.\")\n",
    "    ## if we get here the card we want from the computer is in slot position \"n\"\n",
    "    player.append(computer.pop(n))\n",
    "\n",
    "player, pairs = cards.identify_remove_pairs(player)\n",
    "player_pairs.extend(pairs)\n"
   ]
  },
  {
   "cell_type": "code",
   "execution_count": 22,
   "id": "59287294-131c-49a9-a6f5-1d536a590692",
   "metadata": {},
   "outputs": [
    {
     "name": "stdout",
     "output_type": "stream",
     "text": [
      "['5 of Diamonds', '9 of Clubs', 'Jack of Diamonds', 'Queen of Hearts']\n",
      "['10 of Spades', '2 of Hearts', '5 of Clubs', '6 of Hearts', 'Ace of Hearts', 'Jack of Spades', 'King of Diamonds', 'Queen of Clubs']\n",
      "\n",
      "\n",
      "\n"
     ]
    },
    {
     "name": "stdin",
     "output_type": "stream",
     "text": [
      "From the computer: Do you have a 2? (y/n)  n\n"
     ]
    },
    {
     "name": "stdout",
     "output_type": "stream",
     "text": [
      "10 of Clubs\n",
      "['5 of Diamonds', '9 of Clubs', 'Jack of Diamonds', 'Queen of Hearts']\n",
      "['2 of Hearts', '5 of Clubs', '6 of Hearts', 'Ace of Hearts', 'Jack of Spades', 'King of Diamonds', 'Queen of Clubs']\n"
     ]
    }
   ],
   "source": [
    "import random\n",
    "\n",
    "print(player)\n",
    "print(computer)\n",
    "\n",
    "print(\"\\n\\n\")\n",
    "\n",
    "card = random.choice(computer)\n",
    "value = card[: card.find(\" \")]\n",
    "\n",
    "choice = input(f\"From the computer: Do you have a {value}? (y/n) \")\n",
    "\n",
    "if choice in [\"y\", \"Y\", \"yes\", \"Yes\", \"YES\"]:\n",
    "    # swap code\n",
    "    for n, card in enumerate(player):\n",
    "        if card.startswith(value):\n",
    "            break\n",
    "\n",
    "    computer.append(player.pop(n))\n",
    "else:\n",
    "    # go fish code\n",
    "    computer.append(deck.pop())\n",
    "    print(computer[-1])\n",
    "    \n",
    "computer, pairs = cards.identify_remove_pairs(computer)\n",
    "computer_pairs.extend(pairs)\n",
    "\n",
    "print(player)\n",
    "print(computer)"
   ]
  },
  {
   "cell_type": "code",
   "execution_count": null,
   "id": "6f09026a-82df-4839-b658-8655df709ff0",
   "metadata": {},
   "outputs": [],
   "source": []
  }
 ],
 "metadata": {
  "kernelspec": {
   "display_name": "Python 3 (ipykernel)",
   "language": "python",
   "name": "python3"
  },
  "language_info": {
   "codemirror_mode": {
    "name": "ipython",
    "version": 3
   },
   "file_extension": ".py",
   "mimetype": "text/x-python",
   "name": "python",
   "nbconvert_exporter": "python",
   "pygments_lexer": "ipython3",
   "version": "3.12.6"
  }
 },
 "nbformat": 4,
 "nbformat_minor": 5
}
