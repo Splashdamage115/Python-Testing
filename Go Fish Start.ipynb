{
 "cells": [
  {
   "cell_type": "code",
   "execution_count": 3,
   "id": "3d2f9f58-0daa-4f1a-ab96-ed9ff1931aa8",
   "metadata": {},
   "outputs": [
    {
     "data": {
      "text/plain": [
       "tuple"
      ]
     },
     "execution_count": 3,
     "metadata": {},
     "output_type": "execute_result"
    }
   ],
   "source": [
    "suits = (\"Clubs\", \"Spades\", \"Hearts\", \"Diamonds\") # made as a tuple as there shouldnt be more card types ever\n",
    "type(suits)"
   ]
  },
  {
   "cell_type": "code",
   "execution_count": 8,
   "id": "ba8ef5e3-80cc-492b-afe3-b945efb06d18",
   "metadata": {},
   "outputs": [
    {
     "name": "stdout",
     "output_type": "stream",
     "text": [
      "Clubs\n",
      "Spades\n",
      "Hearts\n",
      "Diamonds\n"
     ]
    }
   ],
   "source": [
    "for s in suits:\n",
    "    print(s)"
   ]
  },
  {
   "cell_type": "code",
   "execution_count": 24,
   "id": "4eda5632-0324-4702-a907-01da68448b3f",
   "metadata": {},
   "outputs": [],
   "source": [
    "faces = (\"Ace\", \"King\", \"Queen\", \"Jack\")\n",
    "numbers = (2, 3, 4 ,5, 6, 7, 8, 9, 10)"
   ]
  },
  {
   "cell_type": "code",
   "execution_count": 25,
   "id": "aacbffbf-82e6-4bed-ba49-5c81d4829682",
   "metadata": {},
   "outputs": [
    {
     "data": {
      "text/plain": [
       "(('Clubs', 'Spades', 'Hearts', 'Diamonds'),\n",
       " ('Ace', 'King', 'Queen', 'Jack'),\n",
       " (2, 3, 4, 5, 6, 7, 8, 9, 10))"
      ]
     },
     "execution_count": 25,
     "metadata": {},
     "output_type": "execute_result"
    }
   ],
   "source": [
    "suits, faces, numbers"
   ]
  },
  {
   "cell_type": "code",
   "execution_count": 32,
   "id": "39824f10-e2df-498e-a7b4-57c8a43f1818",
   "metadata": {},
   "outputs": [],
   "source": [
    "deck = []"
   ]
  },
  {
   "cell_type": "markdown",
   "id": "18e0200b-8154-4685-a6db-0b2e8d0f715a",
   "metadata": {},
   "source": [
    "### Old way of writing assigning"
   ]
  },
  {
   "cell_type": "code",
   "execution_count": 27,
   "id": "00953963-3fc6-49cd-aae4-1bd6798ce936",
   "metadata": {},
   "outputs": [],
   "source": [
    "deck = []\n",
    "for suit in suits:\n",
    "    for value in faces + numbers:\n",
    "        deck.append(str(value) + \" of \" + suit)"
   ]
  },
  {
   "cell_type": "code",
   "execution_count": 30,
   "id": "5dbb41ca-8a44-4213-be84-2a569deb4368",
   "metadata": {},
   "outputs": [
    {
     "name": "stdout",
     "output_type": "stream",
     "text": [
      "['Ace of Clubs', 'King of Clubs', 'Queen of Clubs', 'Jack of Clubs', '2 of Clubs', '3 of Clubs', '4 of Clubs', '5 of Clubs', '6 of Clubs', '7 of Clubs', '8 of Clubs', '9 of Clubs', '10 of Clubs', 'Ace of Spades', 'King of Spades', 'Queen of Spades', 'Jack of Spades', '2 of Spades', '3 of Spades', '4 of Spades', '5 of Spades', '6 of Spades', '7 of Spades', '8 of Spades', '9 of Spades', '10 of Spades', 'Ace of Hearts', 'King of Hearts', 'Queen of Hearts', 'Jack of Hearts', '2 of Hearts', '3 of Hearts', '4 of Hearts', '5 of Hearts', '6 of Hearts', '7 of Hearts', '8 of Hearts', '9 of Hearts', '10 of Hearts', 'Ace of Diamonds', 'King of Diamonds', 'Queen of Diamonds', 'Jack of Diamonds', '2 of Diamonds', '3 of Diamonds', '4 of Diamonds', '5 of Diamonds', '6 of Diamonds', '7 of Diamonds', '8 of Diamonds', '9 of Diamonds', '10 of Diamonds']\n"
     ]
    }
   ],
   "source": [
    "print(deck)"
   ]
  },
  {
   "cell_type": "code",
   "execution_count": 35,
   "id": "941868fc-75b4-40ee-81e2-5ddaf3b5214d",
   "metadata": {},
   "outputs": [
    {
     "data": {
      "text/plain": [
       "0"
      ]
     },
     "execution_count": 35,
     "metadata": {},
     "output_type": "execute_result"
    }
   ],
   "source": [
    "len(deck)"
   ]
  },
  {
   "cell_type": "markdown",
   "id": "549bea6d-a335-4a80-ad31-1835e7a59225",
   "metadata": {},
   "source": [
    "### new way of assigning values, using fstrings"
   ]
  },
  {
   "cell_type": "code",
   "execution_count": 36,
   "id": "4c767eee-20ba-4920-a7cd-7cbe3fb1c764",
   "metadata": {},
   "outputs": [],
   "source": [
    "deck = []\n",
    "\n",
    "for suit in suits:\n",
    "    for value in faces + numbers:\n",
    "        deck.append(f\"{value} of {suit}\")"
   ]
  },
  {
   "cell_type": "code",
   "execution_count": 37,
   "id": "41cbc428-ddfb-416a-af01-7695c6d376ac",
   "metadata": {},
   "outputs": [
    {
     "data": {
      "text/plain": [
       "['Ace of Clubs',\n",
       " 'King of Clubs',\n",
       " 'Queen of Clubs',\n",
       " 'Jack of Clubs',\n",
       " '2 of Clubs',\n",
       " '3 of Clubs',\n",
       " '4 of Clubs',\n",
       " '5 of Clubs',\n",
       " '6 of Clubs',\n",
       " '7 of Clubs',\n",
       " '8 of Clubs',\n",
       " '9 of Clubs',\n",
       " '10 of Clubs']"
      ]
     },
     "execution_count": 37,
     "metadata": {},
     "output_type": "execute_result"
    }
   ],
   "source": [
    "deck[:13]"
   ]
  },
  {
   "cell_type": "code",
   "execution_count": 40,
   "id": "7ebf73e5-a07a-4be7-bbf3-e362348c0708",
   "metadata": {},
   "outputs": [
    {
     "name": "stdout",
     "output_type": "stream",
     "text": [
      "['__add__', '__class__', '__class_getitem__', '__contains__', '__delattr__', '__delitem__', '__dir__', '__doc__', '__eq__', '__format__', '__ge__', '__getattribute__', '__getitem__', '__getstate__', '__gt__', '__hash__', '__iadd__', '__imul__', '__init__', '__init_subclass__', '__iter__', '__le__', '__len__', '__lt__', '__mul__', '__ne__', '__new__', '__reduce__', '__reduce_ex__', '__repr__', '__reversed__', '__rmul__', '__setattr__', '__setitem__', '__sizeof__', '__str__', '__subclasshook__', 'append', 'clear', 'copy', 'count', 'extend', 'index', 'insert', 'pop', 'remove', 'reverse', 'sort']\n"
     ]
    }
   ],
   "source": [
    "print(dir(deck))"
   ]
  },
  {
   "cell_type": "markdown",
   "id": "07b5f310-32dc-40e6-9822-d24ef318a89e",
   "metadata": {},
   "source": [
    "### import random library"
   ]
  },
  {
   "cell_type": "code",
   "execution_count": 41,
   "id": "1c8c78d7-7c16-4195-a284-d673821cd9b3",
   "metadata": {},
   "outputs": [],
   "source": [
    "import random"
   ]
  },
  {
   "cell_type": "markdown",
   "id": "fd67805f-022e-4b1f-97f4-e69e17f8ea8e",
   "metadata": {},
   "source": [
    "### pick a random card from the deck"
   ]
  },
  {
   "cell_type": "code",
   "execution_count": 175,
   "id": "7c4c7303-5bc4-4b70-8815-a77d1e98ec0c",
   "metadata": {},
   "outputs": [
    {
     "data": {
      "text/plain": [
       "'4 of Hearts'"
      ]
     },
     "execution_count": 175,
     "metadata": {},
     "output_type": "execute_result"
    }
   ],
   "source": [
    "deck[random.randint(0,51)]"
   ]
  },
  {
   "cell_type": "code",
   "execution_count": 180,
   "id": "a46896b4-753c-4c30-97aa-cdbc43cbf0f7",
   "metadata": {},
   "outputs": [
    {
     "name": "stdout",
     "output_type": "stream",
     "text": [
      "Your selected card is: Ace of Spades.\n",
      "49\n"
     ]
    }
   ],
   "source": [
    "which = random.randint(0, len(deck)-1)\n",
    "print(f\"Your selected card is: {deck[which]}.\")\n",
    "deck.pop(which)\n",
    "print(len(deck))"
   ]
  },
  {
   "cell_type": "code",
   "execution_count": 181,
   "id": "1f9cf8b0-8b8a-4408-bbad-bd5fbd172620",
   "metadata": {},
   "outputs": [
    {
     "name": "stdout",
     "output_type": "stream",
     "text": [
      "Help on method shuffle in module random:\n",
      "\n",
      "shuffle(x) method of random.Random instance\n",
      "    Shuffle list x in place, and return None.\n",
      "\n"
     ]
    }
   ],
   "source": [
    "help(random.shuffle)"
   ]
  },
  {
   "cell_type": "code",
   "execution_count": 247,
   "id": "21f3a221-ab59-47b0-9c5c-4dbb0f8d0530",
   "metadata": {},
   "outputs": [
    {
     "name": "stdout",
     "output_type": "stream",
     "text": [
      "['7 of Spades', '5 of Spades', 'Queen of Clubs', '2 of Spades', 'Queen of Spades', '3 of Spades', '8 of Clubs', '10 of Hearts', 'Jack of Clubs', 'King of Clubs', '8 of Spades', '2 of Clubs', 'King of Diamonds', 'King of Hearts', '9 of Diamonds', 'Queen of Hearts', '6 of Clubs', '5 of Diamonds', '9 of Spades', '8 of Diamonds', '4 of Diamonds', '5 of Clubs', '7 of Clubs', '10 of Spades', '2 of Diamonds', 'Jack of Diamonds', '10 of Clubs', '4 of Spades', 'Jack of Spades', '4 of Clubs', 'Ace of Hearts', '7 of Diamonds', '8 of Hearts', 'Queen of Diamonds', '7 of Hearts', '4 of Hearts', '6 of Hearts', 'Ace of Diamonds', '9 of Hearts', 'King of Spades', '10 of Diamonds', '9 of Clubs', '2 of Hearts', '3 of Diamonds', '3 of Hearts', '5 of Hearts', '3 of Clubs', '6 of Spades', '6 of Diamonds']\n"
     ]
    }
   ],
   "source": [
    "random.shuffle(deck)\n",
    "print(deck)"
   ]
  },
  {
   "cell_type": "code",
   "execution_count": 252,
   "id": "70dd7d92-cf3a-44a3-ae2b-0a3074b8871b",
   "metadata": {},
   "outputs": [],
   "source": [
    "def generateDeck():\n",
    "    deck = []\n",
    "\n",
    "    for suit in suits:\n",
    "        for value in faces + numbers:\n",
    "            deck.append(f\"{value} of {suit}\")\n",
    "    random.shuffle(deck)\n",
    "    return deck\n"
   ]
  },
  {
   "cell_type": "code",
   "execution_count": 364,
   "id": "e20a5907-5519-4ad4-87e8-913cb906f3ce",
   "metadata": {},
   "outputs": [
    {
     "data": {
      "text/plain": [
       "['Jack of Clubs',\n",
       " '10 of Diamonds',\n",
       " '7 of Hearts',\n",
       " 'Queen of Hearts',\n",
       " 'Ace of Spades',\n",
       " '2 of Spades',\n",
       " '6 of Hearts',\n",
       " '3 of Diamonds',\n",
       " '9 of Spades',\n",
       " 'King of Hearts',\n",
       " 'Ace of Clubs',\n",
       " '8 of Spades',\n",
       " '2 of Hearts']"
      ]
     },
     "execution_count": 364,
     "metadata": {},
     "output_type": "execute_result"
    }
   ],
   "source": [
    "myDeck = generateDeck()\n",
    "myDeck[:13]"
   ]
  },
  {
   "cell_type": "code",
   "execution_count": 365,
   "id": "eb70b253-0ca9-4679-a6e1-9ac4d8711e3d",
   "metadata": {},
   "outputs": [
    {
     "name": "stdout",
     "output_type": "stream",
     "text": [
      "52\n",
      "Your sekected card is: 2 of Clubs.\n",
      "51\n"
     ]
    }
   ],
   "source": [
    "print(len(myDeck))\n",
    "print(f\"Your sekected card is: {myDeck.pop()}.\")\n",
    "print(len(myDeck))"
   ]
  }
 ],
 "metadata": {
  "kernelspec": {
   "display_name": "Python 3 (ipykernel)",
   "language": "python",
   "name": "python3"
  },
  "language_info": {
   "codemirror_mode": {
    "name": "ipython",
    "version": 3
   },
   "file_extension": ".py",
   "mimetype": "text/x-python",
   "name": "python",
   "nbconvert_exporter": "python",
   "pygments_lexer": "ipython3",
   "version": "3.12.6"
  }
 },
 "nbformat": 4,
 "nbformat_minor": 5
}
