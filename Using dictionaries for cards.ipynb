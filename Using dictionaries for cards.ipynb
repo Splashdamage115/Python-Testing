{
 "cells": [
  {
   "cell_type": "code",
   "execution_count": 287,
   "id": "d03d6212-254c-4534-85a7-895877f7038b",
   "metadata": {},
   "outputs": [],
   "source": [
    "suits = (\"Clubs\", \"Spades\", \"Hearts\", \"Diamonds\") \n",
    "faces = (\"Ace\", \"King\", \"Queen\", \"Jack\")\n",
    "numbers = (2, 3, 4 ,5, 6, 7, 8, 9, 10)\n",
    "\n"
   ]
  },
  {
   "cell_type": "code",
   "execution_count": 46,
   "id": "6d26ffbb-07f0-437c-8a5b-7f8241a5c5b9",
   "metadata": {},
   "outputs": [
    {
     "data": {
      "text/plain": [
       "{'Ace of Clubs': [1, 11],\n",
       " 'King of Clubs': 10,\n",
       " 'Queen of Clubs': 10,\n",
       " 'Jack of Clubs': 10,\n",
       " '2 of Clubs': 2,\n",
       " '3 of Clubs': 3,\n",
       " '4 of Clubs': 4,\n",
       " '5 of Clubs': 5,\n",
       " '6 of Clubs': 6,\n",
       " '7 of Clubs': 7,\n",
       " '8 of Clubs': 8,\n",
       " '9 of Clubs': 9,\n",
       " '10 of Clubs': 10,\n",
       " 'Ace of Spades': [1, 11],\n",
       " 'King of Spades': 10,\n",
       " 'Queen of Spades': 10,\n",
       " 'Jack of Spades': 10,\n",
       " '2 of Spades': 2,\n",
       " '3 of Spades': 3,\n",
       " '4 of Spades': 4,\n",
       " '5 of Spades': 5,\n",
       " '6 of Spades': 6,\n",
       " '7 of Spades': 7,\n",
       " '8 of Spades': 8,\n",
       " '9 of Spades': 9,\n",
       " '10 of Spades': 10,\n",
       " 'Ace of Hearts': [1, 11],\n",
       " 'King of Hearts': 10,\n",
       " 'Queen of Hearts': 10,\n",
       " 'Jack of Hearts': 10,\n",
       " '2 of Hearts': 2,\n",
       " '3 of Hearts': 3,\n",
       " '4 of Hearts': 4,\n",
       " '5 of Hearts': 5,\n",
       " '6 of Hearts': 6,\n",
       " '7 of Hearts': 7,\n",
       " '8 of Hearts': 8,\n",
       " '9 of Hearts': 9,\n",
       " '10 of Hearts': 10,\n",
       " 'Ace of Diamonds': [1, 11],\n",
       " 'King of Diamonds': 10,\n",
       " 'Queen of Diamonds': 10,\n",
       " 'Jack of Diamonds': 10,\n",
       " '2 of Diamonds': 2,\n",
       " '3 of Diamonds': 3,\n",
       " '4 of Diamonds': 4,\n",
       " '5 of Diamonds': 5,\n",
       " '6 of Diamonds': 6,\n",
       " '7 of Diamonds': 7,\n",
       " '8 of Diamonds': 8,\n",
       " '9 of Diamonds': 9,\n",
       " '10 of Diamonds': 10}"
      ]
     },
     "execution_count": 46,
     "metadata": {},
     "output_type": "execute_result"
    }
   ],
   "source": [
    "cards"
   ]
  },
  {
   "cell_type": "code",
   "execution_count": 47,
   "id": "5b16fc7a-cc3b-4c73-bc5f-5c1d13541f00",
   "metadata": {},
   "outputs": [
    {
     "data": {
      "text/plain": [
       "52"
      ]
     },
     "execution_count": 47,
     "metadata": {},
     "output_type": "execute_result"
    }
   ],
   "source": [
    "len(cards)"
   ]
  },
  {
   "cell_type": "code",
   "execution_count": 290,
   "id": "754e2114-a751-4051-9da8-0de0311fc9b7",
   "metadata": {},
   "outputs": [],
   "source": [
    "import random\n",
    "def cards_dict():\n",
    "    \"\"\"\n",
    "    Returns a shuffled dictionary of cards using \"name\" \"value\" pairs\n",
    "    \"\"\"\n",
    "    cards = {}\n",
    "    for suit in suits:\n",
    "        for card in faces + numbers:\n",
    "            value = 0\n",
    "            if card == \"Ace\":\n",
    "                value = [1,11]\n",
    "            elif card in [\"Jack\", \"Queen\", \"King\"]:\n",
    "                value = 10\n",
    "            else:\n",
    "                value = card\n",
    "            name = f\"{card} of {suit}\"\n",
    "            cards.update({name: value})\n",
    "        \n",
    "    cards_list = list(cards.items())\n",
    "    random.shuffle(cards_list)\n",
    "    return dict(cards_list)"
   ]
  },
  {
   "cell_type": "code",
   "execution_count": 291,
   "id": "832c514d-a07a-477e-9087-7a82a3e608a5",
   "metadata": {},
   "outputs": [
    {
     "name": "stdout",
     "output_type": "stream",
     "text": [
      "{'King of Spades': 10, '9 of Clubs': 9, 'Ace of Clubs': [1, 11], 'Queen of Hearts': 10, '6 of Diamonds': 6, '7 of Diamonds': 7, '4 of Spades': 4, '7 of Hearts': 7, '7 of Clubs': 7, 'Jack of Hearts': 10, '3 of Diamonds': 3, '2 of Diamonds': 2, 'Jack of Clubs': 10, '8 of Hearts': 8, 'King of Clubs': 10, '5 of Spades': 5, 'Queen of Diamonds': 10, 'King of Diamonds': 10, '4 of Clubs': 4, 'Jack of Diamonds': 10, '5 of Clubs': 5, 'Ace of Spades': [1, 11], '10 of Spades': 10, '7 of Spades': 7, '5 of Diamonds': 5, '9 of Hearts': 9, '4 of Hearts': 4, '10 of Clubs': 10, 'Jack of Spades': 10, '3 of Spades': 3, 'Queen of Clubs': 10, '6 of Hearts': 6, '2 of Spades': 2, 'Queen of Spades': 10, 'King of Hearts': 10, '3 of Hearts': 3, '8 of Clubs': 8, '8 of Spades': 8, '2 of Clubs': 2, '10 of Hearts': 10, '6 of Spades': 6, '2 of Hearts': 2, '8 of Diamonds': 8, 'Ace of Diamonds': [1, 11], '9 of Diamonds': 9, '6 of Clubs': 6, '10 of Diamonds': 10, '3 of Clubs': 3, 'Ace of Hearts': [1, 11], '5 of Hearts': 5, '9 of Spades': 9, '4 of Diamonds': 4}\n"
     ]
    }
   ],
   "source": [
    "print(cards_dict())"
   ]
  },
  {
   "cell_type": "code",
   "execution_count": 292,
   "id": "79d608e4-9631-401e-93d3-49e6dd7416d5",
   "metadata": {},
   "outputs": [
    {
     "data": {
      "text/plain": [
       "52"
      ]
     },
     "execution_count": 292,
     "metadata": {},
     "output_type": "execute_result"
    }
   ],
   "source": [
    "len(cards_dict())"
   ]
  },
  {
   "cell_type": "code",
   "execution_count": null,
   "id": "d1581822-a0ff-4900-b552-d872bae2f1c7",
   "metadata": {},
   "outputs": [],
   "source": []
  }
 ],
 "metadata": {
  "kernelspec": {
   "display_name": "Python 3 (ipykernel)",
   "language": "python",
   "name": "python3"
  },
  "language_info": {
   "codemirror_mode": {
    "name": "ipython",
    "version": 3
   },
   "file_extension": ".py",
   "mimetype": "text/x-python",
   "name": "python",
   "nbconvert_exporter": "python",
   "pygments_lexer": "ipython3",
   "version": "3.12.6"
  }
 },
 "nbformat": 4,
 "nbformat_minor": 5
}
