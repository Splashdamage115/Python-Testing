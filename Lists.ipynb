{
 "cells": [
  {
   "cell_type": "code",
   "execution_count": 1,
   "id": "02a2c7f8-a919-46e8-a1d2-fadbb6ae2cfc",
   "metadata": {},
   "outputs": [],
   "source": [
    "letters = list(\"afhugrhnuikal;dxcjhi\")"
   ]
  },
  {
   "cell_type": "code",
   "execution_count": 3,
   "id": "e31c3008-1108-4739-997b-502b2a80d242",
   "metadata": {},
   "outputs": [
    {
     "data": {
      "text/plain": [
       "20"
      ]
     },
     "execution_count": 3,
     "metadata": {},
     "output_type": "execute_result"
    }
   ],
   "source": [
    "len(letters)"
   ]
  },
  {
   "cell_type": "code",
   "execution_count": 4,
   "id": "3b117cc0-7448-44d5-94a4-2f7c0c640eb3",
   "metadata": {},
   "outputs": [
    {
     "name": "stdout",
     "output_type": "stream",
     "text": [
      "['a', 'f', 'h', 'u', 'g', 'r', 'h', 'n', 'u', 'i', 'k', 'a', 'l', ';', 'd', 'x', 'c', 'j', 'h', 'i']\n"
     ]
    }
   ],
   "source": [
    "print(letters)"
   ]
  },
  {
   "cell_type": "code",
   "execution_count": 5,
   "id": "ba1ba1a9-c37f-42e0-90c1-f87425e28a52",
   "metadata": {},
   "outputs": [],
   "source": [
    "letters.append(42)"
   ]
  },
  {
   "cell_type": "code",
   "execution_count": 6,
   "id": "21c7d711-c959-448f-b755-3d6d23d14d86",
   "metadata": {},
   "outputs": [
    {
     "name": "stdout",
     "output_type": "stream",
     "text": [
      "['a', 'f', 'h', 'u', 'g', 'r', 'h', 'n', 'u', 'i', 'k', 'a', 'l', ';', 'd', 'x', 'c', 'j', 'h', 'i', 42]\n"
     ]
    }
   ],
   "source": [
    "print(letters)"
   ]
  },
  {
   "cell_type": "code",
   "execution_count": 7,
   "id": "a4878546-7bbe-4eee-a55d-01f8f7b6e660",
   "metadata": {},
   "outputs": [],
   "source": [
    "words = \"This is another list of words\".split()"
   ]
  },
  {
   "cell_type": "code",
   "execution_count": 8,
   "id": "2e78ffd9-84a8-4cbd-a992-7886498d74ef",
   "metadata": {},
   "outputs": [
    {
     "data": {
      "text/plain": [
       "['This', 'is', 'another', 'list', 'of', 'words']"
      ]
     },
     "execution_count": 8,
     "metadata": {},
     "output_type": "execute_result"
    }
   ],
   "source": [
    "words"
   ]
  },
  {
   "cell_type": "code",
   "execution_count": 9,
   "id": "d40a0580-386c-4b71-8f3e-2e8756b24001",
   "metadata": {},
   "outputs": [],
   "source": [
    "letters.insert(0, words)"
   ]
  },
  {
   "cell_type": "code",
   "execution_count": 10,
   "id": "c72098d3-a36c-4954-baa7-fe01f89d4112",
   "metadata": {},
   "outputs": [
    {
     "name": "stdout",
     "output_type": "stream",
     "text": [
      "[['This', 'is', 'another', 'list', 'of', 'words'], 'a', 'f', 'h', 'u', 'g', 'r', 'h', 'n', 'u', 'i', 'k', 'a', 'l', ';', 'd', 'x', 'c', 'j', 'h', 'i', 42]\n"
     ]
    }
   ],
   "source": [
    "print(letters)"
   ]
  },
  {
   "cell_type": "code",
   "execution_count": 11,
   "id": "81360a57-3fe0-4bab-9d68-a66f63d763bc",
   "metadata": {},
   "outputs": [
    {
     "data": {
      "text/plain": [
       "['This', 'is', 'another', 'list', 'of', 'words']"
      ]
     },
     "execution_count": 11,
     "metadata": {},
     "output_type": "execute_result"
    }
   ],
   "source": [
    "letters[0]"
   ]
  },
  {
   "cell_type": "code",
   "execution_count": 12,
   "id": "822f34ce-588c-476e-8873-51c85b02d917",
   "metadata": {},
   "outputs": [
    {
     "data": {
      "text/plain": [
       "'This'"
      ]
     },
     "execution_count": 12,
     "metadata": {},
     "output_type": "execute_result"
    }
   ],
   "source": [
    "letters[0][0]"
   ]
  },
  {
   "cell_type": "code",
   "execution_count": 13,
   "id": "9173947c-ab9a-4db7-af87-c42b710a07ab",
   "metadata": {},
   "outputs": [
    {
     "data": {
      "text/plain": [
       "'T'"
      ]
     },
     "execution_count": 13,
     "metadata": {},
     "output_type": "execute_result"
    }
   ],
   "source": [
    "letters[0][0][0]"
   ]
  },
  {
   "cell_type": "code",
   "execution_count": 14,
   "id": "4a8444ba-1376-4884-8790-ea93a600f60f",
   "metadata": {},
   "outputs": [],
   "source": [
    "words.append(\"Whate?\")"
   ]
  },
  {
   "cell_type": "code",
   "execution_count": 15,
   "id": "6db1ccda-7be7-46fd-8bc6-20712d806f4d",
   "metadata": {},
   "outputs": [
    {
     "data": {
      "text/plain": [
       "['This', 'is', 'another', 'list', 'of', 'words', 'Whate?']"
      ]
     },
     "execution_count": 15,
     "metadata": {},
     "output_type": "execute_result"
    }
   ],
   "source": [
    "letters[0]"
   ]
  },
  {
   "cell_type": "code",
   "execution_count": 17,
   "id": "dbbc95a2-74f4-4218-95b5-4abf8a9b9d8f",
   "metadata": {},
   "outputs": [
    {
     "data": {
      "text/plain": [
       "2788507659264"
      ]
     },
     "execution_count": 17,
     "metadata": {},
     "output_type": "execute_result"
    }
   ],
   "source": [
    "id(words)"
   ]
  },
  {
   "cell_type": "code",
   "execution_count": 18,
   "id": "ace0aea5-c27f-4092-9c25-4fe644289c22",
   "metadata": {},
   "outputs": [],
   "source": [
    "words.append([\"one\", \"two\", \"three\"])"
   ]
  },
  {
   "cell_type": "code",
   "execution_count": 19,
   "id": "f0b70e9a-02a0-454d-88eb-fb3d64769405",
   "metadata": {},
   "outputs": [
    {
     "name": "stdout",
     "output_type": "stream",
     "text": [
      "[['This', 'is', 'another', 'list', 'of', 'words', 'Whate?', ['one', 'two', 'three']], 'a', 'f', 'h', 'u', 'g', 'r', 'h', 'n', 'u', 'i', 'k', 'a', 'l', ';', 'd', 'x', 'c', 'j', 'h', 'i', 42]\n"
     ]
    }
   ],
   "source": [
    "print(letters)"
   ]
  },
  {
   "cell_type": "code",
   "execution_count": 20,
   "id": "24b32397-07e5-4132-bb70-a56bf5f2d677",
   "metadata": {},
   "outputs": [
    {
     "data": {
      "text/plain": [
       "'three'"
      ]
     },
     "execution_count": 20,
     "metadata": {},
     "output_type": "execute_result"
    }
   ],
   "source": [
    "letters[0][-1][-1]"
   ]
  },
  {
   "cell_type": "code",
   "execution_count": 21,
   "id": "752f0f2c-5062-474e-90e9-6a18a205ead9",
   "metadata": {},
   "outputs": [
    {
     "data": {
      "text/plain": [
       "'e'"
      ]
     },
     "execution_count": 21,
     "metadata": {},
     "output_type": "execute_result"
    }
   ],
   "source": [
    "letters[0][-1][-1][-1]"
   ]
  },
  {
   "cell_type": "code",
   "execution_count": 22,
   "id": "e8a36dad-e829-4ab7-a80d-583dc2d0889a",
   "metadata": {},
   "outputs": [],
   "source": [
    "letters[0][-1].append([1,2,3,4,5,6,7])"
   ]
  },
  {
   "cell_type": "code",
   "execution_count": 25,
   "id": "ace25b4f-9a10-4c54-8283-cf6c54625b08",
   "metadata": {},
   "outputs": [
    {
     "name": "stdout",
     "output_type": "stream",
     "text": [
      "['This', 'is', 'another', 'list', 'of', 'words', 'Whate?', ['one', 'two', 'three', [1, 2, 3, 4, 5, 6, 7]]]\n"
     ]
    }
   ],
   "source": [
    "print(words)"
   ]
  },
  {
   "cell_type": "code",
   "execution_count": 26,
   "id": "e4ca5ddb-c2f8-4dfd-acec-5ad8ea278964",
   "metadata": {},
   "outputs": [
    {
     "name": "stdout",
     "output_type": "stream",
     "text": [
      "[['This', 'is', 'another', 'list', 'of', 'words', 'Whate?', ['one', 'two', 'three', [1, 2, 3, 4, 5, 6, 7]]], 'a', 'f', 'h', 'u', 'g', 'r', 'h', 'n', 'u', 'i', 'k', 'a', 'l', ';', 'd', 'x', 'c', 'j', 'h', 'i', 42]\n"
     ]
    }
   ],
   "source": [
    "print(letters)"
   ]
  },
  {
   "cell_type": "code",
   "execution_count": 27,
   "id": "ce7b81f6-f7bf-4ebf-bdc2-356849de09bf",
   "metadata": {},
   "outputs": [],
   "source": [
    "import pprint"
   ]
  },
  {
   "cell_type": "code",
   "execution_count": 28,
   "id": "eda69be0-b330-41f8-b745-7bae0aba410f",
   "metadata": {},
   "outputs": [
    {
     "name": "stdout",
     "output_type": "stream",
     "text": [
      "[['This',\n",
      "  'is',\n",
      "  'another',\n",
      "  'list',\n",
      "  'of',\n",
      "  'words',\n",
      "  'Whate?',\n",
      "  ['one', 'two', 'three', [1, 2, 3, 4, 5, 6, 7]]],\n",
      " 'a',\n",
      " 'f',\n",
      " 'h',\n",
      " 'u',\n",
      " 'g',\n",
      " 'r',\n",
      " 'h',\n",
      " 'n',\n",
      " 'u',\n",
      " 'i',\n",
      " 'k',\n",
      " 'a',\n",
      " 'l',\n",
      " ';',\n",
      " 'd',\n",
      " 'x',\n",
      " 'c',\n",
      " 'j',\n",
      " 'h',\n",
      " 'i',\n",
      " 42]\n"
     ]
    }
   ],
   "source": [
    "pprint.pprint(letters)"
   ]
  },
  {
   "cell_type": "code",
   "execution_count": 29,
   "id": "919ab45c-44af-4656-8aea-530d7e3ec422",
   "metadata": {},
   "outputs": [],
   "source": [
    "funcs = (print, len, type)"
   ]
  },
  {
   "cell_type": "code",
   "execution_count": 30,
   "id": "ecf274fc-f020-4112-86fb-38c0b541393b",
   "metadata": {},
   "outputs": [
    {
     "data": {
      "text/plain": [
       "(<function print(*args, sep=' ', end='\\n', file=None, flush=False)>,\n",
       " <function len(obj, /)>,\n",
       " type)"
      ]
     },
     "execution_count": 30,
     "metadata": {},
     "output_type": "execute_result"
    }
   ],
   "source": [
    "funcs"
   ]
  },
  {
   "cell_type": "code",
   "execution_count": 31,
   "id": "949cfe1e-3e6c-4136-812d-3263bc40df24",
   "metadata": {},
   "outputs": [
    {
     "name": "stdout",
     "output_type": "stream",
     "text": [
      "(<built-in function print>, <built-in function len>, <class 'type'>)\n"
     ]
    }
   ],
   "source": [
    "pprint.pprint(funcs)"
   ]
  },
  {
   "cell_type": "code",
   "execution_count": 33,
   "id": "302cbac0-f682-4a4f-85a6-b8f189a7d359",
   "metadata": {},
   "outputs": [
    {
     "data": {
      "text/plain": [
       "5"
      ]
     },
     "execution_count": 33,
     "metadata": {},
     "output_type": "execute_result"
    }
   ],
   "source": [
    "funcs[1](\"Hello\")"
   ]
  },
  {
   "cell_type": "code",
   "execution_count": 34,
   "id": "fe46253d-a239-41e2-9fd4-35247f5eecd1",
   "metadata": {},
   "outputs": [
    {
     "data": {
      "text/plain": [
       "tuple"
      ]
     },
     "execution_count": 34,
     "metadata": {},
     "output_type": "execute_result"
    }
   ],
   "source": [
    "type(funcs)"
   ]
  },
  {
   "cell_type": "code",
   "execution_count": 35,
   "id": "ad797a8d-3401-4641-8799-20bd0c9b7d5d",
   "metadata": {
    "scrolled": true
   },
   "outputs": [
    {
     "name": "stdout",
     "output_type": "stream",
     "text": [
      "Help on class tuple in module builtins:\n",
      "\n",
      "class tuple(object)\n",
      " |  tuple(iterable=(), /)\n",
      " |\n",
      " |  Built-in immutable sequence.\n",
      " |\n",
      " |  If no argument is given, the constructor returns an empty tuple.\n",
      " |  If iterable is specified the tuple is initialized from iterable's items.\n",
      " |\n",
      " |  If the argument is a tuple, the return value is the same object.\n",
      " |\n",
      " |  Built-in subclasses:\n",
      " |      asyncgen_hooks\n",
      " |      UnraisableHookArgs\n",
      " |\n",
      " |  Methods defined here:\n",
      " |\n",
      " |  __add__(self, value, /)\n",
      " |      Return self+value.\n",
      " |\n",
      " |  __contains__(self, key, /)\n",
      " |      Return bool(key in self).\n",
      " |\n",
      " |  __eq__(self, value, /)\n",
      " |      Return self==value.\n",
      " |\n",
      " |  __ge__(self, value, /)\n",
      " |      Return self>=value.\n",
      " |\n",
      " |  __getattribute__(self, name, /)\n",
      " |      Return getattr(self, name).\n",
      " |\n",
      " |  __getitem__(self, key, /)\n",
      " |      Return self[key].\n",
      " |\n",
      " |  __getnewargs__(self, /)\n",
      " |\n",
      " |  __gt__(self, value, /)\n",
      " |      Return self>value.\n",
      " |\n",
      " |  __hash__(self, /)\n",
      " |      Return hash(self).\n",
      " |\n",
      " |  __iter__(self, /)\n",
      " |      Implement iter(self).\n",
      " |\n",
      " |  __le__(self, value, /)\n",
      " |      Return self<=value.\n",
      " |\n",
      " |  __len__(self, /)\n",
      " |      Return len(self).\n",
      " |\n",
      " |  __lt__(self, value, /)\n",
      " |      Return self<value.\n",
      " |\n",
      " |  __mul__(self, value, /)\n",
      " |      Return self*value.\n",
      " |\n",
      " |  __ne__(self, value, /)\n",
      " |      Return self!=value.\n",
      " |\n",
      " |  __repr__(self, /)\n",
      " |      Return repr(self).\n",
      " |\n",
      " |  __rmul__(self, value, /)\n",
      " |      Return value*self.\n",
      " |\n",
      " |  count(self, value, /)\n",
      " |      Return number of occurrences of value.\n",
      " |\n",
      " |  index(self, value, start=0, stop=9223372036854775807, /)\n",
      " |      Return first index of value.\n",
      " |\n",
      " |      Raises ValueError if the value is not present.\n",
      " |\n",
      " |  ----------------------------------------------------------------------\n",
      " |  Class methods defined here:\n",
      " |\n",
      " |  __class_getitem__(...)\n",
      " |      See PEP 585\n",
      " |\n",
      " |  ----------------------------------------------------------------------\n",
      " |  Static methods defined here:\n",
      " |\n",
      " |  __new__(*args, **kwargs)\n",
      " |      Create and return a new object.  See help(type) for accurate signature.\n",
      "\n"
     ]
    }
   ],
   "source": [
    "help(tuple)"
   ]
  },
  {
   "cell_type": "code",
   "execution_count": 36,
   "id": "b1e55a5b-9c02-4589-8aa4-b6bbe3fef0a8",
   "metadata": {},
   "outputs": [],
   "source": [
    "funcs2 = [print, len, type]"
   ]
  },
  {
   "cell_type": "code",
   "execution_count": 37,
   "id": "dd8c6cb8-fc65-4698-adef-3668be302420",
   "metadata": {},
   "outputs": [
    {
     "name": "stdout",
     "output_type": "stream",
     "text": [
      "[<built-in function print>, <built-in function len>, <class 'type'>]\n"
     ]
    }
   ],
   "source": [
    "pprint.pprint(funcs2)"
   ]
  },
  {
   "cell_type": "code",
   "execution_count": 38,
   "id": "e667a7aa-fc59-4b93-b8a9-7a3e6191d85d",
   "metadata": {},
   "outputs": [
    {
     "name": "stdout",
     "output_type": "stream",
     "text": [
      "['__add__', '__class__', '__class_getitem__', '__contains__', '__delattr__', '__delitem__', '__dir__', '__doc__', '__eq__', '__format__', '__ge__', '__getattribute__', '__getitem__', '__getstate__', '__gt__', '__hash__', '__iadd__', '__imul__', '__init__', '__init_subclass__', '__iter__', '__le__', '__len__', '__lt__', '__mul__', '__ne__', '__new__', '__reduce__', '__reduce_ex__', '__repr__', '__reversed__', '__rmul__', '__setattr__', '__setitem__', '__sizeof__', '__str__', '__subclasshook__', 'append', 'clear', 'copy', 'count', 'extend', 'index', 'insert', 'pop', 'remove', 'reverse', 'sort']\n"
     ]
    }
   ],
   "source": [
    "print(dir(list))"
   ]
  },
  {
   "cell_type": "code",
   "execution_count": 39,
   "id": "2d805fba-16a5-4a83-9c22-f95d8d2b386c",
   "metadata": {},
   "outputs": [
    {
     "name": "stdout",
     "output_type": "stream",
     "text": [
      "['__add__', '__class__', '__class_getitem__', '__contains__', '__delattr__', '__dir__', '__doc__', '__eq__', '__format__', '__ge__', '__getattribute__', '__getitem__', '__getnewargs__', '__getstate__', '__gt__', '__hash__', '__init__', '__init_subclass__', '__iter__', '__le__', '__len__', '__lt__', '__mul__', '__ne__', '__new__', '__reduce__', '__reduce_ex__', '__repr__', '__rmul__', '__setattr__', '__sizeof__', '__str__', '__subclasshook__', 'count', 'index']\n"
     ]
    }
   ],
   "source": [
    "print(dir(tuple))"
   ]
  },
  {
   "cell_type": "markdown",
   "id": "17050ba6-c2ac-4661-9ab9-30eb60a48712",
   "metadata": {},
   "source": [
    "### What about GO FISH?"
   ]
  },
  {
   "cell_type": "code",
   "execution_count": 43,
   "id": "5c0cf72d-0b5f-46bd-98c5-a88c1de1c161",
   "metadata": {},
   "outputs": [],
   "source": [
    "num = 42\n",
    "string = \"Hello\""
   ]
  },
  {
   "cell_type": "code",
   "execution_count": 45,
   "id": "95db8583-263f-4799-ade7-9d3f7dccbf1d",
   "metadata": {},
   "outputs": [
    {
     "data": {
      "text/plain": [
       "'The number is 42 and the word is Hello.'"
      ]
     },
     "execution_count": 45,
     "metadata": {},
     "output_type": "execute_result"
    }
   ],
   "source": [
    "\"The number is \" + str(num) + \" and the word is \" + string + \".\""
   ]
  },
  {
   "cell_type": "code",
   "execution_count": 46,
   "id": "f8ba5787-293e-474a-8ebf-9d6753bdc741",
   "metadata": {},
   "outputs": [
    {
     "data": {
      "text/plain": [
       "'The number is 42 and the word is Hello.'"
      ]
     },
     "execution_count": 46,
     "metadata": {},
     "output_type": "execute_result"
    }
   ],
   "source": [
    "f\"The number is {num} and the word is {string}.\""
   ]
  },
  {
   "cell_type": "code",
   "execution_count": null,
   "id": "e03812e5-0a7c-4bd8-a4ad-dbb84900d6f4",
   "metadata": {},
   "outputs": [],
   "source": []
  }
 ],
 "metadata": {
  "kernelspec": {
   "display_name": "Python 3 (ipykernel)",
   "language": "python",
   "name": "python3"
  },
  "language_info": {
   "codemirror_mode": {
    "name": "ipython",
    "version": 3
   },
   "file_extension": ".py",
   "mimetype": "text/x-python",
   "name": "python",
   "nbconvert_exporter": "python",
   "pygments_lexer": "ipython3",
   "version": "3.12.6"
  }
 },
 "nbformat": 4,
 "nbformat_minor": 5
}
