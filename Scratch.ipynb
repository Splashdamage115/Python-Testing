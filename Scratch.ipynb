{
 "cells": [
  {
   "cell_type": "code",
   "execution_count": 1,
   "id": "eadebcdc-139a-46e8-bf6a-1e6ffed226bc",
   "metadata": {},
   "outputs": [],
   "source": [
    "import cards"
   ]
  },
  {
   "cell_type": "code",
   "execution_count": 2,
   "id": "1639118a-d341-4239-8944-76580bc4761c",
   "metadata": {},
   "outputs": [
    {
     "name": "stdout",
     "output_type": "stream",
     "text": [
      "['__builtins__', '__cached__', '__doc__', '__file__', '__loader__', '__name__', '__package__', '__spec__', 'faces', 'generateDeck', 'numbers', 'random', 'suits']\n"
     ]
    }
   ],
   "source": [
    "print(dir(cards))"
   ]
  },
  {
   "cell_type": "code",
   "execution_count": 3,
   "id": "7a7756e3-efc2-4147-a5a9-f9102c62d928",
   "metadata": {},
   "outputs": [
    {
     "data": {
      "text/plain": [
       "['6 of Spades',\n",
       " '7 of Clubs',\n",
       " 'King of Diamonds',\n",
       " '10 of Hearts',\n",
       " '3 of Diamonds',\n",
       " '10 of Clubs',\n",
       " 'Ace of Spades',\n",
       " '5 of Clubs',\n",
       " '8 of Spades',\n",
       " '7 of Diamonds',\n",
       " '2 of Hearts',\n",
       " 'Ace of Clubs',\n",
       " '9 of Diamonds',\n",
       " 'Ace of Diamonds',\n",
       " '4 of Clubs',\n",
       " '2 of Diamonds',\n",
       " '5 of Hearts',\n",
       " '10 of Diamonds',\n",
       " '3 of Spades',\n",
       " '4 of Diamonds',\n",
       " 'Queen of Clubs',\n",
       " '6 of Diamonds',\n",
       " 'King of Hearts',\n",
       " 'Ace of Hearts',\n",
       " '8 of Hearts',\n",
       " '6 of Clubs',\n",
       " 'Jack of Diamonds',\n",
       " '8 of Diamonds',\n",
       " '4 of Hearts',\n",
       " '9 of Hearts',\n",
       " '2 of Clubs',\n",
       " '3 of Hearts',\n",
       " '2 of Spades',\n",
       " '4 of Spades',\n",
       " 'Queen of Spades',\n",
       " '9 of Spades',\n",
       " 'King of Spades',\n",
       " 'Queen of Diamonds',\n",
       " '8 of Clubs',\n",
       " '5 of Diamonds',\n",
       " 'King of Clubs',\n",
       " 'Jack of Hearts',\n",
       " '5 of Spades',\n",
       " '7 of Spades',\n",
       " '7 of Hearts',\n",
       " '9 of Clubs',\n",
       " 'Queen of Hearts',\n",
       " 'Jack of Clubs',\n",
       " '6 of Hearts',\n",
       " '10 of Spades',\n",
       " 'Jack of Spades',\n",
       " '3 of Clubs']"
      ]
     },
     "execution_count": 3,
     "metadata": {},
     "output_type": "execute_result"
    }
   ],
   "source": [
    "cards.generateDeck()"
   ]
  },
  {
   "cell_type": "code",
   "execution_count": 5,
   "id": "0f617d78-58ac-4877-b9f6-0fd629178698",
   "metadata": {},
   "outputs": [
    {
     "data": {
      "text/plain": [
       "('Ace', 'King', 'Queen', 'Jack')"
      ]
     },
     "execution_count": 5,
     "metadata": {},
     "output_type": "execute_result"
    }
   ],
   "source": [
    "cards.faces"
   ]
  },
  {
   "cell_type": "code",
   "execution_count": null,
   "id": "63b26b9e-f67c-4964-b32b-2760e4bf4616",
   "metadata": {},
   "outputs": [],
   "source": []
  }
 ],
 "metadata": {
  "kernelspec": {
   "display_name": "Python 3 (ipykernel)",
   "language": "python",
   "name": "python3"
  },
  "language_info": {
   "codemirror_mode": {
    "name": "ipython",
    "version": 3
   },
   "file_extension": ".py",
   "mimetype": "text/x-python",
   "name": "python",
   "nbconvert_exporter": "python",
   "pygments_lexer": "ipython3",
   "version": "3.12.6"
  }
 },
 "nbformat": 4,
 "nbformat_minor": 5
}
