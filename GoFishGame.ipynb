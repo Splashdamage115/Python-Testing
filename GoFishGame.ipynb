{
 "cells": [
  {
   "cell_type": "code",
   "execution_count": null,
   "id": "9c53bcc2-ab62-46bb-8516-f3a014fb7015",
   "metadata": {},
   "outputs": [],
   "source": [
    "import cards\n",
    "\n",
    "deck = cards.generateDeck()\n",
    "\n",
    "computer = []\n",
    "player = []\n",
    "\n",
    "for _ in range(7):\n",
    "    computer.append(deck.pop())\n",
    "    player.append(deck.pop())\n",
    "\n",
    "player.sort()\n",
    "computer.sort()\n",
    "\n",
    "player_pairs = []\n",
    "computer_pairs = []\n",
    "\n",
    "\n",
    "player, pairs = cards.identify_remove_pairs(player)\n",
    "player_pairs.extend(pairs)\n",
    "computer, pairs = cards.identify_remove_pairs(computer)\n",
    "computer_pairs.extend(pairs)\n",
    "\n",
    "print(f\"Here are your current cards:\\n{player}\\n\")\n",
    "print(f\"Here are the computers current cards:\\n{computer}\")"
   ]
  }
 ],
 "metadata": {
  "kernelspec": {
   "display_name": "Python 3 (ipykernel)",
   "language": "python",
   "name": "python3"
  },
  "language_info": {
   "codemirror_mode": {
    "name": "ipython",
    "version": 3
   },
   "file_extension": ".py",
   "mimetype": "text/x-python",
   "name": "python",
   "nbconvert_exporter": "python",
   "pygments_lexer": "ipython3",
   "version": "3.12.6"
  }
 },
 "nbformat": 4,
 "nbformat_minor": 5
}
