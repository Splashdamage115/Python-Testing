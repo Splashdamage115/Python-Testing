{
 "cells": [
  {
   "cell_type": "code",
   "execution_count": 6,
   "id": "9c53bcc2-ab62-46bb-8516-f3a014fb7015",
   "metadata": {},
   "outputs": [
    {
     "name": "stdout",
     "output_type": "stream",
     "text": [
      "Here are your current cards:\n",
      "['6 of Spades', '8 of Clubs', '9 of Hearts', 'Jack of Clubs', 'Queen of Hearts']\n",
      "\n",
      "\n",
      "\tPlayer's hand: \n",
      "\t\t0 --> 6 of Spades\n",
      "\t\t1 --> 8 of Clubs\n",
      "\t\t2 --> 9 of Hearts\n",
      "\t\t3 --> Jack of Clubs\n",
      "\t\t4 --> Queen of Hearts\n"
     ]
    },
    {
     "name": "stdin",
     "output_type": "stream",
     "text": [
      "\n",
      "\n",
      "Please select the number for the card you want from the above list 0\n"
     ]
    },
    {
     "name": "stdout",
     "output_type": "stream",
     "text": [
      "\n",
      "Go Fish\n",
      "\n",
      "You drew a 2 of Diamonds\n",
      "\n",
      "\tPlayer's hand: \n",
      "\t\t0 --> 6 of Spades\n",
      "\t\t1 --> 8 of Clubs\n",
      "\t\t2 --> 9 of Hearts\n",
      "\t\t3 --> Jack of Clubs\n",
      "\t\t4 --> Queen of Hearts\n",
      "\t\t5 --> 2 of Diamonds\n"
     ]
    },
    {
     "name": "stdin",
     "output_type": "stream",
     "text": [
      "\n",
      "From the computer: Do you have a 9? (y/n)  y\n"
     ]
    },
    {
     "name": "stdout",
     "output_type": "stream",
     "text": [
      "Here are your current cards:\n",
      "['2 of Diamonds', '6 of Spades', '8 of Clubs', 'Jack of Clubs', 'Queen of Hearts']\n",
      "\n",
      "\n",
      "\tPlayer's hand: \n",
      "\t\t0 --> 2 of Diamonds\n",
      "\t\t1 --> 6 of Spades\n",
      "\t\t2 --> 8 of Clubs\n",
      "\t\t3 --> Jack of Clubs\n",
      "\t\t4 --> Queen of Hearts\n"
     ]
    },
    {
     "name": "stdin",
     "output_type": "stream",
     "text": [
      "\n",
      "\n",
      "Please select the number for the card you want from the above list 0\n"
     ]
    },
    {
     "name": "stdout",
     "output_type": "stream",
     "text": [
      "\n",
      "Go Fish\n",
      "\n",
      "You drew a 6 of Diamonds\n",
      "\n",
      "\tPlayer's hand: \n",
      "\t\t0 --> 2 of Diamonds\n",
      "\t\t1 --> 8 of Clubs\n",
      "\t\t2 --> Jack of Clubs\n",
      "\t\t3 --> Queen of Hearts\n"
     ]
    },
    {
     "name": "stdin",
     "output_type": "stream",
     "text": [
      "\n",
      "From the computer: Do you have a King? (y/n)  n\n"
     ]
    },
    {
     "name": "stdout",
     "output_type": "stream",
     "text": [
      "Here are your current cards:\n",
      "['2 of Diamonds', '8 of Clubs', 'Jack of Clubs', 'Queen of Hearts']\n",
      "\n",
      "\n",
      "\tPlayer's hand: \n",
      "\t\t0 --> 2 of Diamonds\n",
      "\t\t1 --> 8 of Clubs\n",
      "\t\t2 --> Jack of Clubs\n",
      "\t\t3 --> Queen of Hearts\n"
     ]
    },
    {
     "name": "stdin",
     "output_type": "stream",
     "text": [
      "\n",
      "\n",
      "Please select the number for the card you want from the above list 1\n"
     ]
    },
    {
     "name": "stdout",
     "output_type": "stream",
     "text": [
      "\n",
      "Go Fish\n",
      "\n",
      "You drew a 5 of Hearts\n",
      "\n",
      "\tPlayer's hand: \n",
      "\t\t0 --> 2 of Diamonds\n",
      "\t\t1 --> 8 of Clubs\n",
      "\t\t2 --> Jack of Clubs\n",
      "\t\t3 --> Queen of Hearts\n",
      "\t\t4 --> 5 of Hearts\n"
     ]
    },
    {
     "name": "stdin",
     "output_type": "stream",
     "text": [
      "\n",
      "From the computer: Do you have a 10? (y/n)  n\n"
     ]
    },
    {
     "name": "stdout",
     "output_type": "stream",
     "text": [
      "Here are your current cards:\n",
      "['2 of Diamonds', '5 of Hearts', '8 of Clubs', 'Jack of Clubs', 'Queen of Hearts']\n",
      "\n",
      "\n",
      "\tPlayer's hand: \n",
      "\t\t0 --> 2 of Diamonds\n",
      "\t\t1 --> 5 of Hearts\n",
      "\t\t2 --> 8 of Clubs\n",
      "\t\t3 --> Jack of Clubs\n",
      "\t\t4 --> Queen of Hearts\n"
     ]
    },
    {
     "name": "stdin",
     "output_type": "stream",
     "text": [
      "\n",
      "\n",
      "Please select the number for the card you want from the above list 2\n"
     ]
    },
    {
     "name": "stdout",
     "output_type": "stream",
     "text": [
      "\n",
      "Go Fish\n",
      "\n",
      "You drew a 4 of Hearts\n",
      "\n",
      "\tPlayer's hand: \n",
      "\t\t0 --> 2 of Diamonds\n",
      "\t\t1 --> 5 of Hearts\n",
      "\t\t2 --> 8 of Clubs\n",
      "\t\t3 --> Jack of Clubs\n",
      "\t\t4 --> Queen of Hearts\n",
      "\t\t5 --> 4 of Hearts\n"
     ]
    },
    {
     "name": "stdin",
     "output_type": "stream",
     "text": [
      "\n",
      "From the computer: Do you have a King? (y/n)  n\n"
     ]
    },
    {
     "name": "stdout",
     "output_type": "stream",
     "text": [
      "Here are your current cards:\n",
      "['2 of Diamonds', '4 of Hearts', '5 of Hearts', '8 of Clubs', 'Jack of Clubs', 'Queen of Hearts']\n",
      "\n",
      "\n",
      "\tPlayer's hand: \n",
      "\t\t0 --> 2 of Diamonds\n",
      "\t\t1 --> 4 of Hearts\n",
      "\t\t2 --> 5 of Hearts\n",
      "\t\t3 --> 8 of Clubs\n",
      "\t\t4 --> Jack of Clubs\n",
      "\t\t5 --> Queen of Hearts\n"
     ]
    },
    {
     "name": "stdin",
     "output_type": "stream",
     "text": [
      "\n",
      "\n",
      "Please select the number for the card you want from the above list 1\n"
     ]
    },
    {
     "name": "stdout",
     "output_type": "stream",
     "text": [
      "Here is your card: 4 of Clubs.\n",
      "\n",
      "\tPlayer's hand: \n",
      "\t\t0 --> 2 of Diamonds\n",
      "\t\t1 --> 5 of Hearts\n",
      "\t\t2 --> 8 of Clubs\n",
      "\t\t3 --> Jack of Clubs\n",
      "\t\t4 --> Queen of Hearts\n"
     ]
    },
    {
     "name": "stdin",
     "output_type": "stream",
     "text": [
      "\n",
      "From the computer: Do you have a King? (y/n)  0\n"
     ]
    },
    {
     "name": "stdout",
     "output_type": "stream",
     "text": [
      "Here are your current cards:\n",
      "['2 of Diamonds', '5 of Hearts', '8 of Clubs', 'Jack of Clubs', 'Queen of Hearts']\n",
      "\n",
      "\n",
      "\tPlayer's hand: \n",
      "\t\t0 --> 2 of Diamonds\n",
      "\t\t1 --> 5 of Hearts\n",
      "\t\t2 --> 8 of Clubs\n",
      "\t\t3 --> Jack of Clubs\n",
      "\t\t4 --> Queen of Hearts\n"
     ]
    },
    {
     "name": "stdin",
     "output_type": "stream",
     "text": [
      "\n",
      "\n",
      "Please select the number for the card you want from the above list 0\n"
     ]
    },
    {
     "name": "stdout",
     "output_type": "stream",
     "text": [
      "\n",
      "Go Fish\n",
      "\n",
      "You drew a 3 of Clubs\n",
      "\n",
      "\tPlayer's hand: \n",
      "\t\t0 --> 2 of Diamonds\n",
      "\t\t1 --> 5 of Hearts\n",
      "\t\t2 --> 8 of Clubs\n",
      "\t\t3 --> Jack of Clubs\n",
      "\t\t4 --> Queen of Hearts\n",
      "\t\t5 --> 3 of Clubs\n"
     ]
    },
    {
     "name": "stdin",
     "output_type": "stream",
     "text": [
      "\n",
      "From the computer: Do you have a 7? (y/n)  0\n"
     ]
    },
    {
     "name": "stdout",
     "output_type": "stream",
     "text": [
      "Here are your current cards:\n",
      "['2 of Diamonds', '3 of Clubs', '5 of Hearts', '8 of Clubs', 'Jack of Clubs', 'Queen of Hearts']\n",
      "\n",
      "\n",
      "\tPlayer's hand: \n",
      "\t\t0 --> 2 of Diamonds\n",
      "\t\t1 --> 3 of Clubs\n",
      "\t\t2 --> 5 of Hearts\n",
      "\t\t3 --> 8 of Clubs\n",
      "\t\t4 --> Jack of Clubs\n",
      "\t\t5 --> Queen of Hearts\n"
     ]
    },
    {
     "name": "stdin",
     "output_type": "stream",
     "text": [
      "\n",
      "\n",
      "Please select the number for the card you want from the above list 0\n"
     ]
    },
    {
     "name": "stdout",
     "output_type": "stream",
     "text": [
      "\n",
      "Go Fish\n",
      "\n",
      "You drew a Jack of Hearts\n",
      "\n",
      "\tPlayer's hand: \n",
      "\t\t0 --> 2 of Diamonds\n",
      "\t\t1 --> 3 of Clubs\n",
      "\t\t2 --> 5 of Hearts\n",
      "\t\t3 --> 8 of Clubs\n",
      "\t\t4 --> Queen of Hearts\n"
     ]
    },
    {
     "name": "stdin",
     "output_type": "stream",
     "text": [
      "\n",
      "From the computer: Do you have a 8? (y/n)  0\n"
     ]
    },
    {
     "name": "stdout",
     "output_type": "stream",
     "text": [
      "Here are your current cards:\n",
      "['2 of Diamonds', '3 of Clubs', '5 of Hearts', '8 of Clubs', 'Queen of Hearts']\n",
      "\n",
      "\n",
      "\tPlayer's hand: \n",
      "\t\t0 --> 2 of Diamonds\n",
      "\t\t1 --> 3 of Clubs\n",
      "\t\t2 --> 5 of Hearts\n",
      "\t\t3 --> 8 of Clubs\n",
      "\t\t4 --> Queen of Hearts\n"
     ]
    },
    {
     "name": "stdin",
     "output_type": "stream",
     "text": [
      "\n",
      "\n",
      "Please select the number for the card you want from the above list 0\n"
     ]
    },
    {
     "name": "stdout",
     "output_type": "stream",
     "text": [
      "\n",
      "Go Fish\n",
      "\n",
      "You drew a 8 of Spades\n",
      "\n",
      "\tPlayer's hand: \n",
      "\t\t0 --> 2 of Diamonds\n",
      "\t\t1 --> 3 of Clubs\n",
      "\t\t2 --> 5 of Hearts\n",
      "\t\t3 --> Queen of Hearts\n"
     ]
    },
    {
     "name": "stdin",
     "output_type": "stream",
     "text": [
      "\n",
      "From the computer: Do you have a 7? (y/n)  00\n"
     ]
    },
    {
     "name": "stdout",
     "output_type": "stream",
     "text": [
      "Here are your current cards:\n",
      "['2 of Diamonds', '3 of Clubs', '5 of Hearts', 'Queen of Hearts']\n",
      "\n",
      "\n",
      "\tPlayer's hand: \n",
      "\t\t0 --> 2 of Diamonds\n",
      "\t\t1 --> 3 of Clubs\n",
      "\t\t2 --> 5 of Hearts\n",
      "\t\t3 --> Queen of Hearts\n"
     ]
    },
    {
     "name": "stdin",
     "output_type": "stream",
     "text": [
      "\n",
      "\n",
      "Please select the number for the card you want from the above list 0\n"
     ]
    },
    {
     "name": "stdout",
     "output_type": "stream",
     "text": [
      "\n",
      "Go Fish\n",
      "\n",
      "You drew a 6 of Hearts\n",
      "\n",
      "\tPlayer's hand: \n",
      "\t\t0 --> 2 of Diamonds\n",
      "\t\t1 --> 3 of Clubs\n",
      "\t\t2 --> 5 of Hearts\n",
      "\t\t3 --> Queen of Hearts\n",
      "\t\t4 --> 6 of Hearts\n"
     ]
    },
    {
     "name": "stdin",
     "output_type": "stream",
     "text": [
      "\n",
      "From the computer: Do you have a 8? (y/n)  0\n"
     ]
    },
    {
     "name": "stdout",
     "output_type": "stream",
     "text": [
      "Here are your current cards:\n",
      "['2 of Diamonds', '3 of Clubs', '5 of Hearts', '6 of Hearts', 'Queen of Hearts']\n",
      "\n",
      "\n",
      "\tPlayer's hand: \n",
      "\t\t0 --> 2 of Diamonds\n",
      "\t\t1 --> 3 of Clubs\n",
      "\t\t2 --> 5 of Hearts\n",
      "\t\t3 --> 6 of Hearts\n",
      "\t\t4 --> Queen of Hearts\n"
     ]
    },
    {
     "name": "stdin",
     "output_type": "stream",
     "text": [
      "\n",
      "\n",
      "Please select the number for the card you want from the above list 0\n"
     ]
    },
    {
     "name": "stdout",
     "output_type": "stream",
     "text": [
      "\n",
      "Go Fish\n",
      "\n",
      "You drew a 5 of Diamonds\n",
      "\n",
      "\tPlayer's hand: \n",
      "\t\t0 --> 2 of Diamonds\n",
      "\t\t1 --> 3 of Clubs\n",
      "\t\t2 --> 6 of Hearts\n",
      "\t\t3 --> Queen of Hearts\n"
     ]
    },
    {
     "name": "stdin",
     "output_type": "stream",
     "text": [
      "\n",
      "From the computer: Do you have a 8? (y/n)  0\n"
     ]
    },
    {
     "name": "stdout",
     "output_type": "stream",
     "text": [
      "Here are your current cards:\n",
      "['2 of Diamonds', '3 of Clubs', '6 of Hearts', 'Queen of Hearts']\n",
      "\n",
      "\n",
      "\tPlayer's hand: \n",
      "\t\t0 --> 2 of Diamonds\n",
      "\t\t1 --> 3 of Clubs\n",
      "\t\t2 --> 6 of Hearts\n",
      "\t\t3 --> Queen of Hearts\n"
     ]
    },
    {
     "name": "stdin",
     "output_type": "stream",
     "text": [
      "\n",
      "\n",
      "Please select the number for the card you want from the above list 0\n"
     ]
    },
    {
     "name": "stdout",
     "output_type": "stream",
     "text": [
      "\n",
      "Go Fish\n",
      "\n",
      "You drew a 8 of Hearts\n",
      "\n",
      "\tPlayer's hand: \n",
      "\t\t0 --> 2 of Diamonds\n",
      "\t\t1 --> 3 of Clubs\n",
      "\t\t2 --> 6 of Hearts\n",
      "\t\t3 --> Queen of Hearts\n",
      "\t\t4 --> 8 of Hearts\n"
     ]
    },
    {
     "name": "stdin",
     "output_type": "stream",
     "text": [
      "\n",
      "From the computer: Do you have a 8? (y/n)  0\n"
     ]
    },
    {
     "name": "stdout",
     "output_type": "stream",
     "text": [
      "Here are your current cards:\n",
      "['2 of Diamonds', '3 of Clubs', '6 of Hearts', '8 of Hearts', 'Queen of Hearts']\n",
      "\n",
      "\n",
      "\tPlayer's hand: \n",
      "\t\t0 --> 2 of Diamonds\n",
      "\t\t1 --> 3 of Clubs\n",
      "\t\t2 --> 6 of Hearts\n",
      "\t\t3 --> 8 of Hearts\n",
      "\t\t4 --> Queen of Hearts\n"
     ]
    },
    {
     "name": "stdin",
     "output_type": "stream",
     "text": [
      "\n",
      "\n",
      "Please select the number for the card you want from the above list 0\n"
     ]
    },
    {
     "name": "stdout",
     "output_type": "stream",
     "text": [
      "\n",
      "Go Fish\n",
      "\n",
      "You drew a 7 of Spades\n",
      "\n",
      "\tPlayer's hand: \n",
      "\t\t0 --> 2 of Diamonds\n",
      "\t\t1 --> 3 of Clubs\n",
      "\t\t2 --> 6 of Hearts\n",
      "\t\t3 --> 8 of Hearts\n",
      "\t\t4 --> Queen of Hearts\n",
      "\t\t5 --> 7 of Spades\n"
     ]
    },
    {
     "name": "stdin",
     "output_type": "stream",
     "text": [
      "\n",
      "From the computer: Do you have a 7? (y/n)  0\n"
     ]
    },
    {
     "name": "stdout",
     "output_type": "stream",
     "text": [
      "Here are your current cards:\n",
      "['2 of Diamonds', '3 of Clubs', '6 of Hearts', '7 of Spades', '8 of Hearts', 'Queen of Hearts']\n",
      "\n",
      "\n",
      "\tPlayer's hand: \n",
      "\t\t0 --> 2 of Diamonds\n",
      "\t\t1 --> 3 of Clubs\n",
      "\t\t2 --> 6 of Hearts\n",
      "\t\t3 --> 7 of Spades\n",
      "\t\t4 --> 8 of Hearts\n",
      "\t\t5 --> Queen of Hearts\n"
     ]
    },
    {
     "name": "stdin",
     "output_type": "stream",
     "text": [
      "\n",
      "\n",
      "Please select the number for the card you want from the above list 00\n"
     ]
    },
    {
     "name": "stdout",
     "output_type": "stream",
     "text": [
      "\n",
      "Go Fish\n",
      "\n",
      "You drew a Ace of Diamonds\n",
      "\n",
      "\tPlayer's hand: \n",
      "\t\t0 --> 2 of Diamonds\n",
      "\t\t1 --> 3 of Clubs\n",
      "\t\t2 --> 6 of Hearts\n",
      "\t\t3 --> 7 of Spades\n",
      "\t\t4 --> 8 of Hearts\n",
      "\t\t5 --> Queen of Hearts\n",
      "\t\t6 --> Ace of Diamonds\n"
     ]
    },
    {
     "name": "stdin",
     "output_type": "stream",
     "text": [
      "\n",
      "From the computer: Do you have a 4? (y/n)  0\n"
     ]
    },
    {
     "name": "stdout",
     "output_type": "stream",
     "text": [
      "Here are your current cards:\n",
      "['2 of Diamonds', '3 of Clubs', '6 of Hearts', '7 of Spades', '8 of Hearts', 'Ace of Diamonds', 'Queen of Hearts']\n",
      "\n",
      "\n",
      "\tPlayer's hand: \n",
      "\t\t0 --> 2 of Diamonds\n",
      "\t\t1 --> 3 of Clubs\n",
      "\t\t2 --> 6 of Hearts\n",
      "\t\t3 --> 7 of Spades\n",
      "\t\t4 --> 8 of Hearts\n",
      "\t\t5 --> Ace of Diamonds\n",
      "\t\t6 --> Queen of Hearts\n"
     ]
    },
    {
     "name": "stdin",
     "output_type": "stream",
     "text": [
      "\n",
      "\n",
      "Please select the number for the card you want from the above list 0\n"
     ]
    },
    {
     "name": "stdout",
     "output_type": "stream",
     "text": [
      "\n",
      "Go Fish\n",
      "\n",
      "You drew a 5 of Clubs\n",
      "\n",
      "\tPlayer's hand: \n",
      "\t\t0 --> 2 of Diamonds\n",
      "\t\t1 --> 3 of Clubs\n",
      "\t\t2 --> 6 of Hearts\n",
      "\t\t3 --> 7 of Spades\n",
      "\t\t4 --> 8 of Hearts\n",
      "\t\t5 --> Ace of Diamonds\n",
      "\t\t6 --> Queen of Hearts\n",
      "\t\t7 --> 5 of Clubs\n"
     ]
    },
    {
     "name": "stdin",
     "output_type": "stream",
     "text": [
      "\n",
      "From the computer: Do you have a King? (y/n)  0\n"
     ]
    },
    {
     "name": "stdout",
     "output_type": "stream",
     "text": [
      "Here are your current cards:\n",
      "['2 of Diamonds', '3 of Clubs', '5 of Clubs', '6 of Hearts', '7 of Spades', '8 of Hearts', 'Ace of Diamonds', 'Queen of Hearts']\n",
      "\n",
      "\n",
      "\tPlayer's hand: \n",
      "\t\t0 --> 2 of Diamonds\n",
      "\t\t1 --> 3 of Clubs\n",
      "\t\t2 --> 5 of Clubs\n",
      "\t\t3 --> 6 of Hearts\n",
      "\t\t4 --> 7 of Spades\n",
      "\t\t5 --> 8 of Hearts\n",
      "\t\t6 --> Ace of Diamonds\n",
      "\t\t7 --> Queen of Hearts\n"
     ]
    },
    {
     "name": "stdin",
     "output_type": "stream",
     "text": [
      "\n",
      "\n",
      "Please select the number for the card you want from the above list 0\n"
     ]
    },
    {
     "name": "stdout",
     "output_type": "stream",
     "text": [
      "\n",
      "Go Fish\n",
      "\n",
      "You drew a 9 of Spades\n",
      "\n",
      "\tPlayer's hand: \n",
      "\t\t0 --> 2 of Diamonds\n",
      "\t\t1 --> 3 of Clubs\n",
      "\t\t2 --> 5 of Clubs\n",
      "\t\t3 --> 6 of Hearts\n",
      "\t\t4 --> 7 of Spades\n",
      "\t\t5 --> 8 of Hearts\n",
      "\t\t6 --> Ace of Diamonds\n",
      "\t\t7 --> Queen of Hearts\n",
      "\t\t8 --> 9 of Spades\n"
     ]
    },
    {
     "name": "stdin",
     "output_type": "stream",
     "text": [
      "\n",
      "From the computer: Do you have a 9? (y/n)  0\n"
     ]
    },
    {
     "name": "stdout",
     "output_type": "stream",
     "text": [
      "Here are your current cards:\n",
      "['2 of Diamonds', '3 of Clubs', '5 of Clubs', '6 of Hearts', '7 of Spades', '8 of Hearts', '9 of Spades', 'Ace of Diamonds', 'Queen of Hearts']\n",
      "\n",
      "\n",
      "\tPlayer's hand: \n",
      "\t\t0 --> 2 of Diamonds\n",
      "\t\t1 --> 3 of Clubs\n",
      "\t\t2 --> 5 of Clubs\n",
      "\t\t3 --> 6 of Hearts\n",
      "\t\t4 --> 7 of Spades\n",
      "\t\t5 --> 8 of Hearts\n",
      "\t\t6 --> 9 of Spades\n",
      "\t\t7 --> Ace of Diamonds\n",
      "\t\t8 --> Queen of Hearts\n"
     ]
    },
    {
     "name": "stdin",
     "output_type": "stream",
     "text": [
      "\n",
      "\n",
      "Please select the number for the card you want from the above list 0\n"
     ]
    },
    {
     "name": "stdout",
     "output_type": "stream",
     "text": [
      "\n",
      "Go Fish\n",
      "\n",
      "You drew a 4 of Diamonds\n",
      "\n",
      "\tPlayer's hand: \n",
      "\t\t0 --> 2 of Diamonds\n",
      "\t\t1 --> 3 of Clubs\n",
      "\t\t2 --> 5 of Clubs\n",
      "\t\t3 --> 6 of Hearts\n",
      "\t\t4 --> 7 of Spades\n",
      "\t\t5 --> 8 of Hearts\n",
      "\t\t6 --> 9 of Spades\n",
      "\t\t7 --> Ace of Diamonds\n",
      "\t\t8 --> Queen of Hearts\n",
      "\t\t9 --> 4 of Diamonds\n"
     ]
    },
    {
     "name": "stdin",
     "output_type": "stream",
     "text": [
      "\n",
      "From the computer: Do you have a Ace? (y/n)  0\n"
     ]
    },
    {
     "name": "stdout",
     "output_type": "stream",
     "text": [
      "Here are your current cards:\n",
      "['2 of Diamonds', '3 of Clubs', '4 of Diamonds', '5 of Clubs', '6 of Hearts', '7 of Spades', '8 of Hearts', '9 of Spades', 'Ace of Diamonds', 'Queen of Hearts']\n",
      "\n",
      "\n",
      "\tPlayer's hand: \n",
      "\t\t0 --> 2 of Diamonds\n",
      "\t\t1 --> 3 of Clubs\n",
      "\t\t2 --> 4 of Diamonds\n",
      "\t\t3 --> 5 of Clubs\n",
      "\t\t4 --> 6 of Hearts\n",
      "\t\t5 --> 7 of Spades\n",
      "\t\t6 --> 8 of Hearts\n",
      "\t\t7 --> 9 of Spades\n",
      "\t\t8 --> Ace of Diamonds\n",
      "\t\t9 --> Queen of Hearts\n"
     ]
    },
    {
     "name": "stdin",
     "output_type": "stream",
     "text": [
      "\n",
      "\n",
      "Please select the number for the card you want from the above list 0\n"
     ]
    },
    {
     "name": "stdout",
     "output_type": "stream",
     "text": [
      "\n",
      "Go Fish\n",
      "\n",
      "You drew a Jack of Spades\n",
      "\n",
      "\tPlayer's hand: \n",
      "\t\t0 --> 2 of Diamonds\n",
      "\t\t1 --> 3 of Clubs\n",
      "\t\t2 --> 4 of Diamonds\n",
      "\t\t3 --> 5 of Clubs\n",
      "\t\t4 --> 6 of Hearts\n",
      "\t\t5 --> 7 of Spades\n",
      "\t\t6 --> 8 of Hearts\n",
      "\t\t7 --> 9 of Spades\n",
      "\t\t8 --> Ace of Diamonds\n",
      "\t\t9 --> Queen of Hearts\n",
      "\t\t10 --> Jack of Spades\n"
     ]
    },
    {
     "name": "stdin",
     "output_type": "stream",
     "text": [
      "\n",
      "From the computer: Do you have a Queen? (y/n)  0\n"
     ]
    },
    {
     "name": "stdout",
     "output_type": "stream",
     "text": [
      "Here are your current cards:\n",
      "['2 of Diamonds', '3 of Clubs', '4 of Diamonds', '5 of Clubs', '6 of Hearts', '7 of Spades', '8 of Hearts', '9 of Spades', 'Ace of Diamonds', 'Jack of Spades', 'Queen of Hearts']\n",
      "\n",
      "\n",
      "\tPlayer's hand: \n",
      "\t\t0 --> 2 of Diamonds\n",
      "\t\t1 --> 3 of Clubs\n",
      "\t\t2 --> 4 of Diamonds\n",
      "\t\t3 --> 5 of Clubs\n",
      "\t\t4 --> 6 of Hearts\n",
      "\t\t5 --> 7 of Spades\n",
      "\t\t6 --> 8 of Hearts\n",
      "\t\t7 --> 9 of Spades\n",
      "\t\t8 --> Ace of Diamonds\n",
      "\t\t9 --> Jack of Spades\n",
      "\t\t10 --> Queen of Hearts\n"
     ]
    },
    {
     "name": "stdin",
     "output_type": "stream",
     "text": [
      "\n",
      "\n",
      "Please select the number for the card you want from the above list 0\n"
     ]
    },
    {
     "name": "stdout",
     "output_type": "stream",
     "text": [
      "\n",
      "Go Fish\n",
      "\n",
      "You drew a 5 of Spades\n",
      "\n",
      "\tPlayer's hand: \n",
      "\t\t0 --> 2 of Diamonds\n",
      "\t\t1 --> 3 of Clubs\n",
      "\t\t2 --> 4 of Diamonds\n",
      "\t\t3 --> 6 of Hearts\n",
      "\t\t4 --> 7 of Spades\n",
      "\t\t5 --> 8 of Hearts\n",
      "\t\t6 --> 9 of Spades\n",
      "\t\t7 --> Ace of Diamonds\n",
      "\t\t8 --> Jack of Spades\n",
      "\t\t9 --> Queen of Hearts\n"
     ]
    },
    {
     "name": "stdin",
     "output_type": "stream",
     "text": [
      "\n",
      "From the computer: Do you have a 6? (y/n)  0\n"
     ]
    },
    {
     "name": "stdout",
     "output_type": "stream",
     "text": [
      "Here are your current cards:\n",
      "['2 of Diamonds', '3 of Clubs', '4 of Diamonds', '6 of Hearts', '7 of Spades', '8 of Hearts', '9 of Spades', 'Ace of Diamonds', 'Jack of Spades', 'Queen of Hearts']\n",
      "\n",
      "\n",
      "\tPlayer's hand: \n",
      "\t\t0 --> 2 of Diamonds\n",
      "\t\t1 --> 3 of Clubs\n",
      "\t\t2 --> 4 of Diamonds\n",
      "\t\t3 --> 6 of Hearts\n",
      "\t\t4 --> 7 of Spades\n",
      "\t\t5 --> 8 of Hearts\n",
      "\t\t6 --> 9 of Spades\n",
      "\t\t7 --> Ace of Diamonds\n",
      "\t\t8 --> Jack of Spades\n",
      "\t\t9 --> Queen of Hearts\n"
     ]
    },
    {
     "name": "stdin",
     "output_type": "stream",
     "text": [
      "\n",
      "\n",
      "Please select the number for the card you want from the above list 0\n"
     ]
    },
    {
     "name": "stdout",
     "output_type": "stream",
     "text": [
      "Here is your card: 2 of Clubs.\n",
      "\n",
      "\tPlayer's hand: \n",
      "\t\t0 --> 3 of Clubs\n",
      "\t\t1 --> 4 of Diamonds\n",
      "\t\t2 --> 6 of Hearts\n",
      "\t\t3 --> 7 of Spades\n",
      "\t\t4 --> 8 of Hearts\n",
      "\t\t5 --> 9 of Spades\n",
      "\t\t6 --> Ace of Diamonds\n",
      "\t\t7 --> Jack of Spades\n",
      "\t\t8 --> Queen of Hearts\n"
     ]
    },
    {
     "name": "stdin",
     "output_type": "stream",
     "text": [
      "\n",
      "From the computer: Do you have a 8? (y/n)  0\n"
     ]
    },
    {
     "name": "stdout",
     "output_type": "stream",
     "text": [
      "Here are your current cards:\n",
      "['3 of Clubs', '4 of Diamonds', '6 of Hearts', '7 of Spades', '8 of Hearts', '9 of Spades', 'Ace of Diamonds', 'Jack of Spades', 'Queen of Hearts']\n",
      "\n",
      "\n",
      "\tPlayer's hand: \n",
      "\t\t0 --> 3 of Clubs\n",
      "\t\t1 --> 4 of Diamonds\n",
      "\t\t2 --> 6 of Hearts\n",
      "\t\t3 --> 7 of Spades\n",
      "\t\t4 --> 8 of Hearts\n",
      "\t\t5 --> 9 of Spades\n",
      "\t\t6 --> Ace of Diamonds\n",
      "\t\t7 --> Jack of Spades\n",
      "\t\t8 --> Queen of Hearts\n"
     ]
    },
    {
     "name": "stdin",
     "output_type": "stream",
     "text": [
      "\n",
      "\n",
      "Please select the number for the card you want from the above list 0\n"
     ]
    },
    {
     "name": "stdout",
     "output_type": "stream",
     "text": [
      "Here is your card: 3 of Hearts.\n",
      "\n",
      "\tPlayer's hand: \n",
      "\t\t0 --> 4 of Diamonds\n",
      "\t\t1 --> 6 of Hearts\n",
      "\t\t2 --> 7 of Spades\n",
      "\t\t3 --> 8 of Hearts\n",
      "\t\t4 --> 9 of Spades\n",
      "\t\t5 --> Ace of Diamonds\n",
      "\t\t6 --> Jack of Spades\n",
      "\t\t7 --> Queen of Hearts\n"
     ]
    },
    {
     "name": "stdin",
     "output_type": "stream",
     "text": [
      "\n",
      "From the computer: Do you have a 8? (y/n)  0\n"
     ]
    },
    {
     "name": "stdout",
     "output_type": "stream",
     "text": [
      "Here are your current cards:\n",
      "['4 of Diamonds', '6 of Hearts', '7 of Spades', '8 of Hearts', '9 of Spades', 'Ace of Diamonds', 'Jack of Spades', 'Queen of Hearts']\n",
      "\n",
      "\n",
      "\tPlayer's hand: \n",
      "\t\t0 --> 4 of Diamonds\n",
      "\t\t1 --> 6 of Hearts\n",
      "\t\t2 --> 7 of Spades\n",
      "\t\t3 --> 8 of Hearts\n",
      "\t\t4 --> 9 of Spades\n",
      "\t\t5 --> Ace of Diamonds\n",
      "\t\t6 --> Jack of Spades\n",
      "\t\t7 --> Queen of Hearts\n"
     ]
    },
    {
     "name": "stdin",
     "output_type": "stream",
     "text": [
      "\n",
      "\n",
      "Please select the number for the card you want from the above list 0\n"
     ]
    },
    {
     "name": "stdout",
     "output_type": "stream",
     "text": [
      "Here is your card: 4 of Spades.\n",
      "\n",
      "\tPlayer's hand: \n",
      "\t\t0 --> 6 of Hearts\n",
      "\t\t1 --> 7 of Spades\n",
      "\t\t2 --> 8 of Hearts\n",
      "\t\t3 --> 9 of Spades\n",
      "\t\t4 --> Ace of Diamonds\n",
      "\t\t5 --> Jack of Spades\n",
      "\t\t6 --> Queen of Hearts\n"
     ]
    },
    {
     "name": "stdin",
     "output_type": "stream",
     "text": [
      "\n",
      "From the computer: Do you have a 9? (y/n)  0\n"
     ]
    },
    {
     "name": "stdout",
     "output_type": "stream",
     "text": [
      "Here are your current cards:\n",
      "['6 of Hearts', '7 of Spades', '8 of Hearts', '9 of Spades', 'Ace of Diamonds', 'Jack of Spades', 'Queen of Hearts']\n",
      "\n",
      "\n",
      "\tPlayer's hand: \n",
      "\t\t0 --> 6 of Hearts\n",
      "\t\t1 --> 7 of Spades\n",
      "\t\t2 --> 8 of Hearts\n",
      "\t\t3 --> 9 of Spades\n",
      "\t\t4 --> Ace of Diamonds\n",
      "\t\t5 --> Jack of Spades\n",
      "\t\t6 --> Queen of Hearts\n"
     ]
    },
    {
     "name": "stdin",
     "output_type": "stream",
     "text": [
      "\n",
      "\n",
      "Please select the number for the card you want from the above list 0\n"
     ]
    },
    {
     "name": "stdout",
     "output_type": "stream",
     "text": [
      "Here is your card: 6 of Clubs.\n",
      "\n",
      "\tPlayer's hand: \n",
      "\t\t0 --> 7 of Spades\n",
      "\t\t1 --> 8 of Hearts\n",
      "\t\t2 --> 9 of Spades\n",
      "\t\t3 --> Ace of Diamonds\n",
      "\t\t4 --> Jack of Spades\n",
      "\t\t5 --> Queen of Hearts\n"
     ]
    },
    {
     "name": "stdin",
     "output_type": "stream",
     "text": [
      "\n",
      "From the computer: Do you have a Queen? (y/n)  0\n"
     ]
    },
    {
     "name": "stdout",
     "output_type": "stream",
     "text": [
      "Game over.\n",
      "The game is over. The player Won!\n"
     ]
    }
   ],
   "source": [
    "import cards\n",
    "import random\n",
    "\n",
    "def playersHand():\n",
    "    print(\"\\n\\tPlayer's hand: \")\n",
    "    for n, card in enumerate(player):\n",
    "        print(f\"\\t\\t{n} --> {card}\")\n",
    "\n",
    "deck = cards.generateDeck()\n",
    "\n",
    "computer = []\n",
    "player = []\n",
    "\n",
    "for _ in range(7):\n",
    "    computer.append(deck.pop())\n",
    "    player.append(deck.pop())\n",
    "\n",
    "\n",
    "\n",
    "player_pairs = []\n",
    "computer_pairs = []\n",
    "\n",
    "\n",
    "player, pairs = cards.identify_remove_pairs(player)\n",
    "player_pairs.extend(pairs)\n",
    "computer, pairs = cards.identify_remove_pairs(computer)\n",
    "computer_pairs.extend(pairs)\n",
    "\n",
    "while True:\n",
    "    player.sort()\n",
    "\n",
    "    print(f\"Here are your current cards:\\n{player}\\n\")\n",
    "    ## print(f\"Here are the computers current cards:\\n{computer}\")\n",
    "\n",
    "    playersHand()\n",
    "    \n",
    "    choice = input(\"\\n\\nPlease select the number for the card you want from the above list\")\n",
    "    selection = player[ int(choice) ]\n",
    "    value = selection[: selection.find(\" \")]\n",
    "    \n",
    "    found_it = False\n",
    "    for n, card in enumerate(computer):\n",
    "        if card.startswith(value):\n",
    "            found_it = n\n",
    "            break\n",
    "    \n",
    "    \n",
    "    if isinstance(found_it, bool):\n",
    "        # go fish code\n",
    "        print(\"\\nGo Fish\\n\")\n",
    "        player.append(deck.pop())\n",
    "        print(f\"You drew a {player[-1]}\")\n",
    "        if len(deck) == 0:\n",
    "            break\n",
    "    else:\n",
    "        # swap code\n",
    "        print(f\"Here is your card: {computer[n]}.\")\n",
    "        player.append(computer.pop(n))\n",
    "    \n",
    "    player, pairs = cards.identify_remove_pairs(player)\n",
    "    player_pairs.extend(pairs)\n",
    "    \n",
    "    \n",
    "    if len(player) == 0:\n",
    "        print(\"The game is over. The player Won!\")\n",
    "        break\n",
    "    if len(computer) == 0:\n",
    "        print(\"The game is over. The computer Won!\")\n",
    "        break\n",
    "    \n",
    "    playersHand()\n",
    "    \n",
    "    card = random.choice(computer)\n",
    "    value = card[: card.find(\" \")]\n",
    "    \n",
    "    choice = input(f\"\\nFrom the computer: Do you have a {value}? (y/n) \")\n",
    "    \n",
    "    if choice in [\"y\", \"Y\", \"yes\", \"Yes\", \"YES\"]:\n",
    "        # swap code\n",
    "        for n, card in enumerate(player):\n",
    "            if card.startswith(value):\n",
    "                break\n",
    "    \n",
    "        computer.append(player.pop(n))\n",
    "    else:\n",
    "        # go fish code\n",
    "        computer.append(deck.pop())\n",
    "        if len(deck) == 0:\n",
    "            break\n",
    "        \n",
    "    computer, pairs = cards.identify_remove_pairs(computer)\n",
    "    computer_pairs.extend(pairs)\n",
    "    \n",
    "    if len(computer) == 0:\n",
    "        print(\"The game is over. The computer Won!\")\n",
    "        break\n",
    "    if len(player) == 0:\n",
    "        print(\"The game is over. The player Won!\")\n",
    "        break\n",
    "\n",
    "## who has won??\n",
    "if len(deck) == 0:\n",
    "    print(\"Game over. Deck is Empty!\")\n",
    "    if len(player_pairs) == len(computer_pairs):\n",
    "        print(\"It's a Draw\")\n",
    "    elif len(player_pairs) > len(computer_pairs):\n",
    "        print(\"The game is over. The player Won!\")\n",
    "    else:\n",
    "        print(\"The game is over. The computer Won!\")"
   ]
  },
  {
   "cell_type": "code",
   "execution_count": null,
   "id": "59fe4f15-2c8c-4437-94b0-8aec4e780ffc",
   "metadata": {},
   "outputs": [],
   "source": [
    "print(f\"player: {player}\")\n",
    "print(f\"player Pairs: {player_pairs}\\n\\n\")\n",
    "print(f\"computer: {computer}\")\n",
    "print(f\"computer Pairs: {computer_pairs}\\n\\n\")"
   ]
  },
  {
   "cell_type": "code",
   "execution_count": null,
   "id": "b0fdb690-18f8-4976-9109-d2e19d263130",
   "metadata": {},
   "outputs": [],
   "source": []
  }
 ],
 "metadata": {
  "kernelspec": {
   "display_name": "Python 3 (ipykernel)",
   "language": "python",
   "name": "python3"
  },
  "language_info": {
   "codemirror_mode": {
    "name": "ipython",
    "version": 3
   },
   "file_extension": ".py",
   "mimetype": "text/x-python",
   "name": "python",
   "nbconvert_exporter": "python",
   "pygments_lexer": "ipython3",
   "version": "3.12.6"
  }
 },
 "nbformat": 4,
 "nbformat_minor": 5
}
