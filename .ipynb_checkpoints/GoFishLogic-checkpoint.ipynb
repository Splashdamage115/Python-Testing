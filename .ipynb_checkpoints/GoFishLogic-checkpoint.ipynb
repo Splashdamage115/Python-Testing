{
 "cells": [
  {
   "cell_type": "code",
   "execution_count": null,
   "id": "29e4ce76-4e85-48fe-a329-5df64467f581",
   "metadata": {},
   "outputs": [],
   "source": [
    "import cards"
   ]
  },
  {
   "cell_type": "code",
   "execution_count": null,
   "id": "3ed99758-cd61-4285-8516-14196ec63654",
   "metadata": {},
   "outputs": [],
   "source": [
    "deck = cards.build_deck()"
   ]
  },
  {
   "cell_type": "code",
   "execution_count": null,
   "id": "abccf408-9b2f-4886-aa93-0ef1449b05e7",
   "metadata": {},
   "outputs": [],
   "source": [
    "len(deck)"
   ]
  },
  {
   "cell_type": "code",
   "execution_count": null,
   "id": "c3ba5eaf-7536-4790-8682-514595c6c68b",
   "metadata": {},
   "outputs": [],
   "source": [
    "computer = []"
   ]
  },
  {
   "cell_type": "code",
   "execution_count": null,
   "id": "8eca2781-9d4e-4d1f-9073-bcba341eac09",
   "metadata": {},
   "outputs": [],
   "source": [
    "player = []"
   ]
  },
  {
   "cell_type": "code",
   "execution_count": null,
   "id": "99251dd4-7654-4128-a213-be42d2f1551c",
   "metadata": {},
   "outputs": [],
   "source": [
    "for n in range(7):\n",
    "    print(n)"
   ]
  },
  {
   "cell_type": "code",
   "execution_count": null,
   "id": "7cec54d5-5ff8-46f3-a43e-8a24c5a75a57",
   "metadata": {},
   "outputs": [],
   "source": [
    "for _ in range(7):\n",
    "    print(\"I looped!\")"
   ]
  },
  {
   "cell_type": "code",
   "execution_count": null,
   "id": "a72ad3b6-82cc-4ef4-9466-1eb72358fefa",
   "metadata": {},
   "outputs": [],
   "source": [
    "_ = 42"
   ]
  },
  {
   "cell_type": "code",
   "execution_count": null,
   "id": "72968fe1-35e6-444e-88d9-0e01e6ac255f",
   "metadata": {},
   "outputs": [],
   "source": [
    "_"
   ]
  },
  {
   "cell_type": "code",
   "execution_count": null,
   "id": "e7beeb6b-1df5-4f62-9480-5fbadae4efc2",
   "metadata": {},
   "outputs": [],
   "source": [
    "for _ in range(7):\n",
    "    computer.append(deck.pop())\n",
    "    player.append(deck.pop())"
   ]
  },
  {
   "cell_type": "code",
   "execution_count": null,
   "id": "c98a8adf-e078-4c80-a6d7-3765fce3407a",
   "metadata": {},
   "outputs": [],
   "source": [
    "len(deck)"
   ]
  },
  {
   "cell_type": "code",
   "execution_count": null,
   "id": "a2f92d99-2c38-4a82-9186-e016cd4b8f36",
   "metadata": {},
   "outputs": [],
   "source": [
    "print(computer)"
   ]
  },
  {
   "cell_type": "code",
   "execution_count": null,
   "id": "9e5d9d8a-cf54-4030-b74d-6055e848f6f7",
   "metadata": {},
   "outputs": [],
   "source": [
    "print(player)"
   ]
  },
  {
   "cell_type": "code",
   "execution_count": null,
   "id": "71903a15-e551-4963-af2f-adde316a0fb6",
   "metadata": {},
   "outputs": [],
   "source": [
    "import cards\n",
    "\n",
    "deck = cards.build_deck()\n",
    "\n",
    "computer = []\n",
    "player = []\n",
    "\n",
    "for _ in range(7):\n",
    "    computer.append(deck.pop())\n",
    "    player.append(deck.pop())\n",
    "\n",
    "print(f\"Here are your current cards:\\n\\n{player}\")"
   ]
  },
  {
   "cell_type": "code",
   "execution_count": null,
   "id": "b306d89b-4eef-4462-ba86-cf5104877245",
   "metadata": {},
   "outputs": [],
   "source": [
    "computer"
   ]
  },
  {
   "cell_type": "code",
   "execution_count": null,
   "id": "f2b766a4-f2b8-49f2-b1f2-69531448554d",
   "metadata": {},
   "outputs": [],
   "source": [
    "player"
   ]
  },
  {
   "cell_type": "code",
   "execution_count": null,
   "id": "3ae3db93-398c-498e-8f32-0de019c231ef",
   "metadata": {},
   "outputs": [],
   "source": [
    "player.sort()"
   ]
  },
  {
   "cell_type": "code",
   "execution_count": null,
   "id": "9a348ecc-b784-4cfb-b19b-2e4e13524ead",
   "metadata": {},
   "outputs": [],
   "source": [
    "player"
   ]
  },
  {
   "cell_type": "code",
   "execution_count": null,
   "id": "9536f524-d9e8-4631-afb9-ab2bed2366eb",
   "metadata": {},
   "outputs": [],
   "source": [
    "computer.sort()"
   ]
  },
  {
   "cell_type": "code",
   "execution_count": null,
   "id": "5e736371-47e2-4ef8-8121-57281729abad",
   "metadata": {},
   "outputs": [],
   "source": [
    "computer"
   ]
  },
  {
   "cell_type": "code",
   "execution_count": null,
   "id": "a3ef01b3-797c-4062-9826-5f81db452e19",
   "metadata": {},
   "outputs": [],
   "source": [
    "card = \"Queen of Hearts\""
   ]
  },
  {
   "cell_type": "code",
   "execution_count": null,
   "id": "10a2ede6-dfc8-430b-87f3-01d0966af05b",
   "metadata": {},
   "outputs": [],
   "source": [
    "card"
   ]
  },
  {
   "cell_type": "code",
   "execution_count": null,
   "id": "361caa3b-422e-439e-a89a-2606cc83adb4",
   "metadata": {},
   "outputs": [],
   "source": [
    "print(dir(str))"
   ]
  },
  {
   "cell_type": "code",
   "execution_count": null,
   "id": "0e182f7c-c3c6-4a36-9237-12eb58898681",
   "metadata": {},
   "outputs": [],
   "source": [
    "card.find(\" \")"
   ]
  },
  {
   "cell_type": "code",
   "execution_count": null,
   "id": "30a27868-266a-4e83-a206-3fa62821789a",
   "metadata": {},
   "outputs": [],
   "source": [
    "card[:2]"
   ]
  },
  {
   "cell_type": "code",
   "execution_count": null,
   "id": "77fd242d-2d03-4bf7-97f9-7965cbee2255",
   "metadata": {},
   "outputs": [],
   "source": [
    "card[:card.find(\" \")]"
   ]
  },
  {
   "cell_type": "code",
   "execution_count": null,
   "id": "33efbc14-46c1-4c74-a469-c09fc40857a1",
   "metadata": {},
   "outputs": [],
   "source": [
    "player"
   ]
  },
  {
   "cell_type": "raw",
   "id": "94f931f9-870c-4b09-a478-ea67c01f6220",
   "metadata": {},
   "source": [
    "\n",
    "for card in player:\n",
    "    current = card[:card.find(\" \")]\n",
    "    _next = ?????????????\n",
    "    print(current)\n"
   ]
  },
  {
   "cell_type": "code",
   "execution_count": null,
   "id": "445ec6e8-b941-4272-8a71-f00add263681",
   "metadata": {},
   "outputs": [],
   "source": [
    "how_many = len(player)"
   ]
  },
  {
   "cell_type": "code",
   "execution_count": null,
   "id": "a9ee6b0b-b963-494e-9d55-27ab7e0e2211",
   "metadata": {},
   "outputs": [],
   "source": [
    "how_many"
   ]
  },
  {
   "cell_type": "code",
   "execution_count": null,
   "id": "6583320a-0aa5-46dc-9893-8355a11b764c",
   "metadata": {},
   "outputs": [],
   "source": [
    "list(range(how_many))"
   ]
  },
  {
   "cell_type": "code",
   "execution_count": null,
   "id": "12f98da4-f920-4c72-bdd1-ff86d19ce424",
   "metadata": {},
   "outputs": [],
   "source": []
  },
  {
   "cell_type": "code",
   "execution_count": null,
   "id": "24bdbdab-b8b3-41c9-a419-e9a32bec63ae",
   "metadata": {},
   "outputs": [],
   "source": [
    "for i in range(how_many):\n",
    "    current_card = player[i]\n",
    "    _current = current_card[:current_card.find(\" \")]\n",
    "    next_card = player[i+1]\n",
    "    _next = next_card[:next_card.find(\" \")]\n",
    "\n",
    "    print(_current, _next)"
   ]
  },
  {
   "cell_type": "code",
   "execution_count": null,
   "id": "a27d8ed7-c86c-416e-bad6-b3e3448e32c1",
   "metadata": {},
   "outputs": [],
   "source": [
    "player = ['10 of Diamonds',\n",
    "          '10 of Spades',\n",
    "          '4 of Clubs',\n",
    "          '6 of Diamonds',\n",
    "          '8 of Clubs',\n",
    "          'Ace of Clubs',\n",
    "          'King of Clubs']\n",
    "\n",
    "for i in range(how_many):\n",
    "    current_card = player[i]\n",
    "    _current = current_card[:current_card.find(\" \")]\n",
    "    next_card = player[i+1]\n",
    "    _next = next_card[:next_card.find(\" \")]\n",
    "\n",
    "    print(_current, _next)\n",
    "    \n",
    "    if _current == _next:\n",
    "        print(len(player))\n",
    "        print(player.pop(i))\n",
    "        print(player.pop(i+1))\n",
    "        print(len(player))\n",
    "    \n",
    "    print(_current, _next)"
   ]
  },
  {
   "cell_type": "code",
   "execution_count": null,
   "id": "d8ecfc25-a3f4-40e5-aa28-9cd40592280e",
   "metadata": {},
   "outputs": [],
   "source": [
    "player"
   ]
  },
  {
   "cell_type": "code",
   "execution_count": null,
   "id": "7ad75b9b-e1a2-457a-aa1b-dac958b75b0b",
   "metadata": {},
   "outputs": [],
   "source": []
  }
 ],
 "metadata": {
  "kernelspec": {
   "display_name": "Python 3 (ipykernel)",
   "language": "python",
   "name": "python3"
  },
  "language_info": {
   "codemirror_mode": {
    "name": "ipython",
    "version": 3
   },
   "file_extension": ".py",
   "mimetype": "text/x-python",
   "name": "python",
   "nbconvert_exporter": "python",
   "pygments_lexer": "ipython3",
   "version": "3.12.6"
  }
 },
 "nbformat": 4,
 "nbformat_minor": 5
}
